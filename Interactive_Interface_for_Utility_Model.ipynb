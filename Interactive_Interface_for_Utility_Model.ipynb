{
 "cells": [
  {
   "cell_type": "markdown",
   "metadata": {
    "id": "jMRyabW4SKxZ"
   },
   "source": [
    "## Импорт библиотек"
   ]
  },
  {
   "cell_type": "code",
   "execution_count": 162,
   "metadata": {
    "id": "Ngp3Pw8bSKxa"
   },
   "outputs": [],
   "source": [
    "#Импортируем необходимые библиотеки\n",
    "\n",
    "import math\n",
    "import numpy as np # Линейная алгебра и многомерные массивы\n",
    "import pandas as pd # Работа с таблицами данных\n",
    "import matplotlib.pyplot as plt # Графическая библиотека\n",
    "from ipywidgets import widgets, interact # Интерактивные виджеты\n",
    "\n",
    "# Техническая функция. Иногда потребуется сравнивать два float числа на равенство\n",
    "def is_equal(x, y):\n",
    "    return abs(x-y) < 1e-6"
   ]
  },
  {
   "cell_type": "markdown",
   "metadata": {
    "id": "_6NLfjsfSKxb"
   },
   "source": [
    "# Модель 1"
   ]
  },
  {
   "cell_type": "markdown",
   "metadata": {
    "id": "aVvArpoBSKxc"
   },
   "source": [
    "## Описание класса"
   ]
  },
  {
   "cell_type": "markdown",
   "metadata": {
    "id": "egzLtU8ySKxc"
   },
   "source": [
    "В данной модели у каждого товара есть только два параметра: название и цена за единицу."
   ]
  },
  {
   "cell_type": "code",
   "execution_count": 163,
   "metadata": {
    "id": "2pzSr0e3SKxd"
   },
   "outputs": [],
   "source": [
    "# Создадим класс для товаров модели\n",
    "class Good():\n",
    "    def __init__(self, name, price):\n",
    "        self.name = name\n",
    "        self.price = price"
   ]
  },
  {
   "cell_type": "markdown",
   "metadata": {
    "id": "dBmu9XfxSKxd"
   },
   "source": [
    "## Проверка бюджетного ограничения"
   ]
  },
  {
   "cell_type": "markdown",
   "metadata": {
    "id": "JKeldj8LSKxe"
   },
   "source": [
    "Напишем функцию, которая проверит, удовлетворяет ли конкретная точка бюджетным ограничениям."
   ]
  },
  {
   "cell_type": "code",
   "execution_count": 164,
   "metadata": {
    "colab": {
     "base_uri": "https://localhost:8080/"
    },
    "id": "jDL9I_32SKxe",
    "outputId": "7d3efb1e-5665-48b3-de82-f18f89069432"
   },
   "outputs": [
    {
     "name": "stdout",
     "output_type": "stream",
     "text": [
      "1\n",
      "0\n",
      "-1\n"
     ]
    }
   ],
   "source": [
    "def budget_test(g1: Good, g2: Good, budget, x1=0, x2=0):\n",
    "    '''\n",
    "    Проверка расположения точки (x1, x2) относительно бюджетного множества:\n",
    "        Если внутри бюджетного множества, то возвращается значение 1,\n",
    "        Если на границе бюджетного множества, то возвращается значение 0,\n",
    "        Если вне бюджетного множества, то возвращается значение -1.\n",
    "    '''\n",
    "    result = x1*g1.price + x2*g2.price\n",
    "    if (is_equal(result, budget)): # Поскольку значения типа float, необходимо сравнивать на равенство с погрешностью\n",
    "        return 0\n",
    "    elif (result < budget):\n",
    "        return 1\n",
    "    else:\n",
    "        return -1\n",
    "\n",
    "g1 = Good(\"Яблоки\", 5)\n",
    "g2 = Good(\"Груши\", 5)\n",
    "budget = 100    \n",
    "print(budget_test(g1, g2, budget, 1, 1))\n",
    "print(budget_test(g1, g2, budget, 10, 10))\n",
    "print(budget_test(g1, g2, budget, 100, 100))"
   ]
  },
  {
   "cell_type": "markdown",
   "metadata": {
    "id": "WYTyyXlnSKxf"
   },
   "source": [
    "## Графическое представление"
   ]
  },
  {
   "cell_type": "markdown",
   "metadata": {
    "id": "BedJs1geSKxf"
   },
   "source": [
    "Напишем функцию, которая будет визуализировать бюджетное множество и проверяемую точку."
   ]
  },
  {
   "cell_type": "code",
   "execution_count": 165,
   "metadata": {
    "colab": {
     "base_uri": "https://localhost:8080/",
     "height": 481
    },
    "id": "yk7L7w0_SKxg",
    "outputId": "dbf61cbc-5152-410b-e3da-7ce975194004"
   },
   "outputs": [
    {
     "data": {
      "image/png": "[encoded data removed]",
      "text/plain": [
       "<Figure size 432x288 with 1 Axes>"
      ]
     },
     "metadata": {
      "needs_background": "light"
     },
     "output_type": "display_data"
    }
   ],
   "source": [
    "\n",
    "def plot_budget(g1, g2, budget, x1=0, x2=0):\n",
    "    '''\n",
    "    Построение графика бюджетного множества и расположения проверяемой точки\n",
    "    '''\n",
    "    \n",
    "    # График будет построен по двум точкам (0, budget/g2.price) и (budget/g1.price, 0)\n",
    "    x_points = [0, budget/g1.price] \n",
    "    y_points = [budget/g2.price, 0]\n",
    "    \n",
    "\n",
    "    fig, ax = plt.subplots() # Создаем фигуру\n",
    "    fig.suptitle(\"Бюджетное множество\")\n",
    "    \n",
    "    ax.plot(x_points, y_points, label=\"Бюджетная линия\") # Строим прямую по двум точкам\n",
    "    ax.fill_between(x_points, y_points, np.zeros_like(x_points), alpha=0.5) # Заливаем область под графиком с прозрачностью (alpha) 0.5\n",
    "    \n",
    "    point_status = budget_test(g1, g2, budget, x1, x2) # Находим статус проверяемой точки\n",
    "    \n",
    "    # В зависимости от статуса определяем цвет точки и надпись\n",
    "    if point_status == 1:\n",
    "        point_color = \"green\"\n",
    "        point_label = \"Допустимо\"\n",
    "    elif point_status == 0:\n",
    "        point_color = \"yellow\"\n",
    "        point_label = \"На границе\"\n",
    "    else: \n",
    "        point_color = \"red\"\n",
    "        point_label = \"Недопустимо\"\n",
    "    \n",
    "    ax.scatter(x1, x2, color=point_color, label=point_label) # Рисуем точку\n",
    "    ax.plot([x1, x1], [0, x2], 'k:') # Добавляем вертикальную черную (k) пунктирную (:) линию к точке (x,y)\n",
    "    ax.plot([0, x1], [x2, x2], 'k:') # Добавляем горизонтальную черную (k) пунктирную (:) линию к точке (x,y)\n",
    "    \n",
    "    # Добавляем название осей\n",
    "    ax.set_xlabel(g1.name)\n",
    "    ax.set_ylabel(g2.name)\n",
    "\n",
    "    # Сдвигаем и скрываем оси так, чтобы получились декартовы координаты\n",
    "    ax.spines['left'].set_position('zero')\n",
    "    ax.spines['right'].set_visible(False)\n",
    "    ax.spines['bottom'].set_position('zero')\n",
    "    ax.spines['top'].set_visible(False)\n",
    "    \n",
    "    ax.axis('equal') # Принудительно делаем оси равными\n",
    "    ax.legend() # Отображаем легенду (информацию о данных)\n",
    "    plt.show() # Отображаем рисунок\n",
    "\n",
    "\n",
    "g1 = Good(\"Яблоки\", 5)\n",
    "g2 = Good(\"Груши\", 5)\n",
    "budget = 100   \n",
    "plot_budget(g1, g2, budget, 4, 5);"
   ]
  },
  {
   "cell_type": "markdown",
   "metadata": {
    "id": "JCsA2HnRSKxg"
   },
   "source": [
    "## Интерактивное представление"
   ]
  },
  {
   "cell_type": "code",
   "execution_count": 166,
   "metadata": {
    "colab": {
     "base_uri": "https://localhost:8080/",
     "height": 641,
     "referenced_widgets": [
      "2a257aff103249ef8093fd1c31dcb26a",
      "11f28d94a5324a4f859ef4d450d10796",
      "85f87509b208415a804b30a9f155c84a",
      "0c0c306fa06944b3824f9ade241bbc13",
      "aff61557f07440cf802eaad770e54fee",
      "feaa2bd4d51c47ee98331377a4d9c1d7",
      "aa303c7500794ffeb724e893a16281ff",
      "515fc3c09e044b81b1afa578688843ce",
      "0a4b83989c054b58a1ebdf635a57cb6b",
      "ab02272983c740199033a8d4e1231ea2",
      "6469d474a9e7434da4f54f1fbbccb773",
      "0d1467c3a2bb44d4998f337ee407f5e5",
      "9b1a5f3d88f541b7899185415f3c34ef",
      "d16fc7849d4b44b6b7e964f698b8b08b",
      "253093a51b3041959577f9cb79885bf8",
      "3d2d60c3c75d483c997466d030745194",
      "ece8afc5821f41708a5d38ee293640dc",
      "935c3b3ddb1c44888ff0b144555729d9",
      "a6e15d586e3a431d8bdb32d225cf2071"
     ]
    },
    "id": "WeDs7VS_SKxg",
    "outputId": "d5bcae3f-d8dd-45e0-e627-81e3d97390cf"
   },
   "outputs": [
    {
     "data": {
      "application/vnd.jupyter.widget-view+json": {
       "model_id": "3a836163d51b476b95ec5a8cdac5cfa2",
       "version_major": 2,
       "version_minor": 0
      },
      "text/plain": [
       "interactive(children=(IntSlider(value=5, description='p1', max=10, min=1), IntSlider(value=5, description='p2'…"
      ]
     },
     "metadata": {},
     "output_type": "display_data"
    }
   ],
   "source": [
    "# Интерактивный виджет\n",
    "def interactive_plot(p1, p2, budget, x1, x2):\n",
    "    g1 = Good(\"Яблоки\", p1) # Создаем первый товар с ценой p1\n",
    "    g2 = Good(\"Груши\", p2) # Создаем второй товар с ценой p2\n",
    "    plot_budget(g1, g2, budget, x1, x2);\n",
    "\n",
    "interact(interactive_plot, p1=(1, 10), p2 = (1, 10), budget=(1,100), x1 = (1,10), x2=(1,10));"
   ]
  },
  {
   "cell_type": "markdown",
   "metadata": {
    "id": "DPvS9ltiSKxg"
   },
   "source": [
    "## Работа с таблицами"
   ]
  },
  {
   "cell_type": "markdown",
   "metadata": {
    "id": "P6ltaEb8SKxg"
   },
   "source": [
    "В данном разделе мы будем работать с таблицами. Вначале мы загрузим данные из Excel файла в датафрейм библиотеки pandas. Затем мы обработаем строки этой таблицы, и для каждой строки проверим, выполняется ли бюджетное ограничение, и результаты сохраним в новый датафрейм. Далее мы отфильтруем получившийся датафрейм по условию, что бюджетное ограничение выполняется (в том числе на границе). Результат мы отсортируем по размеру бюджета и сохраним в новый Excel файл.\n",
    "\n",
    "Файл model1_data.xlsx должен находиться в том же каталоге, что и данная тетрадка. Файл можно скачать по [данной ссылке](http://samonenko.ru/upload/model1_data.xlsx)."
   ]
  },
  {
   "cell_type": "code",
   "execution_count": 167,
   "metadata": {
    "colab": {
     "base_uri": "https://localhost:8080/",
     "height": 238
    },
    "id": "8nmDviNISKxh",
    "outputId": "3d3872e4-053b-4f6a-c1c5-a1b42e753b65"
   },
   "outputs": [
    {
     "data": {
      "text/html": [
       "<div>\n",
       "<style scoped>\n",
       "    .dataframe tbody tr th:only-of-type {\n",
       "        vertical-align: middle;\n",
       "    }\n",
       "\n",
       "    .dataframe tbody tr th {\n",
       "        vertical-align: top;\n",
       "    }\n",
       "\n",
       "    .dataframe thead th {\n",
       "        text-align: right;\n",
       "    }\n",
       "</style>\n",
       "<table border=\"1\" class=\"dataframe\">\n",
       "  <thead>\n",
       "    <tr style=\"text-align: right;\">\n",
       "      <th></th>\n",
       "      <th>G1_name</th>\n",
       "      <th>G1_price</th>\n",
       "      <th>G2_name</th>\n",
       "      <th>G2_price</th>\n",
       "      <th>Budget</th>\n",
       "      <th>G1_quant</th>\n",
       "      <th>G2_quant</th>\n",
       "    </tr>\n",
       "  </thead>\n",
       "  <tbody>\n",
       "    <tr>\n",
       "      <th>0</th>\n",
       "      <td>Яблоки</td>\n",
       "      <td>5</td>\n",
       "      <td>Груши</td>\n",
       "      <td>5</td>\n",
       "      <td>50</td>\n",
       "      <td>5</td>\n",
       "      <td>5</td>\n",
       "    </tr>\n",
       "    <tr>\n",
       "      <th>1</th>\n",
       "      <td>Яблоки</td>\n",
       "      <td>5</td>\n",
       "      <td>Груши</td>\n",
       "      <td>5</td>\n",
       "      <td>51</td>\n",
       "      <td>5</td>\n",
       "      <td>5</td>\n",
       "    </tr>\n",
       "    <tr>\n",
       "      <th>2</th>\n",
       "      <td>Апельсины</td>\n",
       "      <td>5</td>\n",
       "      <td>Мандарины</td>\n",
       "      <td>5</td>\n",
       "      <td>49</td>\n",
       "      <td>5</td>\n",
       "      <td>5</td>\n",
       "    </tr>\n",
       "    <tr>\n",
       "      <th>3</th>\n",
       "      <td>Виоград</td>\n",
       "      <td>2</td>\n",
       "      <td>Малина</td>\n",
       "      <td>3</td>\n",
       "      <td>30</td>\n",
       "      <td>23</td>\n",
       "      <td>45</td>\n",
       "    </tr>\n",
       "    <tr>\n",
       "      <th>4</th>\n",
       "      <td>Виоград</td>\n",
       "      <td>2</td>\n",
       "      <td>Малина</td>\n",
       "      <td>3</td>\n",
       "      <td>30</td>\n",
       "      <td>6</td>\n",
       "      <td>8</td>\n",
       "    </tr>\n",
       "    <tr>\n",
       "      <th>5</th>\n",
       "      <td>Виоград</td>\n",
       "      <td>2</td>\n",
       "      <td>Малина</td>\n",
       "      <td>3</td>\n",
       "      <td>45</td>\n",
       "      <td>6</td>\n",
       "      <td>8</td>\n",
       "    </tr>\n",
       "  </tbody>\n",
       "</table>\n",
       "</div>"
      ],
      "text/plain": [
       "     G1_name  G1_price    G2_name  G2_price  Budget  G1_quant  G2_quant\n",
       "0    Яблоки          5      Груши         5      50         5         5\n",
       "1    Яблоки          5      Груши         5      51         5         5\n",
       "2  Апельсины         5  Мандарины         5      49         5         5\n",
       "3   Виоград          2    Малина          3      30        23        45\n",
       "4   Виоград          2    Малина          3      30         6         8\n",
       "5   Виоград          2    Малина          3      45         6         8"
      ]
     },
     "execution_count": 167,
     "metadata": {},
     "output_type": "execute_result"
    }
   ],
   "source": [
    "df = pd.read_excel(\"model1_data.xlsx\") # Загрузим таблицу из Excel файла в датафрейм \n",
    "df # Печатаем датафрейм"
   ]
  },
  {
   "cell_type": "code",
   "execution_count": 168,
   "metadata": {
    "colab": {
     "base_uri": "https://localhost:8080/",
     "height": 238
    },
    "id": "c-7AvxJLSKxh",
    "outputId": "ccd3e80d-db69-4d61-c437-cdee801b0b4e"
   },
   "outputs": [
    {
     "data": {
      "text/html": [
       "<div>\n",
       "<style scoped>\n",
       "    .dataframe tbody tr th:only-of-type {\n",
       "        vertical-align: middle;\n",
       "    }\n",
       "\n",
       "    .dataframe tbody tr th {\n",
       "        vertical-align: top;\n",
       "    }\n",
       "\n",
       "    .dataframe thead th {\n",
       "        text-align: right;\n",
       "    }\n",
       "</style>\n",
       "<table border=\"1\" class=\"dataframe\">\n",
       "  <thead>\n",
       "    <tr style=\"text-align: right;\">\n",
       "      <th></th>\n",
       "      <th>G1_name</th>\n",
       "      <th>G1_price</th>\n",
       "      <th>G2_name</th>\n",
       "      <th>G2_price</th>\n",
       "      <th>Budget</th>\n",
       "      <th>G1_quant</th>\n",
       "      <th>G2_quant</th>\n",
       "      <th>Result</th>\n",
       "    </tr>\n",
       "  </thead>\n",
       "  <tbody>\n",
       "    <tr>\n",
       "      <th>0</th>\n",
       "      <td>Яблоки</td>\n",
       "      <td>5</td>\n",
       "      <td>Груши</td>\n",
       "      <td>5</td>\n",
       "      <td>50</td>\n",
       "      <td>5</td>\n",
       "      <td>5</td>\n",
       "      <td>0</td>\n",
       "    </tr>\n",
       "    <tr>\n",
       "      <th>1</th>\n",
       "      <td>Яблоки</td>\n",
       "      <td>5</td>\n",
       "      <td>Груши</td>\n",
       "      <td>5</td>\n",
       "      <td>51</td>\n",
       "      <td>5</td>\n",
       "      <td>5</td>\n",
       "      <td>1</td>\n",
       "    </tr>\n",
       "    <tr>\n",
       "      <th>2</th>\n",
       "      <td>Апельсины</td>\n",
       "      <td>5</td>\n",
       "      <td>Мандарины</td>\n",
       "      <td>5</td>\n",
       "      <td>49</td>\n",
       "      <td>5</td>\n",
       "      <td>5</td>\n",
       "      <td>-1</td>\n",
       "    </tr>\n",
       "    <tr>\n",
       "      <th>3</th>\n",
       "      <td>Виоград</td>\n",
       "      <td>2</td>\n",
       "      <td>Малина</td>\n",
       "      <td>3</td>\n",
       "      <td>30</td>\n",
       "      <td>23</td>\n",
       "      <td>45</td>\n",
       "      <td>-1</td>\n",
       "    </tr>\n",
       "    <tr>\n",
       "      <th>4</th>\n",
       "      <td>Виоград</td>\n",
       "      <td>2</td>\n",
       "      <td>Малина</td>\n",
       "      <td>3</td>\n",
       "      <td>30</td>\n",
       "      <td>6</td>\n",
       "      <td>8</td>\n",
       "      <td>-1</td>\n",
       "    </tr>\n",
       "    <tr>\n",
       "      <th>5</th>\n",
       "      <td>Виоград</td>\n",
       "      <td>2</td>\n",
       "      <td>Малина</td>\n",
       "      <td>3</td>\n",
       "      <td>45</td>\n",
       "      <td>6</td>\n",
       "      <td>8</td>\n",
       "      <td>1</td>\n",
       "    </tr>\n",
       "  </tbody>\n",
       "</table>\n",
       "</div>"
      ],
      "text/plain": [
       "     G1_name  G1_price    G2_name  G2_price  Budget  G1_quant  G2_quant  \\\n",
       "0    Яблоки          5      Груши         5      50         5         5   \n",
       "1    Яблоки          5      Груши         5      51         5         5   \n",
       "2  Апельсины         5  Мандарины         5      49         5         5   \n",
       "3   Виоград          2    Малина          3      30        23        45   \n",
       "4   Виоград          2    Малина          3      30         6         8   \n",
       "5   Виоград          2    Малина          3      45         6         8   \n",
       "\n",
       "   Result  \n",
       "0       0  \n",
       "1       1  \n",
       "2      -1  \n",
       "3      -1  \n",
       "4      -1  \n",
       "5       1  "
      ]
     },
     "execution_count": 168,
     "metadata": {},
     "output_type": "execute_result"
    }
   ],
   "source": [
    "result = []\n",
    "for index, row in df.iterrows(): # Цикл по всем строкам df\n",
    "    # Строка сохраняется в словаре row, где ключами являются имена столбцов\n",
    "    \n",
    "    # Для каждой строки создаем продукты\n",
    "    g1 = Good(row['G1_name'], row['G1_price']) \n",
    "    g2 = Good(row['G2_name'], row['G2_price'])\n",
    "\n",
    "    result.append(budget_test(g1, g2, row['Budget'], row['G1_quant'], row['G2_quant']))\n",
    "\n",
    "df[\"Result\"] = result # Создаем в df новый столбец Result и сохраняем в него список значений result\n",
    "df"
   ]
  },
  {
   "cell_type": "code",
   "execution_count": 169,
   "metadata": {
    "colab": {
     "base_uri": "https://localhost:8080/",
     "height": 143
    },
    "id": "sC8CQ2U5SKxh",
    "outputId": "e9aecc0f-f389-4c7f-bd49-b616be44e677"
   },
   "outputs": [
    {
     "data": {
      "text/html": [
       "<div>\n",
       "<style scoped>\n",
       "    .dataframe tbody tr th:only-of-type {\n",
       "        vertical-align: middle;\n",
       "    }\n",
       "\n",
       "    .dataframe tbody tr th {\n",
       "        vertical-align: top;\n",
       "    }\n",
       "\n",
       "    .dataframe thead th {\n",
       "        text-align: right;\n",
       "    }\n",
       "</style>\n",
       "<table border=\"1\" class=\"dataframe\">\n",
       "  <thead>\n",
       "    <tr style=\"text-align: right;\">\n",
       "      <th></th>\n",
       "      <th>G1_name</th>\n",
       "      <th>G1_price</th>\n",
       "      <th>G2_name</th>\n",
       "      <th>G2_price</th>\n",
       "      <th>Budget</th>\n",
       "      <th>G1_quant</th>\n",
       "      <th>G2_quant</th>\n",
       "      <th>Result</th>\n",
       "    </tr>\n",
       "  </thead>\n",
       "  <tbody>\n",
       "    <tr>\n",
       "      <th>0</th>\n",
       "      <td>Яблоки</td>\n",
       "      <td>5</td>\n",
       "      <td>Груши</td>\n",
       "      <td>5</td>\n",
       "      <td>50</td>\n",
       "      <td>5</td>\n",
       "      <td>5</td>\n",
       "      <td>0</td>\n",
       "    </tr>\n",
       "    <tr>\n",
       "      <th>1</th>\n",
       "      <td>Яблоки</td>\n",
       "      <td>5</td>\n",
       "      <td>Груши</td>\n",
       "      <td>5</td>\n",
       "      <td>51</td>\n",
       "      <td>5</td>\n",
       "      <td>5</td>\n",
       "      <td>1</td>\n",
       "    </tr>\n",
       "    <tr>\n",
       "      <th>5</th>\n",
       "      <td>Виоград</td>\n",
       "      <td>2</td>\n",
       "      <td>Малина</td>\n",
       "      <td>3</td>\n",
       "      <td>45</td>\n",
       "      <td>6</td>\n",
       "      <td>8</td>\n",
       "      <td>1</td>\n",
       "    </tr>\n",
       "  </tbody>\n",
       "</table>\n",
       "</div>"
      ],
      "text/plain": [
       "    G1_name  G1_price  G2_name  G2_price  Budget  G1_quant  G2_quant  Result\n",
       "0   Яблоки          5    Груши         5      50         5         5       0\n",
       "1   Яблоки          5    Груши         5      51         5         5       1\n",
       "5  Виоград          2  Малина          3      45         6         8       1"
      ]
     },
     "execution_count": 169,
     "metadata": {},
     "output_type": "execute_result"
    }
   ],
   "source": [
    "df_super = df[df[\"Result\"] >= 0] # Фильтруем датафрейм по условию, что в столбце Result значение >= 0 и сохраняем в новый датафрейм\n",
    "df_super"
   ]
  },
  {
   "cell_type": "code",
   "execution_count": 170,
   "metadata": {
    "colab": {
     "base_uri": "https://localhost:8080/",
     "height": 143
    },
    "id": "HWfPDq5oSKxh",
    "outputId": "1d88332c-49bb-4fc5-a293-51220a379b4d"
   },
   "outputs": [
    {
     "data": {
      "text/html": [
       "<div>\n",
       "<style scoped>\n",
       "    .dataframe tbody tr th:only-of-type {\n",
       "        vertical-align: middle;\n",
       "    }\n",
       "\n",
       "    .dataframe tbody tr th {\n",
       "        vertical-align: top;\n",
       "    }\n",
       "\n",
       "    .dataframe thead th {\n",
       "        text-align: right;\n",
       "    }\n",
       "</style>\n",
       "<table border=\"1\" class=\"dataframe\">\n",
       "  <thead>\n",
       "    <tr style=\"text-align: right;\">\n",
       "      <th></th>\n",
       "      <th>G1_name</th>\n",
       "      <th>G1_price</th>\n",
       "      <th>G2_name</th>\n",
       "      <th>G2_price</th>\n",
       "      <th>Budget</th>\n",
       "      <th>G1_quant</th>\n",
       "      <th>G2_quant</th>\n",
       "      <th>Result</th>\n",
       "    </tr>\n",
       "  </thead>\n",
       "  <tbody>\n",
       "    <tr>\n",
       "      <th>5</th>\n",
       "      <td>Виоград</td>\n",
       "      <td>2</td>\n",
       "      <td>Малина</td>\n",
       "      <td>3</td>\n",
       "      <td>45</td>\n",
       "      <td>6</td>\n",
       "      <td>8</td>\n",
       "      <td>1</td>\n",
       "    </tr>\n",
       "    <tr>\n",
       "      <th>0</th>\n",
       "      <td>Яблоки</td>\n",
       "      <td>5</td>\n",
       "      <td>Груши</td>\n",
       "      <td>5</td>\n",
       "      <td>50</td>\n",
       "      <td>5</td>\n",
       "      <td>5</td>\n",
       "      <td>0</td>\n",
       "    </tr>\n",
       "    <tr>\n",
       "      <th>1</th>\n",
       "      <td>Яблоки</td>\n",
       "      <td>5</td>\n",
       "      <td>Груши</td>\n",
       "      <td>5</td>\n",
       "      <td>51</td>\n",
       "      <td>5</td>\n",
       "      <td>5</td>\n",
       "      <td>1</td>\n",
       "    </tr>\n",
       "  </tbody>\n",
       "</table>\n",
       "</div>"
      ],
      "text/plain": [
       "    G1_name  G1_price  G2_name  G2_price  Budget  G1_quant  G2_quant  Result\n",
       "5  Виоград          2  Малина          3      45         6         8       1\n",
       "0   Яблоки          5    Груши         5      50         5         5       0\n",
       "1   Яблоки          5    Груши         5      51         5         5       1"
      ]
     },
     "execution_count": 170,
     "metadata": {},
     "output_type": "execute_result"
    }
   ],
   "source": [
    "df_super = df_super.sort_values(by = 'Budget') # Сортируем датафрейм по столбцу Budget и сохраняем в тот же датафрейм\n",
    "df_super"
   ]
  },
  {
   "cell_type": "code",
   "execution_count": 171,
   "metadata": {
    "id": "SRS9074ySKxh"
   },
   "outputs": [],
   "source": [
    "df_super.to_excel(\"model1_result.xlsx\") # Сохраняем "
   ]
  },
  {
   "cell_type": "markdown",
   "metadata": {
    "id": "AIor29a6SKxi"
   },
   "source": [
    "## Обратная задача"
   ]
  },
  {
   "cell_type": "markdown",
   "metadata": {
    "id": "IvEsaMJISKxi"
   },
   "source": [
    "### Случай двух товаров"
   ]
  },
  {
   "cell_type": "markdown",
   "metadata": {
    "id": "LgkHLFmsSKxi"
   },
   "source": [
    "Решим обратную задачу, теперь мы должны узнать стоимости товаров, если известны точки, которые лежат на границе кривой бюджетных ограничений.\n",
    "\n",
    "Пусть нам известно, что две точки $A_1 = (a_{1,1}, a_{1,2})$ и $A_2 = (a_{2,1}, a_{2,2})$ лежат на границе кривой бюджетных ограничений. В нашей модели бюджетное ограничение задается прямой вида:\n",
    "$$p_1 x_1 + p_2 x_2 = b,$$ \n",
    "где $p_1$ -- цена единицы первого продукта, $p_2$ -- цена единицы второго продукта и $b$ -- общий бюджет. Без ограничения общности мы можем считать, что $b=1$, т.е. мы должны найти значения цены единиц продукта как долей от общего бюджета.\n",
    "\n",
    "Таким образом, нам надо решить систему линейных уравнений:\n",
    "$$\n",
    "\\begin{cases}\n",
    "p_1 a_{1,1} + p_2 a_{1,2} = 1\\\\\n",
    "p_1 a_{2,1} + p_2 a_{2,2} = 1\n",
    "\\end{cases}\n",
    "$$\n",
    "\n",
    "Перепишем в матричном виде:\n",
    "$$\n",
    "\\begin{pmatrix}\n",
    "    a_{1,1} & a_{1,2} \\\\\n",
    "    a_{2,1} & a_{2,2}\n",
    "\\end{pmatrix}\n",
    "\\begin{pmatrix}\n",
    "    p_1 \\\\\n",
    "    p_2\n",
    "\\end{pmatrix}\n",
    "= \n",
    "\\begin{pmatrix}\n",
    "    1 \\\\\n",
    "    1\n",
    "\\end{pmatrix}\n",
    "$$\n",
    "\n",
    "Решением является: \n",
    "$$\n",
    "\\begin{pmatrix}\n",
    "        p_1 \\\\\n",
    "        p_2\n",
    "\\end{pmatrix}\n",
    "=\n",
    "\\begin{pmatrix}\n",
    "        a_{1,1} && a_{1,2} \\\\\n",
    "        a_{2,1} && a_{2,2} \n",
    "\\end{pmatrix}^{-1}\n",
    "\\begin{pmatrix}\n",
    "    1 \\\\\n",
    "    1\n",
    "\\end{pmatrix}\n",
    "$$\n",
    "\n",
    "При этом надо учесть, что $p_1 > 0$ и $p_2 > 0$, в противном случае полученное решение не соответствует изучаемой модели."
   ]
  },
  {
   "cell_type": "code",
   "execution_count": 172,
   "metadata": {
    "colab": {
     "base_uri": "https://localhost:8080/"
    },
    "id": "LQ2R2fJxSKxi",
    "outputId": "d1954d85-0336-4912-b9d3-16cdec4aac04"
   },
   "outputs": [
    {
     "name": "stdout",
     "output_type": "stream",
     "text": [
      "[[0.33333333]\n",
      " [0.33333333]]\n",
      "None\n",
      "None\n",
      "None\n"
     ]
    }
   ],
   "source": [
    "def get_goods_parameters(list_of_points):\n",
    "    '''\n",
    "        list_of_points -- двумерный массив\n",
    "        list_of_points = [\n",
    "            [a11, a12],\n",
    "            [a21, a22],\n",
    "        ]\n",
    "\n",
    "        Функция возвращает список цен, если задача имеет решение, и None, если не имеет\n",
    "    '''\n",
    "    \n",
    "    ones = np.ones([2,1]) # матрица 2x1 из единиц \n",
    "\n",
    "    # np.linalg.inv() -- поиск обратной матрицы\n",
    "    # A @ B -- матричное умножение \n",
    "    if np.linalg.det(list_of_points) != 0:\n",
    "        solution = np.linalg.inv(list_of_points) @ ones\n",
    "    else:\n",
    "        return None\n",
    "\n",
    "    p_min = min(solution)\n",
    "    if is_equal(p_min, 0) or p_min < 0:\n",
    "        return None\n",
    "    else:\n",
    "        return solution\n",
    "\n",
    "list_of_points = [\n",
    "    [1,2],\n",
    "    [2,1]\n",
    "]\n",
    "print(get_goods_parameters(list_of_points))\n",
    "\n",
    "list_of_points = [\n",
    "    [1,2],\n",
    "    [2,2]\n",
    "]\n",
    "print(get_goods_parameters(list_of_points))\n",
    "\n",
    "list_of_points = [\n",
    "    [2,2],\n",
    "    [2,1]\n",
    "]\n",
    "print(get_goods_parameters(list_of_points))\n",
    "\n",
    "list_of_points = [\n",
    "    [1,1],\n",
    "    [2,2]\n",
    "]\n",
    "print(get_goods_parameters(list_of_points))\n"
   ]
  },
  {
   "cell_type": "markdown",
   "metadata": {
    "id": "ddkwcHoHSKxi"
   },
   "source": [
    "### Графическое представление"
   ]
  },
  {
   "cell_type": "code",
   "execution_count": 173,
   "metadata": {
    "colab": {
     "base_uri": "https://localhost:8080/",
     "height": 481
    },
    "id": "sbNGvZ7LSKxi",
    "outputId": "fbb1cc24-1415-407f-9ec2-397b5d7f3065"
   },
   "outputs": [
    {
     "data": {
      "image/png": "[encoded data removed]",
      "text/plain": [
       "<Figure size 432x288 with 1 Axes>"
      ]
     },
     "metadata": {
      "needs_background": "light"
     },
     "output_type": "display_data"
    }
   ],
   "source": [
    "def plot_goods_parameters(list_of_points):\n",
    "\n",
    "    fig, ax = plt.subplots() # Создаем фигуру\n",
    "\n",
    "    list_of_points = np.array(list_of_points)\n",
    "    x_values = list_of_points.T[0]\n",
    "    y_values = list_of_points.T[1]\n",
    "    ax.scatter(x_values, y_values, label=\"Заданные точки\", color=\"green\")\n",
    "            \n",
    "    ax.axis('equal') # Принудительно делаем оси равными\n",
    "\n",
    "    result = get_goods_parameters(list_of_points)\n",
    "    if not (result is None):\n",
    "        fig.suptitle(\"Бюджетное множество\")\n",
    "        g1 = Good(\"Груши\", result[0][0])\n",
    "        g2 = Good(\"Яблоки\", result[1][0])\n",
    "        budget = 1\n",
    "        x_points = [0, budget/g1.price] \n",
    "        y_points = [budget/g2.price, 0]\n",
    "        \n",
    "        ax.plot(x_points, y_points, label=\"Бюджетная линия\", color=\"blue\") # Строим прямую по двум точкам\n",
    "        ax.fill_between(x_points, y_points, np.zeros_like(x_points), alpha=0.5, color=\"blue\") # Заливаем область под графиком с прозрачностью (alpha) 0.5\n",
    "       \n",
    "         # Добавляем название осей\n",
    "        ax.set_xlabel(g1.name)\n",
    "        ax.set_ylabel(g2.name)\n",
    "\n",
    "        ax.spines['left'].set_position('zero')\n",
    "        ax.spines['right'].set_visible(False)\n",
    "        ax.spines['bottom'].set_position('zero')\n",
    "        ax.spines['top'].set_visible(False)\n",
    "\n",
    "    else:\n",
    "        fig.suptitle(\"Модель не предусматривает решения\")\n",
    "\n",
    "    ax.legend() # Отображаем легенду (информацию о данных)\n",
    "    plt.show()\n",
    "\n",
    "\n",
    "\n",
    "list_of_points = [\n",
    "    [4,5],\n",
    "    [6,3]\n",
    "]\n",
    "plot_goods_parameters(list_of_points)"
   ]
  },
  {
   "cell_type": "markdown",
   "metadata": {
    "id": "rhMrev44SKxj"
   },
   "source": [
    "### Интерактивное представление"
   ]
  },
  {
   "cell_type": "code",
   "execution_count": 174,
   "metadata": {
    "colab": {
     "base_uri": "https://localhost:8080/",
     "height": 609,
     "referenced_widgets": [
      "73571af6f65144929a64343ffda95170",
      "cc9d432f3eaa44d6842f948e319a702d",
      "0868f1c3fed24484ad460f2271d7720c",
      "3a72722f5c82423db8cb2250d3d675de",
      "ef2be04ad94d4e72889de63b7a33ddbf",
      "8c487a4ad32e492589a3034ae2c4bdd1",
      "132cf5fe14884de8ab19b0e1f6a701f9",
      "bd7175f21ef44752bce9498121fe290b",
      "09aab143ef524b39bcd1db8c17bf5962",
      "921e3f002d0d4751a8920ba79711dd0c",
      "91e74c90a77d462498c2ae2f99b945e7",
      "8b481b83af644ece98bb296600bd68d7",
      "226e18a459204a9f8ddb2deee676bc63",
      "82b2a94d584a4954bdabf2d5ce7a028e",
      "816c796ba91943bb9dc3c9465dfcd7f4",
      "4fcded3fcaf3465a87aec9a44bfbc55e"
     ]
    },
    "id": "Tri8Q23ISKxj",
    "outputId": "1c69e1ed-82c2-4fcb-806f-02bbe85618a4"
   },
   "outputs": [
    {
     "data": {
      "application/vnd.jupyter.widget-view+json": {
       "model_id": "788f1c4c4cf44b758be6b5c5da49beb8",
       "version_major": 2,
       "version_minor": 0
      },
      "text/plain": [
       "interactive(children=(IntSlider(value=5, description='x11', max=10, min=1), IntSlider(value=5, description='x1…"
      ]
     },
     "metadata": {},
     "output_type": "display_data"
    }
   ],
   "source": [
    "# Интерактивный виджет\n",
    "def interactive_plot(x11, x12, x21, x22):\n",
    "    list_of_points = [\n",
    "        [x11, x12],\n",
    "        [x21, x22]\n",
    "    ]\n",
    "    plot_goods_parameters(list_of_points);\n",
    "\n",
    "interact(interactive_plot, x11=(1, 10), x12 = (1, 10), x21=(1, 10), x22 = (1, 10));"
   ]
  },
  {
   "cell_type": "markdown",
   "metadata": {
    "id": "iDIT6aZ1SKxj"
   },
   "source": [
    "### Случай трех товаров"
   ]
  },
  {
   "cell_type": "markdown",
   "metadata": {
    "id": "_VKUrFQWSKxj"
   },
   "source": [
    "Отметим, что рассуждения и код практически не поменяются, если речь пойдет о трех товарах и трех точках в трехмерном пространстве.\n",
    "\n",
    "Пусть нам даны три точки $A_1 = (a_{1,1}, a_{1,2}, a_{1,3})$, $A_2 = (a_{2,1}, a_{2,2}, a_{2,3})$ и $A_3 = (a_{3,1}, a_{3,2}, a_{3,3})$. Надо решить систему линейных уравнений:\n",
    "\n",
    "$$\n",
    "\\begin{cases}\n",
    "p_1 a_{1,1} + p_2 a_{1,2} + p_3 a_{1,3}= 1\\\\\n",
    "p_1 a_{2,1} + p_2 a_{2,2} + p_3 a_{2,3}= 1\\\\\n",
    "p_1 a_{3,1} + p_2 a_{3,2} + p_3 a_{3,3}= 1\\\\\n",
    "\\end{cases}\n",
    "$$\n",
    "\n",
    "Перепишем в матричном виде:\n",
    "$$\n",
    "\\begin{pmatrix}\n",
    "    a_{1,1} & a_{1,2} & a_{1,3}\\\\\n",
    "    a_{2,1} & a_{2,2} & a_{2,3}\\\\\n",
    "    a_{3,1} & a_{3,2} & a_{3,3}\\\\\n",
    "\\end{pmatrix}\n",
    "\\begin{pmatrix}\n",
    "        p_1 \\\\\n",
    "        p_2 \\\\\n",
    "        p_3\n",
    "\\end{pmatrix}\n",
    "= \n",
    "\\begin{pmatrix}\n",
    "        1 \\\\\n",
    "        1 \\\\\n",
    "        1\n",
    "\\end{pmatrix}\n",
    "$$\n",
    "\n",
    "Решением является: \n",
    "$$\n",
    "\\begin{pmatrix}\n",
    "        p_1 \\\\\n",
    "        p_2 \\\\\n",
    "        p_3\n",
    "\\end{pmatrix}\n",
    "=\n",
    "\\begin{pmatrix}\n",
    "    a_{1,1} & a_{1,2} & a_{1,3}\\\\\n",
    "    a_{2,1} & a_{2,2} & a_{2,3}\\\\\n",
    "    a_{3,1} & a_{3,2} & a_{3,3}\\\\\n",
    "\\end{pmatrix}^{-1}\n",
    "\\begin{pmatrix}\n",
    "        1 \\\\\n",
    "        1 \\\\\n",
    "        1\n",
    "\\end{pmatrix}\n",
    "$$"
   ]
  },
  {
   "cell_type": "code",
   "execution_count": 175,
   "metadata": {
    "colab": {
     "base_uri": "https://localhost:8080/"
    },
    "id": "w9Oj82fMSKxj",
    "outputId": "f2a1c20b-0160-4321-d486-479e19e39dad"
   },
   "outputs": [
    {
     "name": "stdout",
     "output_type": "stream",
     "text": [
      "[[1.]\n",
      " [1.]\n",
      " [1.]]\n",
      "None\n"
     ]
    }
   ],
   "source": [
    "def get_goods_parameters(list_of_points):\n",
    "    '''\n",
    "        list_of_points -- двумерный массив\n",
    "        list_of_points = [\n",
    "            [a11, a12],\n",
    "            [a21, a22],\n",
    "        ]\n",
    "\n",
    "        Функция возвращает список цен, если задача имеет решение, и None, если не имеет\n",
    "    '''\n",
    "    \n",
    "    ones = np.ones([3,1]) # единственное изменение тут\n",
    "\n",
    "    if np.linalg.det(list_of_points) != 0:\n",
    "        solution = np.linalg.inv(list_of_points) @ ones\n",
    "    else:\n",
    "        return None\n",
    "\n",
    "    p_min = min(solution)\n",
    "    if is_equal(p_min, 0) or p_min < 0:\n",
    "        return None\n",
    "    else:\n",
    "        return solution\n",
    "\n",
    "list_of_points = [\n",
    "    [0,0,1],\n",
    "    [0,1,0],\n",
    "    [1,0,0],\n",
    "]\n",
    "print(get_goods_parameters(list_of_points))\n",
    "\n",
    "list_of_points = [\n",
    "    [0,0,1],\n",
    "    [0,1,1],\n",
    "    [1,0,0],\n",
    "]\n",
    "print(get_goods_parameters(list_of_points))"
   ]
  },
  {
   "cell_type": "markdown",
   "metadata": {
    "id": "oYaJTRbJSKxk"
   },
   "source": [
    "### Случай $n$ товаров."
   ]
  },
  {
   "cell_type": "markdown",
   "metadata": {
    "id": "116eZq0ZSKxk"
   },
   "source": [
    "Пусть нам даны $n$ точек $A_1 = (a_{1,1}, a_{1,2}, \\dots ,a_{1,n})$, $A_2 = (a_{2,1}, a_{2,2}, \\dots, a_{2,n})$, $\\dots$, $A_n = (a_{n,1}, a_{n,2}, \\dots, a_{n,n})$. Надо решить систему линейных уравнений: \n",
    "\n",
    "$$\n",
    "\\begin{cases}\n",
    "p_1 a_{1,1} + p_2 a_{1,2} + ... + p_n a_{1,n}= 1\\\\\n",
    "p_1 a_{2,1} + p_2 a_{2,2} + ... + p_n a_{2,n}= 1\\\\\n",
    "...\\\\\n",
    "p_1 a_{n,1} + p_2 a_{n,2} + ... + p_n a_{n,n}= 1\\\\\n",
    "\\end{cases}\n",
    "$$\n",
    "\n",
    "Перепишем в матричном виде:\n",
    "$$\n",
    "\\begin{pmatrix}\n",
    "    a_{1,1} & a_{1,2} & ... & a_{1,n}\\\\\n",
    "    a_{2,1} & a_{2,2} & ... & a_{2,n}\\\\\n",
    "    ...\\\\\n",
    "    a_{n,1} & a_{n,2} & ... & a_{n,n}\\\\\n",
    "\\end{pmatrix}\n",
    "\\begin{pmatrix}\n",
    "        p_1 \\\\\n",
    "        p_2 \\\\\n",
    "        ...\\\\\n",
    "        p_n\n",
    "\\end{pmatrix}\n",
    "= \n",
    "\\begin{pmatrix}\n",
    "        1 \\\\\n",
    "        1 \\\\\n",
    "        ...\\\\\n",
    "        1\n",
    "\\end{pmatrix}\n",
    "$$\n",
    "\n",
    "Решением является: \n",
    "$$\n",
    "\\begin{pmatrix}\n",
    "        p_1 \\\\\n",
    "        p_2 \\\\\n",
    "        ...\\\\\n",
    "        p_n\n",
    "\\end{pmatrix}\n",
    "=\n",
    "\\begin{pmatrix}\n",
    "    a_{1,1} & a_{1,2} & ... & a_{1,n}\\\\\n",
    "    a_{2,1} & a_{2,2} & ... & a_{2,n}\\\\\n",
    "    ...\\\\\n",
    "    a_{n,1} & a_{n,2} & ... & a_{n,n}\\\\\n",
    "\\end{pmatrix}^{-1}\n",
    "\\begin{pmatrix}\n",
    "        1 \\\\\n",
    "        1 \\\\\n",
    "        ...\\\\\n",
    "        1\n",
    "\\end{pmatrix}\n",
    "$$"
   ]
  },
  {
   "cell_type": "code",
   "execution_count": 176,
   "metadata": {
    "colab": {
     "base_uri": "https://localhost:8080/"
    },
    "id": "TpKmQ7iISKxk",
    "outputId": "c46e0b51-c62f-43fe-f951-ea0550c53daf"
   },
   "outputs": [
    {
     "name": "stdout",
     "output_type": "stream",
     "text": [
      "[[1.]\n",
      " [1.]\n",
      " [1.]\n",
      " [1.]\n",
      " [1.]\n",
      " [1.]\n",
      " [1.]\n",
      " [1.]\n",
      " [1.]\n",
      " [1.]]\n",
      "None\n"
     ]
    }
   ],
   "source": [
    "def get_goods_parameters(list_of_points):\n",
    "    \n",
    "    ones = np.ones([len(list_of_points),1]) # единственное изменение тут\n",
    "\n",
    "    if np.linalg.det(list_of_points) != 0:\n",
    "        solution = np.linalg.inv(list_of_points) @ ones\n",
    "    else:\n",
    "        return None\n",
    "\n",
    "    p_min = min(solution)\n",
    "    if is_equal(p_min, 0) or p_min < 0:\n",
    "        return None\n",
    "    else:\n",
    "        return solution\n",
    "    \n",
    "list_of_points = np.eye(10) # Единичная матрица\n",
    "print(get_goods_parameters(list_of_points))\n",
    "\n",
    "list_of_points = [\n",
    "    [0,0,1],\n",
    "    [0,1,1],\n",
    "    [1,0,0],\n",
    "]\n",
    "print(get_goods_parameters(list_of_points))"
   ]
  },
  {
   "cell_type": "markdown",
   "metadata": {
    "id": "k8guGQLrSKxk"
   },
   "source": [
    "## Кривые безразличия"
   ]
  },
  {
   "cell_type": "markdown",
   "metadata": {
    "id": "xf2_SQW8SKxk"
   },
   "source": [
    "### Параметры функции полезности Кобба-Дугласа"
   ]
  },
  {
   "cell_type": "markdown",
   "metadata": {
    "id": "kEkfiq4nSKxk"
   },
   "source": [
    "Напишем функцию, которая будет строить графики кривых безразличия функции полезности Кобба-Дугласа вида\n",
    "$$c = x^{\\alpha}y^{1-\\alpha}$$\n",
    "при различных значениях параметров $c$ и $\\alpha$."
   ]
  },
  {
   "cell_type": "code",
   "execution_count": 177,
   "metadata": {
    "colab": {
     "base_uri": "https://localhost:8080/",
     "height": 463
    },
    "id": "5R_CBhNPSKxk",
    "outputId": "e7c663f3-5074-4838-d748-91fd4d884d41"
   },
   "outputs": [
    {
     "data": {
      "image/png": "[encoded data removed]",
      "text/plain": [
       "<Figure size 432x288 with 1 Axes>"
      ]
     },
     "metadata": {
      "needs_background": "light"
     },
     "output_type": "display_data"
    }
   ],
   "source": [
    "def Cobb_Douglas(x, c=1, alpha=0.9):\n",
    "    # Выразим в явном виде y как функцию от x\n",
    "    return math.pow(x, -alpha/(1-alpha))*math.pow(c, 1/(1-alpha))\n",
    "\n",
    "def plot_Cobb_Douglas(c_values, alpha_values):\n",
    "    x_values = np.linspace(0.1, 1) # Массив из 50 точек от 0.1 до 1\n",
    "\n",
    "    fig, ax = plt.subplots()\n",
    "    fig.suptitle(\"Кривая Кобба-Дугласа вида $c = x^{\\\\alpha}y^{1-\\\\alpha}$\") # Двойные слеши нужны, чтобы не экранировать следующий символ\n",
    "    \n",
    "    for c in c_values:\n",
    "        for alpha in alpha_values:\n",
    "            y_values = [Cobb_Douglas(x, c, alpha) for x in x_values]    \n",
    "            ax.plot(x_values, y_values, label=f\"$с = {c}$, $\\\\alpha = {alpha} $\")\n",
    "    \n",
    "\n",
    "    ax.spines['left'].set_position('zero')\n",
    "    ax.spines['right'].set_visible(False)\n",
    "    ax.spines['bottom'].set_position('zero')\n",
    "    ax.spines['top'].set_visible(False)\n",
    "    ax.legend()\n",
    "    \n",
    "\n",
    "c_values = [1, 2]\n",
    "alpha_values = [0.5, 0.6]\n",
    "plot_Cobb_Douglas(c_values, alpha_values)"
   ]
  },
  {
   "cell_type": "markdown",
   "metadata": {
    "id": "Pi-cA-heSKxl"
   },
   "source": [
    "### Поиск и визуализация оптимального решения для функции Кобба-Дугласса"
   ]
  },
  {
   "cell_type": "markdown",
   "metadata": {
    "id": "WzTI5_0kSKxl"
   },
   "source": [
    "Напишем функцию, которая по информации о двух товарах, бюджете и параметре $\\alpha$ функции полезности Кобба-Дугласа найдет оптимальное решение, т.е. точку касания кривой безразличия функции Кобба-Дугласа и границы бюджетного ограничения.\n",
    "\n",
    "Известно, что решение можно найти по формуле:\n",
    "$$\n",
    "\\begin{cases}\n",
    "x_1 = \\frac{\\alpha}{g1.price}\\\\\n",
    "x_2 = \\frac{1-\\alpha}{g2.price}\\\\\n",
    "\\end{cases}\n",
    "$$"
   ]
  },
  {
   "cell_type": "code",
   "execution_count": 178,
   "metadata": {
    "colab": {
     "base_uri": "https://localhost:8080/",
     "height": 433
    },
    "id": "ZekBylgLSKxl",
    "outputId": "73a61521-e120-4a92-928c-8b5881de6b42"
   },
   "outputs": [
    {
     "data": {
      "image/png": "[encoded data removed]",
      "text/plain": [
       "<Figure size 432x288 with 1 Axes>"
      ]
     },
     "metadata": {
      "needs_background": "light"
     },
     "output_type": "display_data"
    }
   ],
   "source": [
    "def budget_Cobb_Douglas_solution(g1, g2, budget, alpha=0.5):\n",
    "    '''\n",
    "        При заданных ценах на товары, бюджете и параметре alpha находит оптимальное решение и\n",
    "        значение выражения x^(alpha) * y^(1-alpha)\n",
    "    '''\n",
    "    x_solution = alpha*budget/g1.price\n",
    "    y_solution = (1-alpha)*budget/g2.price\n",
    "    return x_solution, y_solution, math.pow(x_solution, alpha)*math.pow(y_solution, 1-alpha)\n",
    "\n",
    "def plot_budget_Cobb_Douglas(g1, g2, budget, alpha=0.5):\n",
    "    x_solution, y_solution, c = budget_Cobb_Douglas_solution(g1, g2, budget, alpha)\n",
    "    \n",
    "    x_points = [0, budget/g1.price]\n",
    "    y_points = [budget/g2.price, 0]\n",
    "    fig, ax = plt.subplots()\n",
    "    ax.plot(x_points, y_points, label=\"Бюджетная линия\")\n",
    "    ax.fill_between(x_points, y_points, np.zeros_like(x_points), alpha=0.5)\n",
    "    \n",
    "    x_values = np.linspace(0.1, budget/g1.price)\n",
    "    y_values = np.array([Cobb_Douglas(x, c, alpha) for x in x_values])\n",
    "    filter = y_values < budget/g2.price\n",
    "    ax.plot(x_values[filter], y_values[filter], label=\"Кривая безразличия\")\n",
    "    ax.scatter(x_solution, y_solution, label=\"Оптимальное решение\", color='green')\n",
    "    ax.plot([x_solution, 0], [y_solution, y_solution], 'k:')\n",
    "    ax.plot([x_solution, x_solution], [y_solution, 0], 'k:')\n",
    "    ax.set_xlabel(g1.name)\n",
    "    ax.set_ylabel(g2.name)\n",
    "    ax.spines['left'].set_position('zero')\n",
    "    ax.spines['right'].set_visible(False)\n",
    "    ax.spines['bottom'].set_position('zero')\n",
    "    ax.spines['top'].set_visible(False)\n",
    "    ax.axis('equal')\n",
    "    ax.legend()\n",
    "    plt.show()\n",
    "\n",
    "g1 = Good(\"Яблоки\", 6)\n",
    "g2 = Good(\"Груши\", 5)\n",
    "budget = 100 \n",
    "alpha = 0.4\n",
    "plot_budget_Cobb_Douglas(g1, g2, budget, alpha)"
   ]
  },
  {
   "cell_type": "markdown",
   "metadata": {
    "id": "pTG3pg-oSKxl"
   },
   "source": [
    "### Интерактивная визуализация оптимального решения для функции Кобба-Дугласа"
   ]
  },
  {
   "cell_type": "code",
   "execution_count": 179,
   "metadata": {
    "colab": {
     "base_uri": "https://localhost:8080/",
     "height": 561,
     "referenced_widgets": [
      "8d925a203fef42e1b74839d2a5dde0c1",
      "cfb58eb626a44e128e001774dbcda29a",
      "c77cf5ce30ef4fc18f3d5bb80afad35b",
      "430741cd6e234b1094784735429fddc9",
      "50ea3f3450ae4199880b762fd98e3b2f",
      "eff6851219164d06a014f3c5efdebae9",
      "18d12fb6a251423a8aa62a5569ce8e57",
      "8878a33c34b04a93a91bae3e44b295b4",
      "70621d88869d4689b04fb5408acd3efc",
      "748e0af8e2f5402c84d6b1e1b9561744",
      "b0133ead28ff4486a8d5c523935ae552",
      "c02eaa9c94a34ef5b7d1aa543a7d335d",
      "7cae8a0f6d214a31bc1ab0964f5e65b3",
      "5cf1d83496424a4f8611e4f76cbed880",
      "c4eed584770e4635a3527461524ec8c9",
      "c0c54853a88c44568d36fd22aa9ce562"
     ]
    },
    "id": "OUsFHAygSKxl",
    "outputId": "47d93500-92e4-44f5-c695-77b4a18f0857"
   },
   "outputs": [
    {
     "data": {
      "application/vnd.jupyter.widget-view+json": {
       "model_id": "6b396faf9f8f43f6aed94040f03e81bc",
       "version_major": 2,
       "version_minor": 0
      },
      "text/plain": [
       "interactive(children=(IntSlider(value=5, description='p1', max=10, min=1), IntSlider(value=5, description='p2'…"
      ]
     },
     "metadata": {},
     "output_type": "display_data"
    }
   ],
   "source": [
    "def interactive_plot(p1, p2, budget, alpha):\n",
    "    g1 = Good(\"Яблоки\", p1)\n",
    "    g2 = Good(\"Груши\", p2)\n",
    "    plot_budget_Cobb_Douglas(g1, g2, budget, alpha);\n",
    "\n",
    "interact(interactive_plot, p1=(1, 10), p2 = (1, 10), budget=(1,100), alpha=(0.1,0.9));"
   ]
  },
  {
   "cell_type": "markdown",
   "metadata": {
    "id": "7IhPASKdSKxl"
   },
   "source": [
    "### Параметры функции полезности Леонтьева."
   ]
  },
  {
   "cell_type": "markdown",
   "metadata": {
    "id": "v4vM2EqBSKxl"
   },
   "source": [
    "Напишем код, который визуализирует графики кривых безразличия для функции Леонтьева вида \n",
    "$$\n",
    "с = \\min(\\frac{x}{a}, \\frac{y}{b})\n",
    "$$\n",
    "при различных значениях параметров $а$ и $b$."
   ]
  },
  {
   "cell_type": "code",
   "execution_count": 180,
   "metadata": {
    "id": "kZSMTkL2SKxm"
   },
   "outputs": [
    {
     "data": {
      "image/png": "[encoded data removed]",
      "text/plain": [
       "<Figure size 432x288 with 1 Axes>"
      ]
     },
     "metadata": {
      "needs_background": "light"
     },
     "output_type": "display_data"
    }
   ],
   "source": [
    "def plot_Leontev(a_values, b_values):\n",
    "    fig, ax = plt.subplots()\n",
    "    fig.suptitle(\"Кривая безразличия функции Леонтьева вида $c = min(\\\\frac{x}{a}, \\\\frac{y}{b}})$)\") # Двойные слеши нужны, чтобы не экранировать следующий символ\n",
    "    \n",
    "    for a in a_values:\n",
    "        for b in b_values:\n",
    "            x_values = [a, a, 100 * a]\n",
    "            y_values = [b * 100, b, b]\n",
    "\n",
    "            ax.plot(x_values, y_values, label = f'a = {a}, b = {b}', alpha = 0.5)\n",
    "\n",
    "    ax.spines['left'].set_position('zero')\n",
    "    ax.spines['right'].set_visible(False)\n",
    "    ax.spines['bottom'].set_position('zero')\n",
    "    ax.spines['top'].set_visible(False)\n",
    "    ax.legend()\n",
    "    ax.set_xlim(0, max(a_values) * 5)\n",
    "    ax.set_ylim(0, max(b_values) * 5)\n",
    "    \n",
    "\n",
    "a_values = [1, 2]\n",
    "b_values = [1, 3]\n",
    "plot_Leontev(a_values, b_values)"
   ]
  },
  {
   "cell_type": "markdown",
   "metadata": {
    "id": "TbmmVufaSKxm"
   },
   "source": [
    "### Поиск и визуализация оптимального решения для функции полезности Леонтьева."
   ]
  },
  {
   "cell_type": "markdown",
   "metadata": {
    "id": "ohtx6kyZSKxm"
   },
   "source": [
    "Для двух заданных товаров $g1$, $g2$, величины бюджета $budget$, а также параметров $a$ и $b$ функции полезности Леонтьева, найдем оптимальное решение и визуализируем его."
   ]
  },
  {
   "cell_type": "markdown",
   "metadata": {},
   "source": [
    "Найдем оптимальное решение:\n",
    "Так как $\\frac x a < \\frac y b$ или $\\frac x a > \\frac y b$ неоптимально (дополнительное количество большео блага не приносит дополнительной полезности), то $\\frac x a = \\frac y b$. Тогда\n",
    "$$\n",
    "I = xp_x+yp_y = xp_x+\\frac{xb}{a}p_y\n",
    "$$\n",
    "$$\n",
    "x=\\frac{Ia}{bp_y+ap_x}\n",
    "$$\n",
    "$$\n",
    "y=\\frac{Ib}{bp_y+ap_x}\n",
    "$$"
   ]
  },
  {
   "cell_type": "code",
   "execution_count": 181,
   "metadata": {
    "id": "K0_h9Mq5SKxm"
   },
   "outputs": [
    {
     "data": {
      "image/png": "[encoded data removed]",
      "text/plain": [
       "<Figure size 432x288 with 1 Axes>"
      ]
     },
     "metadata": {
      "needs_background": "light"
     },
     "output_type": "display_data"
    }
   ],
   "source": [
    "def budget_Leontev_solution(g1, g2, budget, a, b):\n",
    "    x_solution = budget*a/(b*g2.price+a*g1.price)\n",
    "    y_solution = budget*b/(b*g2.price+a*g1.price)\n",
    "    return x_solution, y_solution, budget/(b*g2.price+a*g1.price)\n",
    "\n",
    "def plot_budget_Leontev(g1, g2, budget, a, b):\n",
    "    x_solution, y_solution, c = budget_Leontev_solution(g1, g2, budget, a, b)\n",
    "    \n",
    "    x_points = [0, budget/g1.price]\n",
    "    y_points = [budget/g2.price, 0]\n",
    "    fig, ax = plt.subplots()\n",
    "    ax.plot(x_points, y_points, label=\"Бюджетная линия\")\n",
    "    ax.fill_between(x_points, y_points, np.zeros_like(x_points), alpha=0.5)\n",
    "    \n",
    "    x_values = [x_solution, x_solution, 5 * x_solution]\n",
    "    y_values = [y_solution * 5, y_solution, y_solution]\n",
    "    ax.plot(x_values, y_values, label=\"Кривая безразличия\")\n",
    "    ax.scatter(x_solution, y_solution, label=\"Оптимальное решение\", color='green')\n",
    "    ax.plot([x_solution, 0], [y_solution, y_solution], 'k:')\n",
    "    ax.plot([x_solution, x_solution], [y_solution, 0], 'k:')\n",
    "    ax.set_xlabel(g1.name)\n",
    "    ax.set_ylabel(g2.name)\n",
    "    ax.spines['left'].set_position('zero')\n",
    "    ax.spines['right'].set_visible(False)\n",
    "    ax.spines['bottom'].set_position('zero')\n",
    "    ax.spines['top'].set_visible(False)\n",
    "    ax.axis('equal')\n",
    "    ax.legend()\n",
    "    plt.show()\n",
    "\n",
    "\n",
    "g1 = Good(\"Яблоки\", 6)\n",
    "g2 = Good(\"Груши\", 5)\n",
    "budget = 100 \n",
    "a = 1\n",
    "b = 2\n",
    "plot_budget_Leontev(g1, g2, budget, a, b)"
   ]
  },
  {
   "cell_type": "markdown",
   "metadata": {
    "id": "vLIxDQHaSKxm"
   },
   "source": [
    "### Интерактивная визуализация оптимального решения для функции полезности Леонтьева"
   ]
  },
  {
   "cell_type": "code",
   "execution_count": 182,
   "metadata": {
    "colab": {
     "base_uri": "https://localhost:8080/",
     "height": 177,
     "referenced_widgets": [
      "0a6442927acf405d946b574f08c1cf0b",
      "097807d0bf0e46ffb4803f04b419e593",
      "0df1212f8e7e44d9a13caf261569addc",
      "056182ff2ad3460ab97beac7c9722228",
      "e568ceefe63843aeb71c3a4d63ecfa7f",
      "eeb8a8f20d564ae0983dd83b40537184",
      "3e921db669ec4450956c8b581bcc7944",
      "e14e8379980d40aca59e473a50a200f3",
      "f435c01eafbc49fab79f712d0dfb79a9",
      "23f40b5c38334bc29923a77c7a574de6",
      "7cde281ca1b042c5821ca795ccc59d2e",
      "9ff4a55ca19a4a6f973592db2723883e",
      "141f28d0f52640e6a271b1b1667c03bc",
      "b0b03f14175947f49d3f83414b10801d",
      "be761665ab844a0eba370d1d164252db",
      "5d1a4a41a64f40d8965688d9ad21347e",
      "61159856cfff4d9095288802efc9574a",
      "352c8910515f4f93b4915e10a263dd15",
      "93f358ac44b84ffba538a25fca74e659"
     ]
    },
    "id": "KuOnnReeSKxm",
    "outputId": "c7c72307-e1fb-49d8-98d5-52231f29a68d"
   },
   "outputs": [
    {
     "data": {
      "application/vnd.jupyter.widget-view+json": {
       "model_id": "89186fbd754a4f7aa89592c719927a0c",
       "version_major": 2,
       "version_minor": 0
      },
      "text/plain": [
       "interactive(children=(IntSlider(value=5, description='p1', max=10, min=1), IntSlider(value=5, description='p2'…"
      ]
     },
     "metadata": {},
     "output_type": "display_data"
    }
   ],
   "source": [
    "def interactive_plot(p1, p2, budget, a, b):\n",
    "    g1 = Good(\"Яблоки\", p1)\n",
    "    g2 = Good(\"Груши\", p2)\n",
    "    plot_budget_Leontev(g1, g2, budget, a, b);\n",
    "\n",
    "interact(interactive_plot, p1=(1, 10), p2 = (1, 10), budget=(1,100), a=(1,10), b=(1,10));"
   ]
  },
  {
   "cell_type": "markdown",
   "metadata": {
    "id": "KHrnGfLhSKxm"
   },
   "source": [
    "# Модель 2"
   ]
  },
  {
   "cell_type": "markdown",
   "metadata": {
    "id": "akr4vJj-SKxm"
   },
   "source": [
    "## Описание класса"
   ]
  },
  {
   "cell_type": "markdown",
   "metadata": {
    "id": "KPP_W-x7SKxn"
   },
   "source": [
    "В данной модели у каждого товара есть три параметра: название, цена и количество такого товара, которое можно получить бесплатно.\n",
    "Это означает, что потребитель всегда может получить бесплатно товар в заданном количестве, а за каждую следующую единицу товара необходимо заплатить указанную цену."
   ]
  },
  {
   "cell_type": "code",
   "execution_count": 259,
   "metadata": {
    "id": "rIoErVBrSKxn"
   },
   "outputs": [],
   "source": [
    "class Good():\n",
    "    def __init__(self, name, price, free):\n",
    "        self.name = name\n",
    "        self.price = price\n",
    "        self.free = free # Количество продукта, которое можно получить бесплатно"
   ]
  },
  {
   "cell_type": "markdown",
   "metadata": {
    "id": "nYKTXtInSKxn"
   },
   "source": [
    "## Проверка бюджетного ограничения. "
   ]
  },
  {
   "cell_type": "markdown",
   "metadata": {
    "id": "xtTnjChpSKxn"
   },
   "source": [
    "Напишем функцию, которая проверит, удовлетворяет ли конкретная точка бюджетным ограничениям."
   ]
  },
  {
   "cell_type": "code",
   "execution_count": 260,
   "metadata": {
    "colab": {
     "base_uri": "https://localhost:8080/"
    },
    "id": "fETkGf_9SKxn",
    "outputId": "27721dc4-bb61-469b-f562-f14e4ef68029"
   },
   "outputs": [
    {
     "name": "stdout",
     "output_type": "stream",
     "text": [
      "1\n",
      "0\n",
      "-1\n"
     ]
    }
   ],
   "source": [
    "def budget_test(g1: Good, g2: Good, budget, x1=0, x2=0):\n",
    "    '''\n",
    "        Проверка расположения точки (x1, x2) относительно бюджетного множества:\n",
    "        Если внутри бюджетного множества, то возвращается значение 1,\n",
    "        Если на границе бюджетного множества, то возвращается значение 0,\n",
    "        Если вне бюджетного множества, то возвращается значение -1.\n",
    "    '''\n",
    "    if (is_equal(max(0, x1 - g1.free) * g1.price + max(0, x2 - g2.free) * g2.price, budget)):\n",
    "        return 0\n",
    "    if max(0, x1 - g1.free) * g1.price + max(0, x2 - g2.free) * g2.price < budget:\n",
    "        return 1\n",
    "    if max(0, x1 - g1.free) * g1.price + max(0, x2 - g2.free) * g2.price > budget:\n",
    "        return -1\n",
    "\n",
    "g1 = Good(\"Яблоки\", 10, 1)\n",
    "g2 = Good(\"Груши\", 10, 1)\n",
    "budget = 100\n",
    "print(budget_test(g1, g2, budget, 5, 6))\n",
    "print(budget_test(g1, g2, budget, 6, 6))\n",
    "print(budget_test(g1, g2, budget, 6, 7))"
   ]
  },
  {
   "cell_type": "markdown",
   "metadata": {
    "id": "C8VO6-EaSKxn"
   },
   "source": [
    "## Графическое представление."
   ]
  },
  {
   "cell_type": "markdown",
   "metadata": {
    "id": "ymSM7JZaSKxn"
   },
   "source": [
    "Напишем функцию, которая будет изображать бюджетное множество и проверяемую точку."
   ]
  },
  {
   "cell_type": "code",
   "execution_count": 261,
   "metadata": {
    "id": "APdKe6cQSKxn"
   },
   "outputs": [
    {
     "data": {
      "image/png": "[encoded data removed]",
      "text/plain": [
       "<Figure size 432x288 with 1 Axes>"
      ]
     },
     "metadata": {
      "needs_background": "light"
     },
     "output_type": "display_data"
    }
   ],
   "source": [
    "def plot_budget(g1: Good, g2: Good, budget, x, y):\n",
    "    # Тут Ваш код\n",
    "    x_points = [0, g1.free, budget/g1.price + g1.free, budget/g1.price + g1.free] \n",
    "    y_points = [budget/g2.price + g2.free, budget/g2.price + g2.free, g2.free, 0]\n",
    "    fig, ax = plt.subplots()\n",
    "    ax.plot(x_points, y_points, label=\"Бюджетная линия\")\n",
    "    ax.fill_between(x_points, y_points, np.zeros_like(x_points), alpha=0.5)\n",
    "    ax.scatter(x, y, label=\"Проверяемая точка\", color='green')\n",
    "    ax.set_xlabel(g1.name)\n",
    "    ax.set_ylabel(g2.name)\n",
    "    ax.spines['left'].set_position('zero')\n",
    "    ax.spines['right'].set_visible(False)\n",
    "    ax.spines['bottom'].set_position('zero')\n",
    "    ax.spines['top'].set_visible(False)\n",
    "    ax.axis('equal')\n",
    "    ax.legend()\n",
    "    plt.show()\n",
    "g1 = Good(\"Яблоки\", 10, 1)\n",
    "g2 = Good(\"Груши\", 10, 1)\n",
    "budget = 100\n",
    "plot_budget(g1, g2, budget, 10, 2)"
   ]
  },
  {
   "cell_type": "markdown",
   "metadata": {
    "id": "HyIehaAhSKxo"
   },
   "source": [
    "## Интерактивное представление"
   ]
  },
  {
   "cell_type": "code",
   "execution_count": 224,
   "metadata": {
    "colab": {
     "base_uri": "https://localhost:8080/",
     "height": 258,
     "referenced_widgets": [
      "a526d4863b97458a9d0b31cde0dcdfd6",
      "f2c06c22aa1f428b9ca317deb7ae7c22",
      "09d045591a434f1abcae0e9534f251d0",
      "398afeb913ed4417828917d230671ba0",
      "a4599451e1594b85908039131923df74",
      "a3b36bf3bbb941e88b1d81cb5a46da90",
      "f12d6b9037d54ac799501e523a7c6f4a",
      "1e582a879e5644e19a9ff95386eac06a",
      "7c7f5ff97c0849c18bb4c03fa05c2c58",
      "437d553d87e3464d833b78b88d48ea40",
      "04ddda1f7cc54f30a047430001352640",
      "fc1bd4f55f9a46a19031861017172884",
      "1b2c84be656643668572acc1ab4395cd",
      "d364d4a8bf1f403ca899c457a2d082e9",
      "7894b19721344da7bef055cf5791277e",
      "26937094d1124dddb5ed55c45bc404ef",
      "22a575d192ec44ca8e6687696879d065",
      "76eb41b17d094d629d4ae1c19030620b",
      "c2fe8edd884844f0b482c94e7b055876",
      "428e3be829624872b7622088d898ec2f",
      "5541ef2ae8bf4b44a6c108b7c3b93b48",
      "bffffd41990e4f2584cce9ed38eb3e15",
      "e1b01905791e4f17bd94a46a00d99ae6",
      "f9b7b6bd74a7413d927eb709711449de",
      "11491230a1884b15823fa65a36fe1dbc"
     ]
    },
    "id": "h2hyiX_FSKxo",
    "outputId": "b5f6af4c-b460-44dd-9b78-b0c6db4f8e5c"
   },
   "outputs": [
    {
     "data": {
      "application/vnd.jupyter.widget-view+json": {
       "model_id": "951e630fa9704395bc193bf251ec5376",
       "version_major": 2,
       "version_minor": 0
      },
      "text/plain": [
       "interactive(children=(IntSlider(value=5, description='p1', max=10, min=1), IntSlider(value=5, description='f1'…"
      ]
     },
     "metadata": {},
     "output_type": "display_data"
    },
    {
     "data": {
      "text/plain": [
       "<function __main__.interactive_plot(p1, f1, p2, f2, budget, x, y)>"
      ]
     },
     "execution_count": 224,
     "metadata": {},
     "output_type": "execute_result"
    }
   ],
   "source": [
    "def interactive_plot(p1, f1, p2, f2, budget, x, y):\n",
    "    g1 = Good(\"Яблоки\", p1, f1)\n",
    "    g2 = Good(\"Груши\", p2, f2)\n",
    "    plot_budget(g1, g2, budget, x, y);\n",
    "\n",
    "interact(interactive_plot, p1=(1, 10), f1=(0, 10), p2 = (1, 10), f2=(0,10), budget=(1,100), x=(0,10), y=(0,10))"
   ]
  },
  {
   "cell_type": "markdown",
   "metadata": {
    "id": "NX5_UsnISKxo"
   },
   "source": [
    "## Работа с таблицами."
   ]
  },
  {
   "cell_type": "code",
   "execution_count": 190,
   "metadata": {
    "id": "MwH08o5bSKxo"
   },
   "outputs": [
    {
     "data": {
      "text/html": [
       "<div>\n",
       "<style scoped>\n",
       "    .dataframe tbody tr th:only-of-type {\n",
       "        vertical-align: middle;\n",
       "    }\n",
       "\n",
       "    .dataframe tbody tr th {\n",
       "        vertical-align: top;\n",
       "    }\n",
       "\n",
       "    .dataframe thead th {\n",
       "        text-align: right;\n",
       "    }\n",
       "</style>\n",
       "<table border=\"1\" class=\"dataframe\">\n",
       "  <thead>\n",
       "    <tr style=\"text-align: right;\">\n",
       "      <th></th>\n",
       "      <th>G1_name</th>\n",
       "      <th>G1_price</th>\n",
       "      <th>G2_name</th>\n",
       "      <th>G2_price</th>\n",
       "      <th>Budget</th>\n",
       "      <th>G1_quant</th>\n",
       "      <th>G2_quant</th>\n",
       "      <th>G1_free</th>\n",
       "      <th>G2_free</th>\n",
       "    </tr>\n",
       "  </thead>\n",
       "  <tbody>\n",
       "    <tr>\n",
       "      <th>0</th>\n",
       "      <td>Яблоки</td>\n",
       "      <td>5</td>\n",
       "      <td>Груши</td>\n",
       "      <td>5</td>\n",
       "      <td>50</td>\n",
       "      <td>5</td>\n",
       "      <td>5</td>\n",
       "      <td>1</td>\n",
       "      <td>3</td>\n",
       "    </tr>\n",
       "    <tr>\n",
       "      <th>1</th>\n",
       "      <td>Яблоки</td>\n",
       "      <td>5</td>\n",
       "      <td>Груши</td>\n",
       "      <td>5</td>\n",
       "      <td>51</td>\n",
       "      <td>5</td>\n",
       "      <td>5</td>\n",
       "      <td>1</td>\n",
       "      <td>0</td>\n",
       "    </tr>\n",
       "    <tr>\n",
       "      <th>2</th>\n",
       "      <td>Апельсины</td>\n",
       "      <td>5</td>\n",
       "      <td>Мандарины</td>\n",
       "      <td>5</td>\n",
       "      <td>49</td>\n",
       "      <td>5</td>\n",
       "      <td>5</td>\n",
       "      <td>4</td>\n",
       "      <td>0</td>\n",
       "    </tr>\n",
       "    <tr>\n",
       "      <th>3</th>\n",
       "      <td>Виоград</td>\n",
       "      <td>2</td>\n",
       "      <td>Малина</td>\n",
       "      <td>3</td>\n",
       "      <td>30</td>\n",
       "      <td>23</td>\n",
       "      <td>45</td>\n",
       "      <td>1</td>\n",
       "      <td>1</td>\n",
       "    </tr>\n",
       "    <tr>\n",
       "      <th>4</th>\n",
       "      <td>Виоград</td>\n",
       "      <td>2</td>\n",
       "      <td>Малина</td>\n",
       "      <td>3</td>\n",
       "      <td>30</td>\n",
       "      <td>6</td>\n",
       "      <td>8</td>\n",
       "      <td>1</td>\n",
       "      <td>0</td>\n",
       "    </tr>\n",
       "    <tr>\n",
       "      <th>5</th>\n",
       "      <td>Яблоки</td>\n",
       "      <td>6</td>\n",
       "      <td>Малина</td>\n",
       "      <td>3</td>\n",
       "      <td>47</td>\n",
       "      <td>6</td>\n",
       "      <td>10</td>\n",
       "      <td>1</td>\n",
       "      <td>2</td>\n",
       "    </tr>\n",
       "    <tr>\n",
       "      <th>6</th>\n",
       "      <td>Виоград</td>\n",
       "      <td>10</td>\n",
       "      <td>Малина</td>\n",
       "      <td>3</td>\n",
       "      <td>100</td>\n",
       "      <td>16</td>\n",
       "      <td>8</td>\n",
       "      <td>3</td>\n",
       "      <td>0</td>\n",
       "    </tr>\n",
       "    <tr>\n",
       "      <th>7</th>\n",
       "      <td>Мандарин</td>\n",
       "      <td>4</td>\n",
       "      <td>Малина</td>\n",
       "      <td>8</td>\n",
       "      <td>45</td>\n",
       "      <td>6</td>\n",
       "      <td>8</td>\n",
       "      <td>1</td>\n",
       "      <td>0</td>\n",
       "    </tr>\n",
       "    <tr>\n",
       "      <th>8</th>\n",
       "      <td>Груши</td>\n",
       "      <td>5</td>\n",
       "      <td>Малина</td>\n",
       "      <td>3</td>\n",
       "      <td>36</td>\n",
       "      <td>2</td>\n",
       "      <td>3</td>\n",
       "      <td>1</td>\n",
       "      <td>0</td>\n",
       "    </tr>\n",
       "  </tbody>\n",
       "</table>\n",
       "</div>"
      ],
      "text/plain": [
       "     G1_name  G1_price    G2_name  G2_price  Budget  G1_quant  G2_quant  \\\n",
       "0    Яблоки          5      Груши         5      50         5         5   \n",
       "1    Яблоки          5      Груши         5      51         5         5   \n",
       "2  Апельсины         5  Мандарины         5      49         5         5   \n",
       "3   Виоград          2    Малина          3      30        23        45   \n",
       "4   Виоград          2    Малина          3      30         6         8   \n",
       "5     Яблоки         6    Малина          3      47         6        10   \n",
       "6   Виоград         10    Малина          3     100        16         8   \n",
       "7   Мандарин         4    Малина          8      45         6         8   \n",
       "8      Груши         5    Малина          3      36         2         3   \n",
       "\n",
       "   G1_free  G2_free  \n",
       "0        1        3  \n",
       "1        1        0  \n",
       "2        4        0  \n",
       "3        1        1  \n",
       "4        1        0  \n",
       "5        1        2  \n",
       "6        3        0  \n",
       "7        1        0  \n",
       "8        1        0  "
      ]
     },
     "execution_count": 190,
     "metadata": {},
     "output_type": "execute_result"
    }
   ],
   "source": [
    "df = pd.read_excel(\"model2_data.xlsx\")\n",
    "df"
   ]
  },
  {
   "cell_type": "code",
   "execution_count": 194,
   "metadata": {},
   "outputs": [
    {
     "data": {
      "text/html": [
       "<div>\n",
       "<style scoped>\n",
       "    .dataframe tbody tr th:only-of-type {\n",
       "        vertical-align: middle;\n",
       "    }\n",
       "\n",
       "    .dataframe tbody tr th {\n",
       "        vertical-align: top;\n",
       "    }\n",
       "\n",
       "    .dataframe thead th {\n",
       "        text-align: right;\n",
       "    }\n",
       "</style>\n",
       "<table border=\"1\" class=\"dataframe\">\n",
       "  <thead>\n",
       "    <tr style=\"text-align: right;\">\n",
       "      <th></th>\n",
       "      <th>G1_name</th>\n",
       "      <th>G1_price</th>\n",
       "      <th>G2_name</th>\n",
       "      <th>G2_price</th>\n",
       "      <th>Budget</th>\n",
       "      <th>G1_quant</th>\n",
       "      <th>G2_quant</th>\n",
       "      <th>G1_free</th>\n",
       "      <th>G2_free</th>\n",
       "      <th>Result</th>\n",
       "    </tr>\n",
       "  </thead>\n",
       "  <tbody>\n",
       "    <tr>\n",
       "      <th>0</th>\n",
       "      <td>Яблоки</td>\n",
       "      <td>5</td>\n",
       "      <td>Груши</td>\n",
       "      <td>5</td>\n",
       "      <td>50</td>\n",
       "      <td>5</td>\n",
       "      <td>5</td>\n",
       "      <td>1</td>\n",
       "      <td>3</td>\n",
       "      <td>1</td>\n",
       "    </tr>\n",
       "    <tr>\n",
       "      <th>1</th>\n",
       "      <td>Яблоки</td>\n",
       "      <td>5</td>\n",
       "      <td>Груши</td>\n",
       "      <td>5</td>\n",
       "      <td>51</td>\n",
       "      <td>5</td>\n",
       "      <td>5</td>\n",
       "      <td>1</td>\n",
       "      <td>0</td>\n",
       "      <td>1</td>\n",
       "    </tr>\n",
       "    <tr>\n",
       "      <th>2</th>\n",
       "      <td>Апельсины</td>\n",
       "      <td>5</td>\n",
       "      <td>Мандарины</td>\n",
       "      <td>5</td>\n",
       "      <td>49</td>\n",
       "      <td>5</td>\n",
       "      <td>5</td>\n",
       "      <td>4</td>\n",
       "      <td>0</td>\n",
       "      <td>1</td>\n",
       "    </tr>\n",
       "    <tr>\n",
       "      <th>3</th>\n",
       "      <td>Виоград</td>\n",
       "      <td>2</td>\n",
       "      <td>Малина</td>\n",
       "      <td>3</td>\n",
       "      <td>30</td>\n",
       "      <td>23</td>\n",
       "      <td>45</td>\n",
       "      <td>1</td>\n",
       "      <td>1</td>\n",
       "      <td>-1</td>\n",
       "    </tr>\n",
       "    <tr>\n",
       "      <th>4</th>\n",
       "      <td>Виоград</td>\n",
       "      <td>2</td>\n",
       "      <td>Малина</td>\n",
       "      <td>3</td>\n",
       "      <td>30</td>\n",
       "      <td>6</td>\n",
       "      <td>8</td>\n",
       "      <td>1</td>\n",
       "      <td>0</td>\n",
       "      <td>-1</td>\n",
       "    </tr>\n",
       "    <tr>\n",
       "      <th>5</th>\n",
       "      <td>Яблоки</td>\n",
       "      <td>6</td>\n",
       "      <td>Малина</td>\n",
       "      <td>3</td>\n",
       "      <td>47</td>\n",
       "      <td>6</td>\n",
       "      <td>10</td>\n",
       "      <td>1</td>\n",
       "      <td>2</td>\n",
       "      <td>-1</td>\n",
       "    </tr>\n",
       "    <tr>\n",
       "      <th>6</th>\n",
       "      <td>Виоград</td>\n",
       "      <td>10</td>\n",
       "      <td>Малина</td>\n",
       "      <td>3</td>\n",
       "      <td>100</td>\n",
       "      <td>16</td>\n",
       "      <td>8</td>\n",
       "      <td>3</td>\n",
       "      <td>0</td>\n",
       "      <td>-1</td>\n",
       "    </tr>\n",
       "    <tr>\n",
       "      <th>7</th>\n",
       "      <td>Мандарин</td>\n",
       "      <td>4</td>\n",
       "      <td>Малина</td>\n",
       "      <td>8</td>\n",
       "      <td>45</td>\n",
       "      <td>6</td>\n",
       "      <td>8</td>\n",
       "      <td>1</td>\n",
       "      <td>0</td>\n",
       "      <td>-1</td>\n",
       "    </tr>\n",
       "    <tr>\n",
       "      <th>8</th>\n",
       "      <td>Груши</td>\n",
       "      <td>5</td>\n",
       "      <td>Малина</td>\n",
       "      <td>3</td>\n",
       "      <td>36</td>\n",
       "      <td>2</td>\n",
       "      <td>3</td>\n",
       "      <td>1</td>\n",
       "      <td>0</td>\n",
       "      <td>1</td>\n",
       "    </tr>\n",
       "  </tbody>\n",
       "</table>\n",
       "</div>"
      ],
      "text/plain": [
       "     G1_name  G1_price    G2_name  G2_price  Budget  G1_quant  G2_quant  \\\n",
       "0    Яблоки          5      Груши         5      50         5         5   \n",
       "1    Яблоки          5      Груши         5      51         5         5   \n",
       "2  Апельсины         5  Мандарины         5      49         5         5   \n",
       "3   Виоград          2    Малина          3      30        23        45   \n",
       "4   Виоград          2    Малина          3      30         6         8   \n",
       "5     Яблоки         6    Малина          3      47         6        10   \n",
       "6   Виоград         10    Малина          3     100        16         8   \n",
       "7   Мандарин         4    Малина          8      45         6         8   \n",
       "8      Груши         5    Малина          3      36         2         3   \n",
       "\n",
       "   G1_free  G2_free  Result  \n",
       "0        1        3       1  \n",
       "1        1        0       1  \n",
       "2        4        0       1  \n",
       "3        1        1      -1  \n",
       "4        1        0      -1  \n",
       "5        1        2      -1  \n",
       "6        3        0      -1  \n",
       "7        1        0      -1  \n",
       "8        1        0       1  "
      ]
     },
     "execution_count": 194,
     "metadata": {},
     "output_type": "execute_result"
    }
   ],
   "source": [
    "result = []\n",
    "for index, row in df.iterrows(): # Цикл по всем строкам df\n",
    "    # Строка сохраняется в словаре row, где ключами являются имена столбцов\n",
    "    \n",
    "    # Для каждой строки создаем продукты\n",
    "    g1 = Good(row['G1_name'], row['G1_price'], row['G1_free']) \n",
    "    g2 = Good(row['G2_name'], row['G2_price'], row['G2_free'])\n",
    "\n",
    "    result.append(budget_test(g1, g2, row['Budget'], row['G1_quant'], row['G2_quant']))\n",
    "\n",
    "df[\"Result\"] = result # Создаем в df новый столбец Result и сохраняем в него список значений result\n",
    "df"
   ]
  },
  {
   "cell_type": "code",
   "execution_count": 195,
   "metadata": {},
   "outputs": [
    {
     "data": {
      "text/html": [
       "<div>\n",
       "<style scoped>\n",
       "    .dataframe tbody tr th:only-of-type {\n",
       "        vertical-align: middle;\n",
       "    }\n",
       "\n",
       "    .dataframe tbody tr th {\n",
       "        vertical-align: top;\n",
       "    }\n",
       "\n",
       "    .dataframe thead th {\n",
       "        text-align: right;\n",
       "    }\n",
       "</style>\n",
       "<table border=\"1\" class=\"dataframe\">\n",
       "  <thead>\n",
       "    <tr style=\"text-align: right;\">\n",
       "      <th></th>\n",
       "      <th>G1_name</th>\n",
       "      <th>G1_price</th>\n",
       "      <th>G2_name</th>\n",
       "      <th>G2_price</th>\n",
       "      <th>Budget</th>\n",
       "      <th>G1_quant</th>\n",
       "      <th>G2_quant</th>\n",
       "      <th>G1_free</th>\n",
       "      <th>G2_free</th>\n",
       "      <th>Result</th>\n",
       "    </tr>\n",
       "  </thead>\n",
       "  <tbody>\n",
       "    <tr>\n",
       "      <th>0</th>\n",
       "      <td>Яблоки</td>\n",
       "      <td>5</td>\n",
       "      <td>Груши</td>\n",
       "      <td>5</td>\n",
       "      <td>50</td>\n",
       "      <td>5</td>\n",
       "      <td>5</td>\n",
       "      <td>1</td>\n",
       "      <td>3</td>\n",
       "      <td>1</td>\n",
       "    </tr>\n",
       "    <tr>\n",
       "      <th>1</th>\n",
       "      <td>Яблоки</td>\n",
       "      <td>5</td>\n",
       "      <td>Груши</td>\n",
       "      <td>5</td>\n",
       "      <td>51</td>\n",
       "      <td>5</td>\n",
       "      <td>5</td>\n",
       "      <td>1</td>\n",
       "      <td>0</td>\n",
       "      <td>1</td>\n",
       "    </tr>\n",
       "    <tr>\n",
       "      <th>2</th>\n",
       "      <td>Апельсины</td>\n",
       "      <td>5</td>\n",
       "      <td>Мандарины</td>\n",
       "      <td>5</td>\n",
       "      <td>49</td>\n",
       "      <td>5</td>\n",
       "      <td>5</td>\n",
       "      <td>4</td>\n",
       "      <td>0</td>\n",
       "      <td>1</td>\n",
       "    </tr>\n",
       "    <tr>\n",
       "      <th>8</th>\n",
       "      <td>Груши</td>\n",
       "      <td>5</td>\n",
       "      <td>Малина</td>\n",
       "      <td>3</td>\n",
       "      <td>36</td>\n",
       "      <td>2</td>\n",
       "      <td>3</td>\n",
       "      <td>1</td>\n",
       "      <td>0</td>\n",
       "      <td>1</td>\n",
       "    </tr>\n",
       "  </tbody>\n",
       "</table>\n",
       "</div>"
      ],
      "text/plain": [
       "     G1_name  G1_price    G2_name  G2_price  Budget  G1_quant  G2_quant  \\\n",
       "0    Яблоки          5      Груши         5      50         5         5   \n",
       "1    Яблоки          5      Груши         5      51         5         5   \n",
       "2  Апельсины         5  Мандарины         5      49         5         5   \n",
       "8      Груши         5    Малина          3      36         2         3   \n",
       "\n",
       "   G1_free  G2_free  Result  \n",
       "0        1        3       1  \n",
       "1        1        0       1  \n",
       "2        4        0       1  \n",
       "8        1        0       1  "
      ]
     },
     "execution_count": 195,
     "metadata": {},
     "output_type": "execute_result"
    }
   ],
   "source": [
    "df_super = df[df[\"Result\"] >= 0] # Фильтруем датафрейм по условию, что в столбце Result значение >= 0 и сохраняем в новый датафрейм\n",
    "df_super"
   ]
  },
  {
   "cell_type": "code",
   "execution_count": 196,
   "metadata": {},
   "outputs": [
    {
     "data": {
      "text/html": [
       "<div>\n",
       "<style scoped>\n",
       "    .dataframe tbody tr th:only-of-type {\n",
       "        vertical-align: middle;\n",
       "    }\n",
       "\n",
       "    .dataframe tbody tr th {\n",
       "        vertical-align: top;\n",
       "    }\n",
       "\n",
       "    .dataframe thead th {\n",
       "        text-align: right;\n",
       "    }\n",
       "</style>\n",
       "<table border=\"1\" class=\"dataframe\">\n",
       "  <thead>\n",
       "    <tr style=\"text-align: right;\">\n",
       "      <th></th>\n",
       "      <th>G1_name</th>\n",
       "      <th>G1_price</th>\n",
       "      <th>G2_name</th>\n",
       "      <th>G2_price</th>\n",
       "      <th>Budget</th>\n",
       "      <th>G1_quant</th>\n",
       "      <th>G2_quant</th>\n",
       "      <th>G1_free</th>\n",
       "      <th>G2_free</th>\n",
       "      <th>Result</th>\n",
       "    </tr>\n",
       "  </thead>\n",
       "  <tbody>\n",
       "    <tr>\n",
       "      <th>0</th>\n",
       "      <td>Яблоки</td>\n",
       "      <td>5</td>\n",
       "      <td>Груши</td>\n",
       "      <td>5</td>\n",
       "      <td>50</td>\n",
       "      <td>5</td>\n",
       "      <td>5</td>\n",
       "      <td>1</td>\n",
       "      <td>3</td>\n",
       "      <td>1</td>\n",
       "    </tr>\n",
       "    <tr>\n",
       "      <th>1</th>\n",
       "      <td>Яблоки</td>\n",
       "      <td>5</td>\n",
       "      <td>Груши</td>\n",
       "      <td>5</td>\n",
       "      <td>51</td>\n",
       "      <td>5</td>\n",
       "      <td>5</td>\n",
       "      <td>1</td>\n",
       "      <td>0</td>\n",
       "      <td>1</td>\n",
       "    </tr>\n",
       "    <tr>\n",
       "      <th>8</th>\n",
       "      <td>Груши</td>\n",
       "      <td>5</td>\n",
       "      <td>Малина</td>\n",
       "      <td>3</td>\n",
       "      <td>36</td>\n",
       "      <td>2</td>\n",
       "      <td>3</td>\n",
       "      <td>1</td>\n",
       "      <td>0</td>\n",
       "      <td>1</td>\n",
       "    </tr>\n",
       "    <tr>\n",
       "      <th>2</th>\n",
       "      <td>Апельсины</td>\n",
       "      <td>5</td>\n",
       "      <td>Мандарины</td>\n",
       "      <td>5</td>\n",
       "      <td>49</td>\n",
       "      <td>5</td>\n",
       "      <td>5</td>\n",
       "      <td>4</td>\n",
       "      <td>0</td>\n",
       "      <td>1</td>\n",
       "    </tr>\n",
       "  </tbody>\n",
       "</table>\n",
       "</div>"
      ],
      "text/plain": [
       "     G1_name  G1_price    G2_name  G2_price  Budget  G1_quant  G2_quant  \\\n",
       "0    Яблоки          5      Груши         5      50         5         5   \n",
       "1    Яблоки          5      Груши         5      51         5         5   \n",
       "8      Груши         5    Малина          3      36         2         3   \n",
       "2  Апельсины         5  Мандарины         5      49         5         5   \n",
       "\n",
       "   G1_free  G2_free  Result  \n",
       "0        1        3       1  \n",
       "1        1        0       1  \n",
       "8        1        0       1  \n",
       "2        4        0       1  "
      ]
     },
     "execution_count": 196,
     "metadata": {},
     "output_type": "execute_result"
    }
   ],
   "source": [
    "df_super = df_super.sort_values(by = 'G1_free') # Сортируем датафрейм по столбцу G1_free и сохраняем в тот же датафрейм\n",
    "df_super"
   ]
  },
  {
   "cell_type": "code",
   "execution_count": 197,
   "metadata": {},
   "outputs": [],
   "source": [
    "df_super.to_excel(\"model2_result.xlsx\") # Сохраняем "
   ]
  },
  {
   "cell_type": "markdown",
   "metadata": {
    "id": "GsIU-gEUSKxo"
   },
   "source": [
    "## Обратная задача."
   ]
  },
  {
   "cell_type": "markdown",
   "metadata": {
    "id": "c0iZOO-wSKxo"
   },
   "source": [
    "Пусть нам даны четыре точки $A_1 = (a_{1,1}, a_{1,2})$, $A_2 = (a_{2,1}, a_{2,2})$, $A_3 = (a_{3,1}, a_{3,2})$ и $A_4 = (a_{4,1}, a_{4,2})$. Необходимо определить, существуют ли параметры Модели 2, т.е. значения __price >0__ и __free >= 0__ для двух товаров такие, чтобы граница бюджетной линии содержала указанные точки. Если такие параметры существуют для рассматриваемой модели, то необходимо вывести параметры модели и изобразить ее бюджетное ограничение. Если таких параметров не существует, то необходимо вывести сообщение об этом.\n",
    "\n",
    "Реализуем графический интерактивный интерфейс, визуализирующий решение данной задачи, по аналогии с тем, как это сделано для Модели 1."
   ]
  },
  {
   "cell_type": "code",
   "execution_count": 257,
   "metadata": {
    "id": "pEOqzD7dSKxp"
   },
   "outputs": [
    {
     "data": {
      "application/vnd.jupyter.widget-view+json": {
       "model_id": "519e562d49444756b679165a9c15a372",
       "version_major": 2,
       "version_minor": 0
      },
      "text/plain": [
       "interactive(children=(IntSlider(value=5, description='x1', max=10, min=1), IntSlider(value=5, description='y1'…"
      ]
     },
     "metadata": {},
     "output_type": "display_data"
    },
    {
     "data": {
      "text/plain": [
       "<function __main__.interactive_plot(x1, y1, x2, y2, x3, y3, x4, y4)>"
      ]
     },
     "execution_count": 257,
     "metadata": {},
     "output_type": "execute_result"
    }
   ],
   "source": [
    "def interactive_plot(x1, y1, x2, y2, x3, y3, x4, y4):\n",
    "    A = [[x1, y1], [x2, y2], [x3, y3], [x4, y4]]\n",
    "    A.sort(key = lambda x: x[0]) # сортируем по возрастанию x и убыванию y\n",
    "    if A[3][1] > A[2][1]:\n",
    "        A[3][1], A[2][1] = A[2][1], A[3][1]\n",
    "        A[3][0], A[2][0] = A[2][0], A[3][0]\n",
    "    fig, ax = plt.subplots() # Создаем фигуру\n",
    "\n",
    "    list_of_points = np.transpose(np.array(A))\n",
    "    x_values = list_of_points[0]\n",
    "    y_values = list_of_points[1]\n",
    "    ax.scatter(x_values, y_values, label=\"Заданные точки\", color=\"green\")\n",
    "            \n",
    "    ax.axis('equal') # Принудительно делаем оси равными\n",
    "    temp = A\n",
    "    temp.sort(key = lambda x: x[0])\n",
    "    checker = 1\n",
    "    if temp[0][1] < temp[1][1] and temp[0][0] != temp[1][0]:\n",
    "        checker = 0\n",
    "    if temp[1][1] < temp[2][1] and temp[1][0] != temp[2][0]:\n",
    "        checker = 0\n",
    "    if temp[2][1] < temp[3][1] and temp[2][0] != temp[3][0]:\n",
    "        checker = 0\n",
    "    for i in A:\n",
    "        for j in A:\n",
    "            if (i[0] > j[0] and i[1] > j[1]):\n",
    "                checker = 0\n",
    "    if (checker):\n",
    "        if x1 == x2 == x3 == x4 or y1 == y2 == y3 == y4:\n",
    "            x_points = [0, max(x1, x2, x3, x4), max(x1, x2, x3, x4)]\n",
    "            y_points = [max(y1, y2, y3, y4), max(y1, y2, y3, y4), 0]\n",
    "            ax.plot(x_points, y_points, label=\"Бюджетная линия\")\n",
    "            ax.fill_between(x_points, y_points, np.zeros_like(x_points), alpha=0.5)\n",
    "        \n",
    "\n",
    "            ax.spines['left'].set_position('zero')\n",
    "            ax.spines['right'].set_visible(False)\n",
    "            ax.spines['bottom'].set_position('zero')\n",
    "            ax.spines['top'].set_visible(False)\n",
    "        elif A[2] == A[1]:\n",
    "            x_points = [0, A[1][0], A[1][0]]\n",
    "            y_points = [A[1][1], A[1][1], 0]\n",
    "            ax.plot(x_points, y_points, label=\"Бюджетная линия\") # Строим прямую по двум точкам\n",
    "            ax.fill_between(x_points, y_points, np.zeros_like(x_points), alpha=0.5)\n",
    "        \n",
    "\n",
    "            ax.spines['left'].set_position('zero')\n",
    "            ax.spines['right'].set_visible(False)\n",
    "            ax.spines['bottom'].set_position('zero')\n",
    "            ax.spines['top'].set_visible(False)\n",
    "        elif A[1][0] == A[2][0] and A[1][1] == A[2][1]:\n",
    "            if A[0] == A[1]:\n",
    "                k = (A[2][1] - A[3][1])/(A[2][0] - A[3][0])\n",
    "                b = A[2][1] - k * A[2][0]\n",
    "            else:\n",
    "                k = (A[0][1] - A[1][1])/(A[0][0] - A[1][0])\n",
    "                b = A[0][1] - k * A[0][0]\n",
    "            fig.suptitle(\"Бюджетное множество\")\n",
    "            x_points = [0, (A[0][1]-b)/k, A[3][0], A[3][0]] \n",
    "            y_points = [A[0][1], A[0][1], k*A[3][0] + b, 0]\n",
    "\n",
    "            ax.plot(x_points, y_points, label=\"Бюджетная линия\") # Строим прямую по двум точкам\n",
    "            ax.fill_between(x_points, y_points, np.zeros_like(x_points), alpha=0.5)\n",
    "        \n",
    "\n",
    "            ax.spines['left'].set_position('zero')\n",
    "            ax.spines['right'].set_visible(False)\n",
    "            ax.spines['bottom'].set_position('zero')\n",
    "            ax.spines['top'].set_visible(False)\n",
    "        else:\n",
    "            k = (A[1][1] - A[2][1])/(A[1][0] - A[2][0])\n",
    "            b = A[1][1] - k * A[1][0]\n",
    "            fig.suptitle(\"Бюджетное множество\")\n",
    "            x_points = [0, (A[0][1]-b)/k, A[3][0], A[3][0]] \n",
    "            y_points = [A[0][1], A[0][1], k*A[3][0] + b, 0]\n",
    "\n",
    "            ax.plot(x_points, y_points, label=\"Бюджетная линия\") # Строим прямую по двум точкам\n",
    "            ax.fill_between(x_points, y_points, np.zeros_like(x_points), alpha=0.5)\n",
    "            \n",
    "\n",
    "            ax.spines['left'].set_position('zero')\n",
    "            ax.spines['right'].set_visible(False)\n",
    "            ax.spines['bottom'].set_position('zero')\n",
    "            ax.spines['top'].set_visible(False)\n",
    "    else:\n",
    "        fig.suptitle(\"Модель не предусматривает решения\")\n",
    "    ax.legend()\n",
    "interact(interactive_plot, x1 = (1, 10), y1= (1, 10), x2=(1, 10), y2 = (1, 10), x3 = (1, 10), y3 = (1, 10), x4 = (1, 10), y4 = (1, 10))"
   ]
  },
  {
   "cell_type": "markdown",
   "metadata": {
    "id": "ReQQaRaoSKxp"
   },
   "source": [
    "## Кривые безразличия."
   ]
  },
  {
   "cell_type": "markdown",
   "metadata": {
    "id": "IJj1SivSSKxp"
   },
   "source": [
    "Для двух товаров из Модели 2 и кривой безразличия функции Кобба-Дугласа найдем оптимальное решение и визуализируйте его при помощи интерактивного виджета."
   ]
  },
  {
   "cell_type": "code",
   "execution_count": 214,
   "metadata": {
    "id": "Ys2twwCbSKxp"
   },
   "outputs": [],
   "source": [
    "def budget_Cobb_Douglas_solution(g1, g2, budget, alpha=0.5):\n",
    "    x_solution = alpha*(budget/g1.price+g1.free)\n",
    "    y_solution = (1-alpha)*(budget/g2.price+g2.free)\n",
    "    return x_solution, y_solution, math.pow(x_solution, alpha)*math.pow(y_solution, 1-alpha)\n",
    "\n",
    "def plot_budget_Cobb_Douglas(g1: Good, g2: Good, budget, alpha=0.5):\n",
    "    x_solution, y_solution, c = budget_Cobb_Douglas_solution(g1, g2, budget, alpha)\n",
    "    \n",
    "    x_points = [0, budget/g1.price +g1.free]\n",
    "    y_points = [budget/g2.price +g2.free, 0]\n",
    "    fig, ax = plt.subplots()\n",
    "    ax.plot(x_points, y_points, label=\"Бюджетная линия\")\n",
    "    ax.fill_between(x_points, y_points, np.zeros_like(x_points), alpha=0.5)\n",
    "    \n",
    "    x_values = np.linspace(0.1, budget/g1.price+g1.free)\n",
    "    y_values = np.array([Cobb_Douglas(x, c, alpha) for x in x_values])\n",
    "    filter = y_values < budget/g2.price + g2.free\n",
    "    ax.plot(x_values[filter], y_values[filter], label=\"Кривая безразличия\")\n",
    "    ax.scatter(x_solution, y_solution, label=\"Оптимальное решение\", color='green')\n",
    "    ax.plot([x_solution, 0], [y_solution, y_solution], 'k:')\n",
    "    ax.plot([x_solution, x_solution], [y_solution, 0], 'k:')\n",
    "    ax.set_xlabel(g1.name)\n",
    "    ax.set_ylabel(g2.name)\n",
    "    ax.spines['left'].set_position('zero')\n",
    "    ax.spines['right'].set_visible(False)\n",
    "    ax.spines['bottom'].set_position('zero')\n",
    "    ax.spines['top'].set_visible(False)\n",
    "    ax.axis('equal')\n",
    "    ax.legend()\n",
    "    plt.show()"
   ]
  },
  {
   "cell_type": "code",
   "execution_count": 215,
   "metadata": {
    "colab": {
     "referenced_widgets": [
      "be82f75d91aa49f58f98dcd70b3f793e"
     ]
    },
    "id": "3Th46bXrSKxp",
    "outputId": "9d9ad42c-be7c-4886-f595-9eedad83d8c7"
   },
   "outputs": [
    {
     "data": {
      "application/vnd.jupyter.widget-view+json": {
       "model_id": "ed18d8cc39734f5a986f3f31b0373cfd",
       "version_major": 2,
       "version_minor": 0
      },
      "text/plain": [
       "interactive(children=(IntSlider(value=5, description='p1', max=10, min=1), IntSlider(value=5, description='p2'…"
      ]
     },
     "metadata": {},
     "output_type": "display_data"
    }
   ],
   "source": [
    "def interactive_plot(p1, p2, f1, f2, budget, alpha):\n",
    "    g1 = Good(\"Яблоки\", p1, f1)\n",
    "    g2 = Good(\"Груши\", p2, f2)\n",
    "    plot_budget_Cobb_Douglas(g1, g2, budget, alpha);\n",
    "\n",
    "interact(interactive_plot, p1=(1, 10), p2 = (1, 10), f1 = (0,10), f2=(0,10), budget=(1,100), alpha=(0.1,0.9));"
   ]
  },
  {
   "cell_type": "markdown",
   "metadata": {
    "id": "3BfxAHmASKxp"
   },
   "source": [
    "# Модель 3"
   ]
  },
  {
   "cell_type": "markdown",
   "metadata": {
    "id": "_-760Dw5SKxp"
   },
   "source": [
    "## Описание класса."
   ]
  },
  {
   "cell_type": "markdown",
   "metadata": {
    "id": "HGQXpWzqSKxp"
   },
   "source": [
    "В данной модели у каждого товара есть следующие параметры: определено некоторое пороговое значение threshold, а также две цены - $price_1$ и $price_2$. Если количество купленного товара меньше и равна $threshold$, то каждая его единица стоит $price_1$. А каждая единица товара свыше $threshold$ стоит $price_2$.\n",
    "\n",
    "Например, если $threshold = 3$, $price_1 = 10$ и $price_2 = 5$, то:\n",
    "* 2 единицы товара стоят 20,\n",
    "* 3 единицы товара стоят 30,\n",
    "* 4 единицы товара стоят 35,\n",
    "* 5 единиц товара стоят 40."
   ]
  },
  {
   "cell_type": "markdown",
   "metadata": {
    "id": "mAn5k9HdSKxp"
   },
   "source": [
    "Создадим класс Good для товаров данной модели. Реализуем в классе метод price(quantity), который будет находить стоимость x товаров данного вида. Реализуем в классе метод quantity(budget), который будет находить какое количество данного товара можно приобрести за стоимость budget."
   ]
  },
  {
   "cell_type": "code",
   "execution_count": 290,
   "metadata": {
    "id": "1n6ZluTdSKxq"
   },
   "outputs": [],
   "source": [
    "# Создадим класс для товаров модели\n",
    "class Good():\n",
    "    # Тут Ваш код\n",
    "    def __init__(self, name, threshold, price1, price2):\n",
    "        self.name = name\n",
    "        self.threshold = threshold \n",
    "        self.price1 = price1\n",
    "        self.price2 = price2\n",
    "    def price(self, x):\n",
    "        if x <= threshold:\n",
    "            return price1 * x\n",
    "        return price1 * threshold + price2 * (x - threshold)\n",
    "    def quantity(self, budget):\n",
    "        if budget <= self.threshold * self.price1:\n",
    "            return budget / self.price1\n",
    "        else:\n",
    "            return (budget - self.price1 * self.threshold) / self.price2 + self.threshold"
   ]
  },
  {
   "cell_type": "markdown",
   "metadata": {
    "id": "fk6HiDTnSKxq"
   },
   "source": [
    "## Бюджетное ограничение."
   ]
  },
  {
   "cell_type": "markdown",
   "metadata": {
    "id": "2rrjAkfrSKxq"
   },
   "source": [
    "Напишем функцию, которая проверит, удовлетворяет ли конкретная точка бюджетным ограничениям."
   ]
  },
  {
   "cell_type": "code",
   "execution_count": 264,
   "metadata": {
    "id": "nw5Uo9ZaSKxq",
    "outputId": "8216bafb-7e55-403c-e2d1-bb929d0db338"
   },
   "outputs": [
    {
     "name": "stdout",
     "output_type": "stream",
     "text": [
      "1\n",
      "0\n",
      "-1\n"
     ]
    }
   ],
   "source": [
    "def budget_test(g1: Good, g2: Good, budget, x1=0, x2=0):\n",
    "    '''\n",
    "        Проверка расположения точки (x1, x2) относительно бюджетного множества:\n",
    "        Если внутри бюджетного множества, то возвращается значение 1,\n",
    "        Если на границе бюджетного множества, то возвращается значение 0,\n",
    "        Если вне бюджетного множества, то возвращается значение -1.\n",
    "    '''\n",
    "    if x1 <= g1.threshold:\n",
    "        if x2 <= g2.threshold:\n",
    "            if (is_equal(g1.price1 * x1 + g2.price1 * x2, budget)):\n",
    "                return 0\n",
    "            if g1.price1 * x1 + g2.price1 * x2 < budget:\n",
    "                return 1\n",
    "            return -1\n",
    "        else:\n",
    "            if (is_equal(g1.price1 * x1 + g2.price1 * g2.threshold + g2.price2 * (x2 - g2.threshold), budget)):\n",
    "                return 0\n",
    "            if g1.price1 * x1 + g2.price1 * g2.threshold + g2.price2 * (x2 - g2.threshold) < budget:\n",
    "                return 1\n",
    "            return -1\n",
    "    else:\n",
    "        if x2 <= g2.threshold:\n",
    "            if (is_equal(g1.price1 * g2.threshold + g1.price2 * (x1 - g1.threshold) + g2.price1 * x2, budget)):\n",
    "                return 0\n",
    "            if g1.price1 * g2.threshold + g1.price2 * (x1 - g1.threshold) + g2.price1 * x2 < budget:\n",
    "                return 1\n",
    "            return -1\n",
    "        else:\n",
    "            if (is_equal(g1.price1 * g1.threshold + g1.price2 * (x1 - g1.threshold) + g2.price1 * g2.threshold + g2.price2 * (x2 - g2.threshold), budget)):\n",
    "                return 0\n",
    "            if g1.price1 * g1.threshold + g1.price2 * (x1 - g1.threshold) + g2.price1 * g2.threshold + g2.price2 * (x2 - g2.threshold) < budget:\n",
    "                return 1\n",
    "            return -1\n",
    "\n",
    "g1 = Good(\"Яблоки\", 5, 10, 3)\n",
    "g2 = Good(\"Груши\", 3, 8, 3)\n",
    "budget = 86\n",
    "print(budget_test(g1, g2, budget, 5, 6))\n",
    "print(budget_test(g1, g2, budget, 6, 6))\n",
    "print(budget_test(g1, g2, budget, 6, 7))"
   ]
  },
  {
   "cell_type": "markdown",
   "metadata": {
    "id": "WLMnxdzlSKxq"
   },
   "source": [
    "## Графическое и интерактивное представление. <font color=\"red\">Задание 11.</font> <a id=\"task_11\"></a>"
   ]
  },
  {
   "cell_type": "markdown",
   "metadata": {
    "id": "u0C-CRsSSKxq"
   },
   "source": [
    "Напишем функцию, которая будет визуализировать бюджетное множество и проверяемую точку, а также по аналогии с предыдущими примерами реализуем интерактивное представление."
   ]
  },
  {
   "cell_type": "code",
   "execution_count": 265,
   "metadata": {
    "id": "GETEiCFXSKxq"
   },
   "outputs": [
    {
     "data": {
      "image/png": "[encoded data removed]",
      "text/plain": [
       "<Figure size 432x288 with 1 Axes>"
      ]
     },
     "metadata": {
      "needs_background": "light"
     },
     "output_type": "display_data"
    }
   ],
   "source": [
    "def plot_budget(g1: Good, g2: Good, budget, x1, x2):\n",
    "    if g2.quantity(budget - g1.threshold * g1.price1) < g2.threshold:\n",
    "        x_points = [0, g1.quantity(budget - g2.threshold * g2.price1), g1.threshold, g1.quantity(budget)]\n",
    "        y_points = [g2.quantity(budget), g2.threshold, g2.quantity(budget - g1.threshold * g1.price1), 0]\n",
    "    else:\n",
    "        x_points = [0, g1.threshold, g1.quantity(budget - g2.threshold * g2.price1), g1.quantity(budget)]\n",
    "        y_points = [g2.quantity(budget), g2.quantity(budget - g1.threshold * g1.price1), g2.threshold, 0]\n",
    "        \n",
    "    fig, ax = plt.subplots() # Создаем фигуру\n",
    "    fig.suptitle(\"Бюджетное множество\")\n",
    "    \n",
    "    ax.plot(x_points, y_points, label=\"Бюджетная линия\") # Строим прямую по двум точкам\n",
    "    ax.fill_between(x_points, y_points, np.zeros_like(x_points), alpha=0.5) # Заливаем область под графиком с прозрачностью (alpha) 0.5\n",
    "    \n",
    "    point_status = budget_test(g1, g2, budget, x1, x2) # Находим статус проверяемой точки\n",
    "    \n",
    "    # В зависимости от статуса определяем цвет точки и надпись\n",
    "    if point_status == 1:\n",
    "        point_color = \"green\"\n",
    "        point_label = \"Допустимо\"\n",
    "    elif point_status == 0:\n",
    "        point_color = \"yellow\"\n",
    "        point_label = \"На границе\"\n",
    "    else: \n",
    "        point_color = \"red\"\n",
    "        point_label = \"Недопустимо\"\n",
    "    \n",
    "    ax.scatter(x1, x2, color=point_color, label=point_label) # Рисуем точку\n",
    "    ax.plot([x1, x1], [0, x2], 'k:') # Добавляем вертикальную черную (k) пунктирную (:) линию к точке (x,y)\n",
    "    ax.plot([0, x1], [x2, x2], 'k:') # Добавляем горизонтальную черную (k) пунктирную (:) линию к точке (x,y)\n",
    "    \n",
    "    # Добавляем название осей\n",
    "    ax.set_xlabel(g1.name)\n",
    "    ax.set_ylabel(g2.name)\n",
    "\n",
    "    # Сдвигаем и скрываем оси так, чтобы получились декартовы координаты\n",
    "    ax.spines['left'].set_position('zero')\n",
    "    ax.spines['right'].set_visible(False)\n",
    "    ax.spines['bottom'].set_position('zero')\n",
    "    ax.spines['top'].set_visible(False)\n",
    "    \n",
    "    ax.axis('equal') # Принудительно делаем оси равными\n",
    "    ax.legend() # Отображаем легенду (информацию о данных)\n",
    "    plt.show() # Отображаем рисунок\n",
    "\n",
    "\n",
    "g1 = Good(\"Яблоки\", 5, 10, 3)\n",
    "g2 = Good(\"Груши\", 3, 8, 3)\n",
    "budget = 86\n",
    "plot_budget(g1, g2, budget, 6, 6)"
   ]
  },
  {
   "cell_type": "code",
   "execution_count": 269,
   "metadata": {},
   "outputs": [
    {
     "data": {
      "application/vnd.jupyter.widget-view+json": {
       "model_id": "d2715905a908480a83ff864158367547",
       "version_major": 2,
       "version_minor": 0
      },
      "text/plain": [
       "interactive(children=(IntSlider(value=10, description='p1', max=20, min=1), IntSlider(value=5, description='f1…"
      ]
     },
     "metadata": {},
     "output_type": "display_data"
    },
    {
     "data": {
      "text/plain": [
       "<function __main__.interactive_plot(p1, f1, f2, p2, f3, f4, budget, x, y)>"
      ]
     },
     "execution_count": 269,
     "metadata": {},
     "output_type": "execute_result"
    }
   ],
   "source": [
    "def interactive_plot(p1, f1, f2, p2, f3, f4, budget, x, y):\n",
    "    g1 = Good(\"Яблоки\", p1, f1, f2)\n",
    "    g2 = Good(\"Груши\", p2, f3, f4)\n",
    "    plot_budget(g1, g2, budget, x, y);\n",
    "\n",
    "interact(interactive_plot, p1=(1, 20), f1=(0, 10), f2=(0, 10), p2=(1, 20), f3=(0,10), f4=(0, 10), budget=(1,200), x=(0,10), y=(0,10))"
   ]
  }
 ],
 "metadata": {
  "colab": {
   "provenance": []
  },
  "kernelspec": {
   "display_name": "Python 3 (ipykernel)",
   "language": "python",
   "name": "python3"
  },
  "language_info": {
   "codemirror_mode": {
    "name": "ipython",
    "version": 3
   },
   "file_extension": ".py",
   "mimetype": "text/x-python",
   "name": "python",
   "nbconvert_exporter": "python",
   "pygments_lexer": "ipython3",
   "version": "3.9.12"
  },
  "widgets": {
   "application/vnd.jupyter.widget-state+json": {
    "04ddda1f7cc54f30a047430001352640": {
     "model_module": "@jupyter-widgets/base",
     "model_module_version": "1.2.0",
     "model_name": "LayoutModel",
     "state": {
      "_model_module": "@jupyter-widgets/base",
      "_model_module_version": "1.2.0",
      "_model_name": "LayoutModel",
      "_view_count": null,
      "_view_module": "@jupyter-widgets/base",
      "_view_module_version": "1.2.0",
      "_view_name": "LayoutView",
      "align_content": null,
      "align_items": null,
      "align_self": null,
      "border": null,
      "bottom": null,
      "display": null,
      "flex": null,
      "flex_flow": null,
      "grid_area": null,
      "grid_auto_columns": null,
      "grid_auto_flow": null,
      "grid_auto_rows": null,
      "grid_column": null,
      "grid_gap": null,
      "grid_row": null,
      "grid_template_areas": null,
      "grid_template_columns": null,
      "grid_template_rows": null,
      "height": null,
      "justify_content": null,
      "justify_items": null,
      "left": null,
      "margin": null,
      "max_height": null,
      "max_width": null,
      "min_height": null,
      "min_width": null,
      "object_fit": null,
      "object_position": null,
      "order": null,
      "overflow": null,
      "overflow_x": null,
      "overflow_y": null,
      "padding": null,
      "right": null,
      "top": null,
      "visibility": null,
      "width": null
     }
    },
    "056182ff2ad3460ab97beac7c9722228": {
     "model_module": "@jupyter-widgets/controls",
     "model_module_version": "1.5.0",
     "model_name": "IntSliderModel",
     "state": {
      "_dom_classes": [],
      "_model_module": "@jupyter-widgets/controls",
      "_model_module_version": "1.5.0",
      "_model_name": "IntSliderModel",
      "_view_count": null,
      "_view_module": "@jupyter-widgets/controls",
      "_view_module_version": "1.5.0",
      "_view_name": "IntSliderView",
      "continuous_update": true,
      "description": "budget",
      "description_tooltip": null,
      "disabled": false,
      "layout": "IPY_MODEL_141f28d0f52640e6a271b1b1667c03bc",
      "max": 100,
      "min": 1,
      "orientation": "horizontal",
      "readout": true,
      "readout_format": "d",
      "step": 1,
      "style": "IPY_MODEL_b0b03f14175947f49d3f83414b10801d",
      "value": 50
     }
    },
    "0868f1c3fed24484ad460f2271d7720c": {
     "model_module": "@jupyter-widgets/controls",
     "model_module_version": "1.5.0",
     "model_name": "IntSliderModel",
     "state": {
      "_dom_classes": [],
      "_model_module": "@jupyter-widgets/controls",
      "_model_module_version": "1.5.0",
      "_model_name": "IntSliderModel",
      "_view_count": null,
      "_view_module": "@jupyter-widgets/controls",
      "_view_module_version": "1.5.0",
      "_view_name": "IntSliderView",
      "continuous_update": true,
      "description": "x12",
      "description_tooltip": null,
      "disabled": false,
      "layout": "IPY_MODEL_921e3f002d0d4751a8920ba79711dd0c",
      "max": 10,
      "min": 1,
      "orientation": "horizontal",
      "readout": true,
      "readout_format": "d",
      "step": 1,
      "style": "IPY_MODEL_91e74c90a77d462498c2ae2f99b945e7",
      "value": 2
     }
    },
    "097807d0bf0e46ffb4803f04b419e593": {
     "model_module": "@jupyter-widgets/controls",
     "model_module_version": "1.5.0",
     "model_name": "IntSliderModel",
     "state": {
      "_dom_classes": [],
      "_model_module": "@jupyter-widgets/controls",
      "_model_module_version": "1.5.0",
      "_model_name": "IntSliderModel",
      "_view_count": null,
      "_view_module": "@jupyter-widgets/controls",
      "_view_module_version": "1.5.0",
      "_view_name": "IntSliderView",
      "continuous_update": true,
      "description": "p1",
      "description_tooltip": null,
      "disabled": false,
      "layout": "IPY_MODEL_f435c01eafbc49fab79f712d0dfb79a9",
      "max": 10,
      "min": 1,
      "orientation": "horizontal",
      "readout": true,
      "readout_format": "d",
      "step": 1,
      "style": "IPY_MODEL_23f40b5c38334bc29923a77c7a574de6",
      "value": 5
     }
    },
    "09aab143ef524b39bcd1db8c17bf5962": {
     "model_module": "@jupyter-widgets/controls",
     "model_module_version": "1.5.0",
     "model_name": "SliderStyleModel",
     "state": {
      "_model_module": "@jupyter-widgets/controls",
      "_model_module_version": "1.5.0",
      "_model_name": "SliderStyleModel",
      "_view_count": null,
      "_view_module": "@jupyter-widgets/base",
      "_view_module_version": "1.2.0",
      "_view_name": "StyleView",
      "description_width": "",
      "handle_color": null
     }
    },
    "09d045591a434f1abcae0e9534f251d0": {
     "model_module": "@jupyter-widgets/controls",
     "model_module_version": "1.5.0",
     "model_name": "IntSliderModel",
     "state": {
      "_dom_classes": [],
      "_model_module": "@jupyter-widgets/controls",
      "_model_module_version": "1.5.0",
      "_model_name": "IntSliderModel",
      "_view_count": null,
      "_view_module": "@jupyter-widgets/controls",
      "_view_module_version": "1.5.0",
      "_view_name": "IntSliderView",
      "continuous_update": true,
      "description": "f1",
      "description_tooltip": null,
      "disabled": false,
      "layout": "IPY_MODEL_1b2c84be656643668572acc1ab4395cd",
      "max": 10,
      "min": 0,
      "orientation": "horizontal",
      "readout": true,
      "readout_format": "d",
      "step": 1,
      "style": "IPY_MODEL_d364d4a8bf1f403ca899c457a2d082e9",
      "value": 5
     }
    },
    "0a4b83989c054b58a1ebdf635a57cb6b": {
     "model_module": "@jupyter-widgets/base",
     "model_module_version": "1.2.0",
     "model_name": "LayoutModel",
     "state": {
      "_model_module": "@jupyter-widgets/base",
      "_model_module_version": "1.2.0",
      "_model_name": "LayoutModel",
      "_view_count": null,
      "_view_module": "@jupyter-widgets/base",
      "_view_module_version": "1.2.0",
      "_view_name": "LayoutView",
      "align_content": null,
      "align_items": null,
      "align_self": null,
      "border": null,
      "bottom": null,
      "display": null,
      "flex": null,
      "flex_flow": null,
      "grid_area": null,
      "grid_auto_columns": null,
      "grid_auto_flow": null,
      "grid_auto_rows": null,
      "grid_column": null,
      "grid_gap": null,
      "grid_row": null,
      "grid_template_areas": null,
      "grid_template_columns": null,
      "grid_template_rows": null,
      "height": null,
      "justify_content": null,
      "justify_items": null,
      "left": null,
      "margin": null,
      "max_height": null,
      "max_width": null,
      "min_height": null,
      "min_width": null,
      "object_fit": null,
      "object_position": null,
      "order": null,
      "overflow": null,
      "overflow_x": null,
      "overflow_y": null,
      "padding": null,
      "right": null,
      "top": null,
      "visibility": null,
      "width": null
     }
    },
    "0a6442927acf405d946b574f08c1cf0b": {
     "model_module": "@jupyter-widgets/controls",
     "model_module_version": "1.5.0",
     "model_name": "VBoxModel",
     "state": {
      "_dom_classes": [
       "widget-interact"
      ],
      "_model_module": "@jupyter-widgets/controls",
      "_model_module_version": "1.5.0",
      "_model_name": "VBoxModel",
      "_view_count": null,
      "_view_module": "@jupyter-widgets/controls",
      "_view_module_version": "1.5.0",
      "_view_name": "VBoxView",
      "box_style": "",
      "children": [
       "IPY_MODEL_097807d0bf0e46ffb4803f04b419e593",
       "IPY_MODEL_0df1212f8e7e44d9a13caf261569addc",
       "IPY_MODEL_056182ff2ad3460ab97beac7c9722228",
       "IPY_MODEL_e568ceefe63843aeb71c3a4d63ecfa7f",
       "IPY_MODEL_eeb8a8f20d564ae0983dd83b40537184",
       "IPY_MODEL_3e921db669ec4450956c8b581bcc7944"
      ],
      "layout": "IPY_MODEL_e14e8379980d40aca59e473a50a200f3"
     }
    },
    "0c0c306fa06944b3824f9ade241bbc13": {
     "model_module": "@jupyter-widgets/controls",
     "model_module_version": "1.5.0",
     "model_name": "IntSliderModel",
     "state": {
      "_dom_classes": [],
      "_model_module": "@jupyter-widgets/controls",
      "_model_module_version": "1.5.0",
      "_model_name": "IntSliderModel",
      "_view_count": null,
      "_view_module": "@jupyter-widgets/controls",
      "_view_module_version": "1.5.0",
      "_view_name": "IntSliderView",
      "continuous_update": true,
      "description": "budget",
      "description_tooltip": null,
      "disabled": false,
      "layout": "IPY_MODEL_9b1a5f3d88f541b7899185415f3c34ef",
      "max": 100,
      "min": 1,
      "orientation": "horizontal",
      "readout": true,
      "readout_format": "d",
      "step": 1,
      "style": "IPY_MODEL_d16fc7849d4b44b6b7e964f698b8b08b",
      "value": 50
     }
    },
    "0d1467c3a2bb44d4998f337ee407f5e5": {
     "model_module": "@jupyter-widgets/controls",
     "model_module_version": "1.5.0",
     "model_name": "SliderStyleModel",
     "state": {
      "_model_module": "@jupyter-widgets/controls",
      "_model_module_version": "1.5.0",
      "_model_name": "SliderStyleModel",
      "_view_count": null,
      "_view_module": "@jupyter-widgets/base",
      "_view_module_version": "1.2.0",
      "_view_name": "StyleView",
      "description_width": "",
      "handle_color": null
     }
    },
    "0df1212f8e7e44d9a13caf261569addc": {
     "model_module": "@jupyter-widgets/controls",
     "model_module_version": "1.5.0",
     "model_name": "IntSliderModel",
     "state": {
      "_dom_classes": [],
      "_model_module": "@jupyter-widgets/controls",
      "_model_module_version": "1.5.0",
      "_model_name": "IntSliderModel",
      "_view_count": null,
      "_view_module": "@jupyter-widgets/controls",
      "_view_module_version": "1.5.0",
      "_view_name": "IntSliderView",
      "continuous_update": true,
      "description": "p2",
      "description_tooltip": null,
      "disabled": false,
      "layout": "IPY_MODEL_7cde281ca1b042c5821ca795ccc59d2e",
      "max": 10,
      "min": 1,
      "orientation": "horizontal",
      "readout": true,
      "readout_format": "d",
      "step": 1,
      "style": "IPY_MODEL_9ff4a55ca19a4a6f973592db2723883e",
      "value": 5
     }
    },
    "11491230a1884b15823fa65a36fe1dbc": {
     "model_module": "@jupyter-widgets/base",
     "model_module_version": "1.2.0",
     "model_name": "LayoutModel",
     "state": {
      "_model_module": "@jupyter-widgets/base",
      "_model_module_version": "1.2.0",
      "_model_name": "LayoutModel",
      "_view_count": null,
      "_view_module": "@jupyter-widgets/base",
      "_view_module_version": "1.2.0",
      "_view_name": "LayoutView",
      "align_content": null,
      "align_items": null,
      "align_self": null,
      "border": null,
      "bottom": null,
      "display": null,
      "flex": null,
      "flex_flow": null,
      "grid_area": null,
      "grid_auto_columns": null,
      "grid_auto_flow": null,
      "grid_auto_rows": null,
      "grid_column": null,
      "grid_gap": null,
      "grid_row": null,
      "grid_template_areas": null,
      "grid_template_columns": null,
      "grid_template_rows": null,
      "height": null,
      "justify_content": null,
      "justify_items": null,
      "left": null,
      "margin": null,
      "max_height": null,
      "max_width": null,
      "min_height": null,
      "min_width": null,
      "object_fit": null,
      "object_position": null,
      "order": null,
      "overflow": null,
      "overflow_x": null,
      "overflow_y": null,
      "padding": null,
      "right": null,
      "top": null,
      "visibility": null,
      "width": null
     }
    },
    "11f28d94a5324a4f859ef4d450d10796": {
     "model_module": "@jupyter-widgets/controls",
     "model_module_version": "1.5.0",
     "model_name": "IntSliderModel",
     "state": {
      "_dom_classes": [],
      "_model_module": "@jupyter-widgets/controls",
      "_model_module_version": "1.5.0",
      "_model_name": "IntSliderModel",
      "_view_count": null,
      "_view_module": "@jupyter-widgets/controls",
      "_view_module_version": "1.5.0",
      "_view_name": "IntSliderView",
      "continuous_update": true,
      "description": "p1",
      "description_tooltip": null,
      "disabled": false,
      "layout": "IPY_MODEL_0a4b83989c054b58a1ebdf635a57cb6b",
      "max": 10,
      "min": 1,
      "orientation": "horizontal",
      "readout": true,
      "readout_format": "d",
      "step": 1,
      "style": "IPY_MODEL_ab02272983c740199033a8d4e1231ea2",
      "value": 5
     }
    },
    "132cf5fe14884de8ab19b0e1f6a701f9": {
     "model_module": "@jupyter-widgets/base",
     "model_module_version": "1.2.0",
     "model_name": "LayoutModel",
     "state": {
      "_model_module": "@jupyter-widgets/base",
      "_model_module_version": "1.2.0",
      "_model_name": "LayoutModel",
      "_view_count": null,
      "_view_module": "@jupyter-widgets/base",
      "_view_module_version": "1.2.0",
      "_view_name": "LayoutView",
      "align_content": null,
      "align_items": null,
      "align_self": null,
      "border": null,
      "bottom": null,
      "display": null,
      "flex": null,
      "flex_flow": null,
      "grid_area": null,
      "grid_auto_columns": null,
      "grid_auto_flow": null,
      "grid_auto_rows": null,
      "grid_column": null,
      "grid_gap": null,
      "grid_row": null,
      "grid_template_areas": null,
      "grid_template_columns": null,
      "grid_template_rows": null,
      "height": null,
      "justify_content": null,
      "justify_items": null,
      "left": null,
      "margin": null,
      "max_height": null,
      "max_width": null,
      "min_height": null,
      "min_width": null,
      "object_fit": null,
      "object_position": null,
      "order": null,
      "overflow": null,
      "overflow_x": null,
      "overflow_y": null,
      "padding": null,
      "right": null,
      "top": null,
      "visibility": null,
      "width": null
     }
    },
    "141f28d0f52640e6a271b1b1667c03bc": {
     "model_module": "@jupyter-widgets/base",
     "model_module_version": "1.2.0",
     "model_name": "LayoutModel",
     "state": {
      "_model_module": "@jupyter-widgets/base",
      "_model_module_version": "1.2.0",
      "_model_name": "LayoutModel",
      "_view_count": null,
      "_view_module": "@jupyter-widgets/base",
      "_view_module_version": "1.2.0",
      "_view_name": "LayoutView",
      "align_content": null,
      "align_items": null,
      "align_self": null,
      "border": null,
      "bottom": null,
      "display": null,
      "flex": null,
      "flex_flow": null,
      "grid_area": null,
      "grid_auto_columns": null,
      "grid_auto_flow": null,
      "grid_auto_rows": null,
      "grid_column": null,
      "grid_gap": null,
      "grid_row": null,
      "grid_template_areas": null,
      "grid_template_columns": null,
      "grid_template_rows": null,
      "height": null,
      "justify_content": null,
      "justify_items": null,
      "left": null,
      "margin": null,
      "max_height": null,
      "max_width": null,
      "min_height": null,
      "min_width": null,
      "object_fit": null,
      "object_position": null,
      "order": null,
      "overflow": null,
      "overflow_x": null,
      "overflow_y": null,
      "padding": null,
      "right": null,
      "top": null,
      "visibility": null,
      "width": null
     }
    },
    "18d12fb6a251423a8aa62a5569ce8e57": {
     "model_module": "@jupyter-widgets/base",
     "model_module_version": "1.2.0",
     "model_name": "LayoutModel",
     "state": {
      "_model_module": "@jupyter-widgets/base",
      "_model_module_version": "1.2.0",
      "_model_name": "LayoutModel",
      "_view_count": null,
      "_view_module": "@jupyter-widgets/base",
      "_view_module_version": "1.2.0",
      "_view_name": "LayoutView",
      "align_content": null,
      "align_items": null,
      "align_self": null,
      "border": null,
      "bottom": null,
      "display": null,
      "flex": null,
      "flex_flow": null,
      "grid_area": null,
      "grid_auto_columns": null,
      "grid_auto_flow": null,
      "grid_auto_rows": null,
      "grid_column": null,
      "grid_gap": null,
      "grid_row": null,
      "grid_template_areas": null,
      "grid_template_columns": null,
      "grid_template_rows": null,
      "height": null,
      "justify_content": null,
      "justify_items": null,
      "left": null,
      "margin": null,
      "max_height": null,
      "max_width": null,
      "min_height": null,
      "min_width": null,
      "object_fit": null,
      "object_position": null,
      "order": null,
      "overflow": null,
      "overflow_x": null,
      "overflow_y": null,
      "padding": null,
      "right": null,
      "top": null,
      "visibility": null,
      "width": null
     }
    },
    "1b2c84be656643668572acc1ab4395cd": {
     "model_module": "@jupyter-widgets/base",
     "model_module_version": "1.2.0",
     "model_name": "LayoutModel",
     "state": {
      "_model_module": "@jupyter-widgets/base",
      "_model_module_version": "1.2.0",
      "_model_name": "LayoutModel",
      "_view_count": null,
      "_view_module": "@jupyter-widgets/base",
      "_view_module_version": "1.2.0",
      "_view_name": "LayoutView",
      "align_content": null,
      "align_items": null,
      "align_self": null,
      "border": null,
      "bottom": null,
      "display": null,
      "flex": null,
      "flex_flow": null,
      "grid_area": null,
      "grid_auto_columns": null,
      "grid_auto_flow": null,
      "grid_auto_rows": null,
      "grid_column": null,
      "grid_gap": null,
      "grid_row": null,
      "grid_template_areas": null,
      "grid_template_columns": null,
      "grid_template_rows": null,
      "height": null,
      "justify_content": null,
      "justify_items": null,
      "left": null,
      "margin": null,
      "max_height": null,
      "max_width": null,
      "min_height": null,
      "min_width": null,
      "object_fit": null,
      "object_position": null,
      "order": null,
      "overflow": null,
      "overflow_x": null,
      "overflow_y": null,
      "padding": null,
      "right": null,
      "top": null,
      "visibility": null,
      "width": null
     }
    },
    "1e582a879e5644e19a9ff95386eac06a": {
     "model_module": "@jupyter-widgets/controls",
     "model_module_version": "1.5.0",
     "model_name": "IntSliderModel",
     "state": {
      "_dom_classes": [],
      "_model_module": "@jupyter-widgets/controls",
      "_model_module_version": "1.5.0",
      "_model_name": "IntSliderModel",
      "_view_count": null,
      "_view_module": "@jupyter-widgets/controls",
      "_view_module_version": "1.5.0",
      "_view_name": "IntSliderView",
      "continuous_update": true,
      "description": "y",
      "description_tooltip": null,
      "disabled": false,
      "layout": "IPY_MODEL_e1b01905791e4f17bd94a46a00d99ae6",
      "max": 10,
      "min": 0,
      "orientation": "horizontal",
      "readout": true,
      "readout_format": "d",
      "step": 1,
      "style": "IPY_MODEL_f9b7b6bd74a7413d927eb709711449de",
      "value": 5
     }
    },
    "226e18a459204a9f8ddb2deee676bc63": {
     "model_module": "@jupyter-widgets/controls",
     "model_module_version": "1.5.0",
     "model_name": "SliderStyleModel",
     "state": {
      "_model_module": "@jupyter-widgets/controls",
      "_model_module_version": "1.5.0",
      "_model_name": "SliderStyleModel",
      "_view_count": null,
      "_view_module": "@jupyter-widgets/base",
      "_view_module_version": "1.2.0",
      "_view_name": "StyleView",
      "description_width": "",
      "handle_color": null
     }
    },
    "22a575d192ec44ca8e6687696879d065": {
     "model_module": "@jupyter-widgets/base",
     "model_module_version": "1.2.0",
     "model_name": "LayoutModel",
     "state": {
      "_model_module": "@jupyter-widgets/base",
      "_model_module_version": "1.2.0",
      "_model_name": "LayoutModel",
      "_view_count": null,
      "_view_module": "@jupyter-widgets/base",
      "_view_module_version": "1.2.0",
      "_view_name": "LayoutView",
      "align_content": null,
      "align_items": null,
      "align_self": null,
      "border": null,
      "bottom": null,
      "display": null,
      "flex": null,
      "flex_flow": null,
      "grid_area": null,
      "grid_auto_columns": null,
      "grid_auto_flow": null,
      "grid_auto_rows": null,
      "grid_column": null,
      "grid_gap": null,
      "grid_row": null,
      "grid_template_areas": null,
      "grid_template_columns": null,
      "grid_template_rows": null,
      "height": null,
      "justify_content": null,
      "justify_items": null,
      "left": null,
      "margin": null,
      "max_height": null,
      "max_width": null,
      "min_height": null,
      "min_width": null,
      "object_fit": null,
      "object_position": null,
      "order": null,
      "overflow": null,
      "overflow_x": null,
      "overflow_y": null,
      "padding": null,
      "right": null,
      "top": null,
      "visibility": null,
      "width": null
     }
    },
    "23f40b5c38334bc29923a77c7a574de6": {
     "model_module": "@jupyter-widgets/controls",
     "model_module_version": "1.5.0",
     "model_name": "SliderStyleModel",
     "state": {
      "_model_module": "@jupyter-widgets/controls",
      "_model_module_version": "1.5.0",
      "_model_name": "SliderStyleModel",
      "_view_count": null,
      "_view_module": "@jupyter-widgets/base",
      "_view_module_version": "1.2.0",
      "_view_name": "StyleView",
      "description_width": "",
      "handle_color": null
     }
    },
    "253093a51b3041959577f9cb79885bf8": {
     "model_module": "@jupyter-widgets/base",
     "model_module_version": "1.2.0",
     "model_name": "LayoutModel",
     "state": {
      "_model_module": "@jupyter-widgets/base",
      "_model_module_version": "1.2.0",
      "_model_name": "LayoutModel",
      "_view_count": null,
      "_view_module": "@jupyter-widgets/base",
      "_view_module_version": "1.2.0",
      "_view_name": "LayoutView",
      "align_content": null,
      "align_items": null,
      "align_self": null,
      "border": null,
      "bottom": null,
      "display": null,
      "flex": null,
      "flex_flow": null,
      "grid_area": null,
      "grid_auto_columns": null,
      "grid_auto_flow": null,
      "grid_auto_rows": null,
      "grid_column": null,
      "grid_gap": null,
      "grid_row": null,
      "grid_template_areas": null,
      "grid_template_columns": null,
      "grid_template_rows": null,
      "height": null,
      "justify_content": null,
      "justify_items": null,
      "left": null,
      "margin": null,
      "max_height": null,
      "max_width": null,
      "min_height": null,
      "min_width": null,
      "object_fit": null,
      "object_position": null,
      "order": null,
      "overflow": null,
      "overflow_x": null,
      "overflow_y": null,
      "padding": null,
      "right": null,
      "top": null,
      "visibility": null,
      "width": null
     }
    },
    "26937094d1124dddb5ed55c45bc404ef": {
     "model_module": "@jupyter-widgets/controls",
     "model_module_version": "1.5.0",
     "model_name": "SliderStyleModel",
     "state": {
      "_model_module": "@jupyter-widgets/controls",
      "_model_module_version": "1.5.0",
      "_model_name": "SliderStyleModel",
      "_view_count": null,
      "_view_module": "@jupyter-widgets/base",
      "_view_module_version": "1.2.0",
      "_view_name": "StyleView",
      "description_width": "",
      "handle_color": null
     }
    },
    "2a257aff103249ef8093fd1c31dcb26a": {
     "model_module": "@jupyter-widgets/controls",
     "model_module_version": "1.5.0",
     "model_name": "VBoxModel",
     "state": {
      "_dom_classes": [
       "widget-interact"
      ],
      "_model_module": "@jupyter-widgets/controls",
      "_model_module_version": "1.5.0",
      "_model_name": "VBoxModel",
      "_view_count": null,
      "_view_module": "@jupyter-widgets/controls",
      "_view_module_version": "1.5.0",
      "_view_name": "VBoxView",
      "box_style": "",
      "children": [
       "IPY_MODEL_11f28d94a5324a4f859ef4d450d10796",
       "IPY_MODEL_85f87509b208415a804b30a9f155c84a",
       "IPY_MODEL_0c0c306fa06944b3824f9ade241bbc13",
       "IPY_MODEL_aff61557f07440cf802eaad770e54fee",
       "IPY_MODEL_feaa2bd4d51c47ee98331377a4d9c1d7",
       "IPY_MODEL_aa303c7500794ffeb724e893a16281ff"
      ],
      "layout": "IPY_MODEL_515fc3c09e044b81b1afa578688843ce"
     }
    },
    "352c8910515f4f93b4915e10a263dd15": {
     "model_module": "@jupyter-widgets/controls",
     "model_module_version": "1.5.0",
     "model_name": "SliderStyleModel",
     "state": {
      "_model_module": "@jupyter-widgets/controls",
      "_model_module_version": "1.5.0",
      "_model_name": "SliderStyleModel",
      "_view_count": null,
      "_view_module": "@jupyter-widgets/base",
      "_view_module_version": "1.2.0",
      "_view_name": "StyleView",
      "description_width": "",
      "handle_color": null
     }
    },
    "398afeb913ed4417828917d230671ba0": {
     "model_module": "@jupyter-widgets/controls",
     "model_module_version": "1.5.0",
     "model_name": "IntSliderModel",
     "state": {
      "_dom_classes": [],
      "_model_module": "@jupyter-widgets/controls",
      "_model_module_version": "1.5.0",
      "_model_name": "IntSliderModel",
      "_view_count": null,
      "_view_module": "@jupyter-widgets/controls",
      "_view_module_version": "1.5.0",
      "_view_name": "IntSliderView",
      "continuous_update": true,
      "description": "p2",
      "description_tooltip": null,
      "disabled": false,
      "layout": "IPY_MODEL_7894b19721344da7bef055cf5791277e",
      "max": 10,
      "min": 1,
      "orientation": "horizontal",
      "readout": true,
      "readout_format": "d",
      "step": 1,
      "style": "IPY_MODEL_26937094d1124dddb5ed55c45bc404ef",
      "value": 5
     }
    },
    "3a72722f5c82423db8cb2250d3d675de": {
     "model_module": "@jupyter-widgets/controls",
     "model_module_version": "1.5.0",
     "model_name": "IntSliderModel",
     "state": {
      "_dom_classes": [],
      "_model_module": "@jupyter-widgets/controls",
      "_model_module_version": "1.5.0",
      "_model_name": "IntSliderModel",
      "_view_count": null,
      "_view_module": "@jupyter-widgets/controls",
      "_view_module_version": "1.5.0",
      "_view_name": "IntSliderView",
      "continuous_update": true,
      "description": "x21",
      "description_tooltip": null,
      "disabled": false,
      "layout": "IPY_MODEL_8b481b83af644ece98bb296600bd68d7",
      "max": 10,
      "min": 1,
      "orientation": "horizontal",
      "readout": true,
      "readout_format": "d",
      "step": 1,
      "style": "IPY_MODEL_226e18a459204a9f8ddb2deee676bc63",
      "value": 3
     }
    },
    "3d2d60c3c75d483c997466d030745194": {
     "model_module": "@jupyter-widgets/controls",
     "model_module_version": "1.5.0",
     "model_name": "SliderStyleModel",
     "state": {
      "_model_module": "@jupyter-widgets/controls",
      "_model_module_version": "1.5.0",
      "_model_name": "SliderStyleModel",
      "_view_count": null,
      "_view_module": "@jupyter-widgets/base",
      "_view_module_version": "1.2.0",
      "_view_name": "StyleView",
      "description_width": "",
      "handle_color": null
     }
    },
    "3e921db669ec4450956c8b581bcc7944": {
     "model_module": "@jupyter-widgets/output",
     "model_module_version": "1.0.0",
     "model_name": "OutputModel",
     "state": {
      "_dom_classes": [],
      "_model_module": "@jupyter-widgets/output",
      "_model_module_version": "1.0.0",
      "_model_name": "OutputModel",
      "_view_count": null,
      "_view_module": "@jupyter-widgets/output",
      "_view_module_version": "1.0.0",
      "_view_name": "OutputView",
      "layout": "IPY_MODEL_93f358ac44b84ffba538a25fca74e659",
      "msg_id": "",
      "outputs": []
     }
    },
    "428e3be829624872b7622088d898ec2f": {
     "model_module": "@jupyter-widgets/controls",
     "model_module_version": "1.5.0",
     "model_name": "SliderStyleModel",
     "state": {
      "_model_module": "@jupyter-widgets/controls",
      "_model_module_version": "1.5.0",
      "_model_name": "SliderStyleModel",
      "_view_count": null,
      "_view_module": "@jupyter-widgets/base",
      "_view_module_version": "1.2.0",
      "_view_name": "StyleView",
      "description_width": "",
      "handle_color": null
     }
    },
    "430741cd6e234b1094784735429fddc9": {
     "model_module": "@jupyter-widgets/controls",
     "model_module_version": "1.5.0",
     "model_name": "IntSliderModel",
     "state": {
      "_dom_classes": [],
      "_model_module": "@jupyter-widgets/controls",
      "_model_module_version": "1.5.0",
      "_model_name": "IntSliderModel",
      "_view_count": null,
      "_view_module": "@jupyter-widgets/controls",
      "_view_module_version": "1.5.0",
      "_view_name": "IntSliderView",
      "continuous_update": true,
      "description": "budget",
      "description_tooltip": null,
      "disabled": false,
      "layout": "IPY_MODEL_c02eaa9c94a34ef5b7d1aa543a7d335d",
      "max": 100,
      "min": 1,
      "orientation": "horizontal",
      "readout": true,
      "readout_format": "d",
      "step": 1,
      "style": "IPY_MODEL_7cae8a0f6d214a31bc1ab0964f5e65b3",
      "value": 50
     }
    },
    "437d553d87e3464d833b78b88d48ea40": {
     "model_module": "@jupyter-widgets/base",
     "model_module_version": "1.2.0",
     "model_name": "LayoutModel",
     "state": {
      "_model_module": "@jupyter-widgets/base",
      "_model_module_version": "1.2.0",
      "_model_name": "LayoutModel",
      "_view_count": null,
      "_view_module": "@jupyter-widgets/base",
      "_view_module_version": "1.2.0",
      "_view_name": "LayoutView",
      "align_content": null,
      "align_items": null,
      "align_self": null,
      "border": null,
      "bottom": null,
      "display": null,
      "flex": null,
      "flex_flow": null,
      "grid_area": null,
      "grid_auto_columns": null,
      "grid_auto_flow": null,
      "grid_auto_rows": null,
      "grid_column": null,
      "grid_gap": null,
      "grid_row": null,
      "grid_template_areas": null,
      "grid_template_columns": null,
      "grid_template_rows": null,
      "height": null,
      "justify_content": null,
      "justify_items": null,
      "left": null,
      "margin": null,
      "max_height": null,
      "max_width": null,
      "min_height": null,
      "min_width": null,
      "object_fit": null,
      "object_position": null,
      "order": null,
      "overflow": null,
      "overflow_x": null,
      "overflow_y": null,
      "padding": null,
      "right": null,
      "top": null,
      "visibility": null,
      "width": null
     }
    },
    "4fcded3fcaf3465a87aec9a44bfbc55e": {
     "model_module": "@jupyter-widgets/base",
     "model_module_version": "1.2.0",
     "model_name": "LayoutModel",
     "state": {
      "_model_module": "@jupyter-widgets/base",
      "_model_module_version": "1.2.0",
      "_model_name": "LayoutModel",
      "_view_count": null,
      "_view_module": "@jupyter-widgets/base",
      "_view_module_version": "1.2.0",
      "_view_name": "LayoutView",
      "align_content": null,
      "align_items": null,
      "align_self": null,
      "border": null,
      "bottom": null,
      "display": null,
      "flex": null,
      "flex_flow": null,
      "grid_area": null,
      "grid_auto_columns": null,
      "grid_auto_flow": null,
      "grid_auto_rows": null,
      "grid_column": null,
      "grid_gap": null,
      "grid_row": null,
      "grid_template_areas": null,
      "grid_template_columns": null,
      "grid_template_rows": null,
      "height": null,
      "justify_content": null,
      "justify_items": null,
      "left": null,
      "margin": null,
      "max_height": null,
      "max_width": null,
      "min_height": null,
      "min_width": null,
      "object_fit": null,
      "object_position": null,
      "order": null,
      "overflow": null,
      "overflow_x": null,
      "overflow_y": null,
      "padding": null,
      "right": null,
      "top": null,
      "visibility": null,
      "width": null
     }
    },
    "50ea3f3450ae4199880b762fd98e3b2f": {
     "model_module": "@jupyter-widgets/controls",
     "model_module_version": "1.5.0",
     "model_name": "FloatSliderModel",
     "state": {
      "_dom_classes": [],
      "_model_module": "@jupyter-widgets/controls",
      "_model_module_version": "1.5.0",
      "_model_name": "FloatSliderModel",
      "_view_count": null,
      "_view_module": "@jupyter-widgets/controls",
      "_view_module_version": "1.5.0",
      "_view_name": "FloatSliderView",
      "continuous_update": true,
      "description": "alpha",
      "description_tooltip": null,
      "disabled": false,
      "layout": "IPY_MODEL_5cf1d83496424a4f8611e4f76cbed880",
      "max": 0.9,
      "min": 0.1,
      "orientation": "horizontal",
      "readout": true,
      "readout_format": ".2f",
      "step": 0.1,
      "style": "IPY_MODEL_c4eed584770e4635a3527461524ec8c9",
      "value": 0.2
     }
    },
    "515fc3c09e044b81b1afa578688843ce": {
     "model_module": "@jupyter-widgets/base",
     "model_module_version": "1.2.0",
     "model_name": "LayoutModel",
     "state": {
      "_model_module": "@jupyter-widgets/base",
      "_model_module_version": "1.2.0",
      "_model_name": "LayoutModel",
      "_view_count": null,
      "_view_module": "@jupyter-widgets/base",
      "_view_module_version": "1.2.0",
      "_view_name": "LayoutView",
      "align_content": null,
      "align_items": null,
      "align_self": null,
      "border": null,
      "bottom": null,
      "display": null,
      "flex": null,
      "flex_flow": null,
      "grid_area": null,
      "grid_auto_columns": null,
      "grid_auto_flow": null,
      "grid_auto_rows": null,
      "grid_column": null,
      "grid_gap": null,
      "grid_row": null,
      "grid_template_areas": null,
      "grid_template_columns": null,
      "grid_template_rows": null,
      "height": null,
      "justify_content": null,
      "justify_items": null,
      "left": null,
      "margin": null,
      "max_height": null,
      "max_width": null,
      "min_height": null,
      "min_width": null,
      "object_fit": null,
      "object_position": null,
      "order": null,
      "overflow": null,
      "overflow_x": null,
      "overflow_y": null,
      "padding": null,
      "right": null,
      "top": null,
      "visibility": null,
      "width": null
     }
    },
    "5541ef2ae8bf4b44a6c108b7c3b93b48": {
     "model_module": "@jupyter-widgets/base",
     "model_module_version": "1.2.0",
     "model_name": "LayoutModel",
     "state": {
      "_model_module": "@jupyter-widgets/base",
      "_model_module_version": "1.2.0",
      "_model_name": "LayoutModel",
      "_view_count": null,
      "_view_module": "@jupyter-widgets/base",
      "_view_module_version": "1.2.0",
      "_view_name": "LayoutView",
      "align_content": null,
      "align_items": null,
      "align_self": null,
      "border": null,
      "bottom": null,
      "display": null,
      "flex": null,
      "flex_flow": null,
      "grid_area": null,
      "grid_auto_columns": null,
      "grid_auto_flow": null,
      "grid_auto_rows": null,
      "grid_column": null,
      "grid_gap": null,
      "grid_row": null,
      "grid_template_areas": null,
      "grid_template_columns": null,
      "grid_template_rows": null,
      "height": null,
      "justify_content": null,
      "justify_items": null,
      "left": null,
      "margin": null,
      "max_height": null,
      "max_width": null,
      "min_height": null,
      "min_width": null,
      "object_fit": null,
      "object_position": null,
      "order": null,
      "overflow": null,
      "overflow_x": null,
      "overflow_y": null,
      "padding": null,
      "right": null,
      "top": null,
      "visibility": null,
      "width": null
     }
    },
    "5cf1d83496424a4f8611e4f76cbed880": {
     "model_module": "@jupyter-widgets/base",
     "model_module_version": "1.2.0",
     "model_name": "LayoutModel",
     "state": {
      "_model_module": "@jupyter-widgets/base",
      "_model_module_version": "1.2.0",
      "_model_name": "LayoutModel",
      "_view_count": null,
      "_view_module": "@jupyter-widgets/base",
      "_view_module_version": "1.2.0",
      "_view_name": "LayoutView",
      "align_content": null,
      "align_items": null,
      "align_self": null,
      "border": null,
      "bottom": null,
      "display": null,
      "flex": null,
      "flex_flow": null,
      "grid_area": null,
      "grid_auto_columns": null,
      "grid_auto_flow": null,
      "grid_auto_rows": null,
      "grid_column": null,
      "grid_gap": null,
      "grid_row": null,
      "grid_template_areas": null,
      "grid_template_columns": null,
      "grid_template_rows": null,
      "height": null,
      "justify_content": null,
      "justify_items": null,
      "left": null,
      "margin": null,
      "max_height": null,
      "max_width": null,
      "min_height": null,
      "min_width": null,
      "object_fit": null,
      "object_position": null,
      "order": null,
      "overflow": null,
      "overflow_x": null,
      "overflow_y": null,
      "padding": null,
      "right": null,
      "top": null,
      "visibility": null,
      "width": null
     }
    },
    "5d1a4a41a64f40d8965688d9ad21347e": {
     "model_module": "@jupyter-widgets/controls",
     "model_module_version": "1.5.0",
     "model_name": "SliderStyleModel",
     "state": {
      "_model_module": "@jupyter-widgets/controls",
      "_model_module_version": "1.5.0",
      "_model_name": "SliderStyleModel",
      "_view_count": null,
      "_view_module": "@jupyter-widgets/base",
      "_view_module_version": "1.2.0",
      "_view_name": "StyleView",
      "description_width": "",
      "handle_color": null
     }
    },
    "61159856cfff4d9095288802efc9574a": {
     "model_module": "@jupyter-widgets/base",
     "model_module_version": "1.2.0",
     "model_name": "LayoutModel",
     "state": {
      "_model_module": "@jupyter-widgets/base",
      "_model_module_version": "1.2.0",
      "_model_name": "LayoutModel",
      "_view_count": null,
      "_view_module": "@jupyter-widgets/base",
      "_view_module_version": "1.2.0",
      "_view_name": "LayoutView",
      "align_content": null,
      "align_items": null,
      "align_self": null,
      "border": null,
      "bottom": null,
      "display": null,
      "flex": null,
      "flex_flow": null,
      "grid_area": null,
      "grid_auto_columns": null,
      "grid_auto_flow": null,
      "grid_auto_rows": null,
      "grid_column": null,
      "grid_gap": null,
      "grid_row": null,
      "grid_template_areas": null,
      "grid_template_columns": null,
      "grid_template_rows": null,
      "height": null,
      "justify_content": null,
      "justify_items": null,
      "left": null,
      "margin": null,
      "max_height": null,
      "max_width": null,
      "min_height": null,
      "min_width": null,
      "object_fit": null,
      "object_position": null,
      "order": null,
      "overflow": null,
      "overflow_x": null,
      "overflow_y": null,
      "padding": null,
      "right": null,
      "top": null,
      "visibility": null,
      "width": null
     }
    },
    "6469d474a9e7434da4f54f1fbbccb773": {
     "model_module": "@jupyter-widgets/base",
     "model_module_version": "1.2.0",
     "model_name": "LayoutModel",
     "state": {
      "_model_module": "@jupyter-widgets/base",
      "_model_module_version": "1.2.0",
      "_model_name": "LayoutModel",
      "_view_count": null,
      "_view_module": "@jupyter-widgets/base",
      "_view_module_version": "1.2.0",
      "_view_name": "LayoutView",
      "align_content": null,
      "align_items": null,
      "align_self": null,
      "border": null,
      "bottom": null,
      "display": null,
      "flex": null,
      "flex_flow": null,
      "grid_area": null,
      "grid_auto_columns": null,
      "grid_auto_flow": null,
      "grid_auto_rows": null,
      "grid_column": null,
      "grid_gap": null,
      "grid_row": null,
      "grid_template_areas": null,
      "grid_template_columns": null,
      "grid_template_rows": null,
      "height": null,
      "justify_content": null,
      "justify_items": null,
      "left": null,
      "margin": null,
      "max_height": null,
      "max_width": null,
      "min_height": null,
      "min_width": null,
      "object_fit": null,
      "object_position": null,
      "order": null,
      "overflow": null,
      "overflow_x": null,
      "overflow_y": null,
      "padding": null,
      "right": null,
      "top": null,
      "visibility": null,
      "width": null
     }
    },
    "70621d88869d4689b04fb5408acd3efc": {
     "model_module": "@jupyter-widgets/controls",
     "model_module_version": "1.5.0",
     "model_name": "SliderStyleModel",
     "state": {
      "_model_module": "@jupyter-widgets/controls",
      "_model_module_version": "1.5.0",
      "_model_name": "SliderStyleModel",
      "_view_count": null,
      "_view_module": "@jupyter-widgets/base",
      "_view_module_version": "1.2.0",
      "_view_name": "StyleView",
      "description_width": "",
      "handle_color": null
     }
    },
    "73571af6f65144929a64343ffda95170": {
     "model_module": "@jupyter-widgets/controls",
     "model_module_version": "1.5.0",
     "model_name": "VBoxModel",
     "state": {
      "_dom_classes": [
       "widget-interact"
      ],
      "_model_module": "@jupyter-widgets/controls",
      "_model_module_version": "1.5.0",
      "_model_name": "VBoxModel",
      "_view_count": null,
      "_view_module": "@jupyter-widgets/controls",
      "_view_module_version": "1.5.0",
      "_view_name": "VBoxView",
      "box_style": "",
      "children": [
       "IPY_MODEL_cc9d432f3eaa44d6842f948e319a702d",
       "IPY_MODEL_0868f1c3fed24484ad460f2271d7720c",
       "IPY_MODEL_3a72722f5c82423db8cb2250d3d675de",
       "IPY_MODEL_ef2be04ad94d4e72889de63b7a33ddbf",
       "IPY_MODEL_8c487a4ad32e492589a3034ae2c4bdd1"
      ],
      "layout": "IPY_MODEL_132cf5fe14884de8ab19b0e1f6a701f9"
     }
    },
    "748e0af8e2f5402c84d6b1e1b9561744": {
     "model_module": "@jupyter-widgets/base",
     "model_module_version": "1.2.0",
     "model_name": "LayoutModel",
     "state": {
      "_model_module": "@jupyter-widgets/base",
      "_model_module_version": "1.2.0",
      "_model_name": "LayoutModel",
      "_view_count": null,
      "_view_module": "@jupyter-widgets/base",
      "_view_module_version": "1.2.0",
      "_view_name": "LayoutView",
      "align_content": null,
      "align_items": null,
      "align_self": null,
      "border": null,
      "bottom": null,
      "display": null,
      "flex": null,
      "flex_flow": null,
      "grid_area": null,
      "grid_auto_columns": null,
      "grid_auto_flow": null,
      "grid_auto_rows": null,
      "grid_column": null,
      "grid_gap": null,
      "grid_row": null,
      "grid_template_areas": null,
      "grid_template_columns": null,
      "grid_template_rows": null,
      "height": null,
      "justify_content": null,
      "justify_items": null,
      "left": null,
      "margin": null,
      "max_height": null,
      "max_width": null,
      "min_height": null,
      "min_width": null,
      "object_fit": null,
      "object_position": null,
      "order": null,
      "overflow": null,
      "overflow_x": null,
      "overflow_y": null,
      "padding": null,
      "right": null,
      "top": null,
      "visibility": null,
      "width": null
     }
    },
    "76eb41b17d094d629d4ae1c19030620b": {
     "model_module": "@jupyter-widgets/controls",
     "model_module_version": "1.5.0",
     "model_name": "SliderStyleModel",
     "state": {
      "_model_module": "@jupyter-widgets/controls",
      "_model_module_version": "1.5.0",
      "_model_name": "SliderStyleModel",
      "_view_count": null,
      "_view_module": "@jupyter-widgets/base",
      "_view_module_version": "1.2.0",
      "_view_name": "StyleView",
      "description_width": "",
      "handle_color": null
     }
    },
    "7894b19721344da7bef055cf5791277e": {
     "model_module": "@jupyter-widgets/base",
     "model_module_version": "1.2.0",
     "model_name": "LayoutModel",
     "state": {
      "_model_module": "@jupyter-widgets/base",
      "_model_module_version": "1.2.0",
      "_model_name": "LayoutModel",
      "_view_count": null,
      "_view_module": "@jupyter-widgets/base",
      "_view_module_version": "1.2.0",
      "_view_name": "LayoutView",
      "align_content": null,
      "align_items": null,
      "align_self": null,
      "border": null,
      "bottom": null,
      "display": null,
      "flex": null,
      "flex_flow": null,
      "grid_area": null,
      "grid_auto_columns": null,
      "grid_auto_flow": null,
      "grid_auto_rows": null,
      "grid_column": null,
      "grid_gap": null,
      "grid_row": null,
      "grid_template_areas": null,
      "grid_template_columns": null,
      "grid_template_rows": null,
      "height": null,
      "justify_content": null,
      "justify_items": null,
      "left": null,
      "margin": null,
      "max_height": null,
      "max_width": null,
      "min_height": null,
      "min_width": null,
      "object_fit": null,
      "object_position": null,
      "order": null,
      "overflow": null,
      "overflow_x": null,
      "overflow_y": null,
      "padding": null,
      "right": null,
      "top": null,
      "visibility": null,
      "width": null
     }
    },
    "7c7f5ff97c0849c18bb4c03fa05c2c58": {
     "model_module": "@jupyter-widgets/output",
     "model_module_version": "1.0.0",
     "model_name": "OutputModel",
     "state": {
      "_dom_classes": [],
      "_model_module": "@jupyter-widgets/output",
      "_model_module_version": "1.0.0",
      "_model_name": "OutputModel",
      "_view_count": null,
      "_view_module": "@jupyter-widgets/output",
      "_view_module_version": "1.0.0",
      "_view_name": "OutputView",
      "layout": "IPY_MODEL_11491230a1884b15823fa65a36fe1dbc",
      "msg_id": "",
      "outputs": []
     }
    },
    "7cae8a0f6d214a31bc1ab0964f5e65b3": {
     "model_module": "@jupyter-widgets/controls",
     "model_module_version": "1.5.0",
     "model_name": "SliderStyleModel",
     "state": {
      "_model_module": "@jupyter-widgets/controls",
      "_model_module_version": "1.5.0",
      "_model_name": "SliderStyleModel",
      "_view_count": null,
      "_view_module": "@jupyter-widgets/base",
      "_view_module_version": "1.2.0",
      "_view_name": "StyleView",
      "description_width": "",
      "handle_color": null
     }
    },
    "7cde281ca1b042c5821ca795ccc59d2e": {
     "model_module": "@jupyter-widgets/base",
     "model_module_version": "1.2.0",
     "model_name": "LayoutModel",
     "state": {
      "_model_module": "@jupyter-widgets/base",
      "_model_module_version": "1.2.0",
      "_model_name": "LayoutModel",
      "_view_count": null,
      "_view_module": "@jupyter-widgets/base",
      "_view_module_version": "1.2.0",
      "_view_name": "LayoutView",
      "align_content": null,
      "align_items": null,
      "align_self": null,
      "border": null,
      "bottom": null,
      "display": null,
      "flex": null,
      "flex_flow": null,
      "grid_area": null,
      "grid_auto_columns": null,
      "grid_auto_flow": null,
      "grid_auto_rows": null,
      "grid_column": null,
      "grid_gap": null,
      "grid_row": null,
      "grid_template_areas": null,
      "grid_template_columns": null,
      "grid_template_rows": null,
      "height": null,
      "justify_content": null,
      "justify_items": null,
      "left": null,
      "margin": null,
      "max_height": null,
      "max_width": null,
      "min_height": null,
      "min_width": null,
      "object_fit": null,
      "object_position": null,
      "order": null,
      "overflow": null,
      "overflow_x": null,
      "overflow_y": null,
      "padding": null,
      "right": null,
      "top": null,
      "visibility": null,
      "width": null
     }
    },
    "816c796ba91943bb9dc3c9465dfcd7f4": {
     "model_module": "@jupyter-widgets/controls",
     "model_module_version": "1.5.0",
     "model_name": "SliderStyleModel",
     "state": {
      "_model_module": "@jupyter-widgets/controls",
      "_model_module_version": "1.5.0",
      "_model_name": "SliderStyleModel",
      "_view_count": null,
      "_view_module": "@jupyter-widgets/base",
      "_view_module_version": "1.2.0",
      "_view_name": "StyleView",
      "description_width": "",
      "handle_color": null
     }
    },
    "82b2a94d584a4954bdabf2d5ce7a028e": {
     "model_module": "@jupyter-widgets/base",
     "model_module_version": "1.2.0",
     "model_name": "LayoutModel",
     "state": {
      "_model_module": "@jupyter-widgets/base",
      "_model_module_version": "1.2.0",
      "_model_name": "LayoutModel",
      "_view_count": null,
      "_view_module": "@jupyter-widgets/base",
      "_view_module_version": "1.2.0",
      "_view_name": "LayoutView",
      "align_content": null,
      "align_items": null,
      "align_self": null,
      "border": null,
      "bottom": null,
      "display": null,
      "flex": null,
      "flex_flow": null,
      "grid_area": null,
      "grid_auto_columns": null,
      "grid_auto_flow": null,
      "grid_auto_rows": null,
      "grid_column": null,
      "grid_gap": null,
      "grid_row": null,
      "grid_template_areas": null,
      "grid_template_columns": null,
      "grid_template_rows": null,
      "height": null,
      "justify_content": null,
      "justify_items": null,
      "left": null,
      "margin": null,
      "max_height": null,
      "max_width": null,
      "min_height": null,
      "min_width": null,
      "object_fit": null,
      "object_position": null,
      "order": null,
      "overflow": null,
      "overflow_x": null,
      "overflow_y": null,
      "padding": null,
      "right": null,
      "top": null,
      "visibility": null,
      "width": null
     }
    },
    "85f87509b208415a804b30a9f155c84a": {
     "model_module": "@jupyter-widgets/controls",
     "model_module_version": "1.5.0",
     "model_name": "IntSliderModel",
     "state": {
      "_dom_classes": [],
      "_model_module": "@jupyter-widgets/controls",
      "_model_module_version": "1.5.0",
      "_model_name": "IntSliderModel",
      "_view_count": null,
      "_view_module": "@jupyter-widgets/controls",
      "_view_module_version": "1.5.0",
      "_view_name": "IntSliderView",
      "continuous_update": true,
      "description": "p2",
      "description_tooltip": null,
      "disabled": false,
      "layout": "IPY_MODEL_6469d474a9e7434da4f54f1fbbccb773",
      "max": 10,
      "min": 1,
      "orientation": "horizontal",
      "readout": true,
      "readout_format": "d",
      "step": 1,
      "style": "IPY_MODEL_0d1467c3a2bb44d4998f337ee407f5e5",
      "value": 5
     }
    },
    "8878a33c34b04a93a91bae3e44b295b4": {
     "model_module": "@jupyter-widgets/base",
     "model_module_version": "1.2.0",
     "model_name": "LayoutModel",
     "state": {
      "_model_module": "@jupyter-widgets/base",
      "_model_module_version": "1.2.0",
      "_model_name": "LayoutModel",
      "_view_count": null,
      "_view_module": "@jupyter-widgets/base",
      "_view_module_version": "1.2.0",
      "_view_name": "LayoutView",
      "align_content": null,
      "align_items": null,
      "align_self": null,
      "border": null,
      "bottom": null,
      "display": null,
      "flex": null,
      "flex_flow": null,
      "grid_area": null,
      "grid_auto_columns": null,
      "grid_auto_flow": null,
      "grid_auto_rows": null,
      "grid_column": null,
      "grid_gap": null,
      "grid_row": null,
      "grid_template_areas": null,
      "grid_template_columns": null,
      "grid_template_rows": null,
      "height": null,
      "justify_content": null,
      "justify_items": null,
      "left": null,
      "margin": null,
      "max_height": null,
      "max_width": null,
      "min_height": null,
      "min_width": null,
      "object_fit": null,
      "object_position": null,
      "order": null,
      "overflow": null,
      "overflow_x": null,
      "overflow_y": null,
      "padding": null,
      "right": null,
      "top": null,
      "visibility": null,
      "width": null
     }
    },
    "8b481b83af644ece98bb296600bd68d7": {
     "model_module": "@jupyter-widgets/base",
     "model_module_version": "1.2.0",
     "model_name": "LayoutModel",
     "state": {
      "_model_module": "@jupyter-widgets/base",
      "_model_module_version": "1.2.0",
      "_model_name": "LayoutModel",
      "_view_count": null,
      "_view_module": "@jupyter-widgets/base",
      "_view_module_version": "1.2.0",
      "_view_name": "LayoutView",
      "align_content": null,
      "align_items": null,
      "align_self": null,
      "border": null,
      "bottom": null,
      "display": null,
      "flex": null,
      "flex_flow": null,
      "grid_area": null,
      "grid_auto_columns": null,
      "grid_auto_flow": null,
      "grid_auto_rows": null,
      "grid_column": null,
      "grid_gap": null,
      "grid_row": null,
      "grid_template_areas": null,
      "grid_template_columns": null,
      "grid_template_rows": null,
      "height": null,
      "justify_content": null,
      "justify_items": null,
      "left": null,
      "margin": null,
      "max_height": null,
      "max_width": null,
      "min_height": null,
      "min_width": null,
      "object_fit": null,
      "object_position": null,
      "order": null,
      "overflow": null,
      "overflow_x": null,
      "overflow_y": null,
      "padding": null,
      "right": null,
      "top": null,
      "visibility": null,
      "width": null
     }
    },
    "8c487a4ad32e492589a3034ae2c4bdd1": {
     "model_module": "@jupyter-widgets/output",
     "model_module_version": "1.0.0",
     "model_name": "OutputModel",
     "state": {
      "_dom_classes": [],
      "_model_module": "@jupyter-widgets/output",
      "_model_module_version": "1.0.0",
      "_model_name": "OutputModel",
      "_view_count": null,
      "_view_module": "@jupyter-widgets/output",
      "_view_module_version": "1.0.0",
      "_view_name": "OutputView",
      "layout": "IPY_MODEL_4fcded3fcaf3465a87aec9a44bfbc55e",
      "msg_id": "",
      "outputs": [
       {
        "data": {
         "image/png": "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\n",
         "text/plain": "<Figure size 640x480 with 1 Axes>"
        },
        "metadata": {},
        "output_type": "display_data"
       }
      ]
     }
    },
    "8d925a203fef42e1b74839d2a5dde0c1": {
     "model_module": "@jupyter-widgets/controls",
     "model_module_version": "1.5.0",
     "model_name": "VBoxModel",
     "state": {
      "_dom_classes": [
       "widget-interact"
      ],
      "_model_module": "@jupyter-widgets/controls",
      "_model_module_version": "1.5.0",
      "_model_name": "VBoxModel",
      "_view_count": null,
      "_view_module": "@jupyter-widgets/controls",
      "_view_module_version": "1.5.0",
      "_view_name": "VBoxView",
      "box_style": "",
      "children": [
       "IPY_MODEL_cfb58eb626a44e128e001774dbcda29a",
       "IPY_MODEL_c77cf5ce30ef4fc18f3d5bb80afad35b",
       "IPY_MODEL_430741cd6e234b1094784735429fddc9",
       "IPY_MODEL_50ea3f3450ae4199880b762fd98e3b2f",
       "IPY_MODEL_eff6851219164d06a014f3c5efdebae9"
      ],
      "layout": "IPY_MODEL_18d12fb6a251423a8aa62a5569ce8e57"
     }
    },
    "91e74c90a77d462498c2ae2f99b945e7": {
     "model_module": "@jupyter-widgets/controls",
     "model_module_version": "1.5.0",
     "model_name": "SliderStyleModel",
     "state": {
      "_model_module": "@jupyter-widgets/controls",
      "_model_module_version": "1.5.0",
      "_model_name": "SliderStyleModel",
      "_view_count": null,
      "_view_module": "@jupyter-widgets/base",
      "_view_module_version": "1.2.0",
      "_view_name": "StyleView",
      "description_width": "",
      "handle_color": null
     }
    },
    "921e3f002d0d4751a8920ba79711dd0c": {
     "model_module": "@jupyter-widgets/base",
     "model_module_version": "1.2.0",
     "model_name": "LayoutModel",
     "state": {
      "_model_module": "@jupyter-widgets/base",
      "_model_module_version": "1.2.0",
      "_model_name": "LayoutModel",
      "_view_count": null,
      "_view_module": "@jupyter-widgets/base",
      "_view_module_version": "1.2.0",
      "_view_name": "LayoutView",
      "align_content": null,
      "align_items": null,
      "align_self": null,
      "border": null,
      "bottom": null,
      "display": null,
      "flex": null,
      "flex_flow": null,
      "grid_area": null,
      "grid_auto_columns": null,
      "grid_auto_flow": null,
      "grid_auto_rows": null,
      "grid_column": null,
      "grid_gap": null,
      "grid_row": null,
      "grid_template_areas": null,
      "grid_template_columns": null,
      "grid_template_rows": null,
      "height": null,
      "justify_content": null,
      "justify_items": null,
      "left": null,
      "margin": null,
      "max_height": null,
      "max_width": null,
      "min_height": null,
      "min_width": null,
      "object_fit": null,
      "object_position": null,
      "order": null,
      "overflow": null,
      "overflow_x": null,
      "overflow_y": null,
      "padding": null,
      "right": null,
      "top": null,
      "visibility": null,
      "width": null
     }
    },
    "935c3b3ddb1c44888ff0b144555729d9": {
     "model_module": "@jupyter-widgets/controls",
     "model_module_version": "1.5.0",
     "model_name": "SliderStyleModel",
     "state": {
      "_model_module": "@jupyter-widgets/controls",
      "_model_module_version": "1.5.0",
      "_model_name": "SliderStyleModel",
      "_view_count": null,
      "_view_module": "@jupyter-widgets/base",
      "_view_module_version": "1.2.0",
      "_view_name": "StyleView",
      "description_width": "",
      "handle_color": null
     }
    },
    "93f358ac44b84ffba538a25fca74e659": {
     "model_module": "@jupyter-widgets/base",
     "model_module_version": "1.2.0",
     "model_name": "LayoutModel",
     "state": {
      "_model_module": "@jupyter-widgets/base",
      "_model_module_version": "1.2.0",
      "_model_name": "LayoutModel",
      "_view_count": null,
      "_view_module": "@jupyter-widgets/base",
      "_view_module_version": "1.2.0",
      "_view_name": "LayoutView",
      "align_content": null,
      "align_items": null,
      "align_self": null,
      "border": null,
      "bottom": null,
      "display": null,
      "flex": null,
      "flex_flow": null,
      "grid_area": null,
      "grid_auto_columns": null,
      "grid_auto_flow": null,
      "grid_auto_rows": null,
      "grid_column": null,
      "grid_gap": null,
      "grid_row": null,
      "grid_template_areas": null,
      "grid_template_columns": null,
      "grid_template_rows": null,
      "height": null,
      "justify_content": null,
      "justify_items": null,
      "left": null,
      "margin": null,
      "max_height": null,
      "max_width": null,
      "min_height": null,
      "min_width": null,
      "object_fit": null,
      "object_position": null,
      "order": null,
      "overflow": null,
      "overflow_x": null,
      "overflow_y": null,
      "padding": null,
      "right": null,
      "top": null,
      "visibility": null,
      "width": null
     }
    },
    "9b1a5f3d88f541b7899185415f3c34ef": {
     "model_module": "@jupyter-widgets/base",
     "model_module_version": "1.2.0",
     "model_name": "LayoutModel",
     "state": {
      "_model_module": "@jupyter-widgets/base",
      "_model_module_version": "1.2.0",
      "_model_name": "LayoutModel",
      "_view_count": null,
      "_view_module": "@jupyter-widgets/base",
      "_view_module_version": "1.2.0",
      "_view_name": "LayoutView",
      "align_content": null,
      "align_items": null,
      "align_self": null,
      "border": null,
      "bottom": null,
      "display": null,
      "flex": null,
      "flex_flow": null,
      "grid_area": null,
      "grid_auto_columns": null,
      "grid_auto_flow": null,
      "grid_auto_rows": null,
      "grid_column": null,
      "grid_gap": null,
      "grid_row": null,
      "grid_template_areas": null,
      "grid_template_columns": null,
      "grid_template_rows": null,
      "height": null,
      "justify_content": null,
      "justify_items": null,
      "left": null,
      "margin": null,
      "max_height": null,
      "max_width": null,
      "min_height": null,
      "min_width": null,
      "object_fit": null,
      "object_position": null,
      "order": null,
      "overflow": null,
      "overflow_x": null,
      "overflow_y": null,
      "padding": null,
      "right": null,
      "top": null,
      "visibility": null,
      "width": null
     }
    },
    "9ff4a55ca19a4a6f973592db2723883e": {
     "model_module": "@jupyter-widgets/controls",
     "model_module_version": "1.5.0",
     "model_name": "SliderStyleModel",
     "state": {
      "_model_module": "@jupyter-widgets/controls",
      "_model_module_version": "1.5.0",
      "_model_name": "SliderStyleModel",
      "_view_count": null,
      "_view_module": "@jupyter-widgets/base",
      "_view_module_version": "1.2.0",
      "_view_name": "StyleView",
      "description_width": "",
      "handle_color": null
     }
    },
    "a3b36bf3bbb941e88b1d81cb5a46da90": {
     "model_module": "@jupyter-widgets/controls",
     "model_module_version": "1.5.0",
     "model_name": "IntSliderModel",
     "state": {
      "_dom_classes": [],
      "_model_module": "@jupyter-widgets/controls",
      "_model_module_version": "1.5.0",
      "_model_name": "IntSliderModel",
      "_view_count": null,
      "_view_module": "@jupyter-widgets/controls",
      "_view_module_version": "1.5.0",
      "_view_name": "IntSliderView",
      "continuous_update": true,
      "description": "budget",
      "description_tooltip": null,
      "disabled": false,
      "layout": "IPY_MODEL_c2fe8edd884844f0b482c94e7b055876",
      "max": 100,
      "min": 1,
      "orientation": "horizontal",
      "readout": true,
      "readout_format": "d",
      "step": 1,
      "style": "IPY_MODEL_428e3be829624872b7622088d898ec2f",
      "value": 50
     }
    },
    "a4599451e1594b85908039131923df74": {
     "model_module": "@jupyter-widgets/controls",
     "model_module_version": "1.5.0",
     "model_name": "IntSliderModel",
     "state": {
      "_dom_classes": [],
      "_model_module": "@jupyter-widgets/controls",
      "_model_module_version": "1.5.0",
      "_model_name": "IntSliderModel",
      "_view_count": null,
      "_view_module": "@jupyter-widgets/controls",
      "_view_module_version": "1.5.0",
      "_view_name": "IntSliderView",
      "continuous_update": true,
      "description": "f2",
      "description_tooltip": null,
      "disabled": false,
      "layout": "IPY_MODEL_22a575d192ec44ca8e6687696879d065",
      "max": 10,
      "min": 0,
      "orientation": "horizontal",
      "readout": true,
      "readout_format": "d",
      "step": 1,
      "style": "IPY_MODEL_76eb41b17d094d629d4ae1c19030620b",
      "value": 5
     }
    },
    "a526d4863b97458a9d0b31cde0dcdfd6": {
     "model_module": "@jupyter-widgets/controls",
     "model_module_version": "1.5.0",
     "model_name": "VBoxModel",
     "state": {
      "_dom_classes": [
       "widget-interact"
      ],
      "_model_module": "@jupyter-widgets/controls",
      "_model_module_version": "1.5.0",
      "_model_name": "VBoxModel",
      "_view_count": null,
      "_view_module": "@jupyter-widgets/controls",
      "_view_module_version": "1.5.0",
      "_view_name": "VBoxView",
      "box_style": "",
      "children": [
       "IPY_MODEL_f2c06c22aa1f428b9ca317deb7ae7c22",
       "IPY_MODEL_09d045591a434f1abcae0e9534f251d0",
       "IPY_MODEL_398afeb913ed4417828917d230671ba0",
       "IPY_MODEL_a4599451e1594b85908039131923df74",
       "IPY_MODEL_a3b36bf3bbb941e88b1d81cb5a46da90",
       "IPY_MODEL_f12d6b9037d54ac799501e523a7c6f4a",
       "IPY_MODEL_1e582a879e5644e19a9ff95386eac06a",
       "IPY_MODEL_7c7f5ff97c0849c18bb4c03fa05c2c58"
      ],
      "layout": "IPY_MODEL_437d553d87e3464d833b78b88d48ea40"
     }
    },
    "a6e15d586e3a431d8bdb32d225cf2071": {
     "model_module": "@jupyter-widgets/base",
     "model_module_version": "1.2.0",
     "model_name": "LayoutModel",
     "state": {
      "_model_module": "@jupyter-widgets/base",
      "_model_module_version": "1.2.0",
      "_model_name": "LayoutModel",
      "_view_count": null,
      "_view_module": "@jupyter-widgets/base",
      "_view_module_version": "1.2.0",
      "_view_name": "LayoutView",
      "align_content": null,
      "align_items": null,
      "align_self": null,
      "border": null,
      "bottom": null,
      "display": null,
      "flex": null,
      "flex_flow": null,
      "grid_area": null,
      "grid_auto_columns": null,
      "grid_auto_flow": null,
      "grid_auto_rows": null,
      "grid_column": null,
      "grid_gap": null,
      "grid_row": null,
      "grid_template_areas": null,
      "grid_template_columns": null,
      "grid_template_rows": null,
      "height": null,
      "justify_content": null,
      "justify_items": null,
      "left": null,
      "margin": null,
      "max_height": null,
      "max_width": null,
      "min_height": null,
      "min_width": null,
      "object_fit": null,
      "object_position": null,
      "order": null,
      "overflow": null,
      "overflow_x": null,
      "overflow_y": null,
      "padding": null,
      "right": null,
      "top": null,
      "visibility": null,
      "width": null
     }
    },
    "aa303c7500794ffeb724e893a16281ff": {
     "model_module": "@jupyter-widgets/output",
     "model_module_version": "1.0.0",
     "model_name": "OutputModel",
     "state": {
      "_dom_classes": [],
      "_model_module": "@jupyter-widgets/output",
      "_model_module_version": "1.0.0",
      "_model_name": "OutputModel",
      "_view_count": null,
      "_view_module": "@jupyter-widgets/output",
      "_view_module_version": "1.0.0",
      "_view_name": "OutputView",
      "layout": "IPY_MODEL_a6e15d586e3a431d8bdb32d225cf2071",
      "msg_id": "",
      "outputs": [
       {
        "data": {
         "image/png": "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\n",
         "text/plain": "<Figure size 640x480 with 1 Axes>"
        },
        "metadata": {},
        "output_type": "display_data"
       }
      ]
     }
    },
    "ab02272983c740199033a8d4e1231ea2": {
     "model_module": "@jupyter-widgets/controls",
     "model_module_version": "1.5.0",
     "model_name": "SliderStyleModel",
     "state": {
      "_model_module": "@jupyter-widgets/controls",
      "_model_module_version": "1.5.0",
      "_model_name": "SliderStyleModel",
      "_view_count": null,
      "_view_module": "@jupyter-widgets/base",
      "_view_module_version": "1.2.0",
      "_view_name": "StyleView",
      "description_width": "",
      "handle_color": null
     }
    },
    "aff61557f07440cf802eaad770e54fee": {
     "model_module": "@jupyter-widgets/controls",
     "model_module_version": "1.5.0",
     "model_name": "IntSliderModel",
     "state": {
      "_dom_classes": [],
      "_model_module": "@jupyter-widgets/controls",
      "_model_module_version": "1.5.0",
      "_model_name": "IntSliderModel",
      "_view_count": null,
      "_view_module": "@jupyter-widgets/controls",
      "_view_module_version": "1.5.0",
      "_view_name": "IntSliderView",
      "continuous_update": true,
      "description": "x1",
      "description_tooltip": null,
      "disabled": false,
      "layout": "IPY_MODEL_253093a51b3041959577f9cb79885bf8",
      "max": 10,
      "min": 1,
      "orientation": "horizontal",
      "readout": true,
      "readout_format": "d",
      "step": 1,
      "style": "IPY_MODEL_3d2d60c3c75d483c997466d030745194",
      "value": 5
     }
    },
    "b0133ead28ff4486a8d5c523935ae552": {
     "model_module": "@jupyter-widgets/controls",
     "model_module_version": "1.5.0",
     "model_name": "SliderStyleModel",
     "state": {
      "_model_module": "@jupyter-widgets/controls",
      "_model_module_version": "1.5.0",
      "_model_name": "SliderStyleModel",
      "_view_count": null,
      "_view_module": "@jupyter-widgets/base",
      "_view_module_version": "1.2.0",
      "_view_name": "StyleView",
      "description_width": "",
      "handle_color": null
     }
    },
    "b0b03f14175947f49d3f83414b10801d": {
     "model_module": "@jupyter-widgets/controls",
     "model_module_version": "1.5.0",
     "model_name": "SliderStyleModel",
     "state": {
      "_model_module": "@jupyter-widgets/controls",
      "_model_module_version": "1.5.0",
      "_model_name": "SliderStyleModel",
      "_view_count": null,
      "_view_module": "@jupyter-widgets/base",
      "_view_module_version": "1.2.0",
      "_view_name": "StyleView",
      "description_width": "",
      "handle_color": null
     }
    },
    "bd7175f21ef44752bce9498121fe290b": {
     "model_module": "@jupyter-widgets/base",
     "model_module_version": "1.2.0",
     "model_name": "LayoutModel",
     "state": {
      "_model_module": "@jupyter-widgets/base",
      "_model_module_version": "1.2.0",
      "_model_name": "LayoutModel",
      "_view_count": null,
      "_view_module": "@jupyter-widgets/base",
      "_view_module_version": "1.2.0",
      "_view_name": "LayoutView",
      "align_content": null,
      "align_items": null,
      "align_self": null,
      "border": null,
      "bottom": null,
      "display": null,
      "flex": null,
      "flex_flow": null,
      "grid_area": null,
      "grid_auto_columns": null,
      "grid_auto_flow": null,
      "grid_auto_rows": null,
      "grid_column": null,
      "grid_gap": null,
      "grid_row": null,
      "grid_template_areas": null,
      "grid_template_columns": null,
      "grid_template_rows": null,
      "height": null,
      "justify_content": null,
      "justify_items": null,
      "left": null,
      "margin": null,
      "max_height": null,
      "max_width": null,
      "min_height": null,
      "min_width": null,
      "object_fit": null,
      "object_position": null,
      "order": null,
      "overflow": null,
      "overflow_x": null,
      "overflow_y": null,
      "padding": null,
      "right": null,
      "top": null,
      "visibility": null,
      "width": null
     }
    },
    "be761665ab844a0eba370d1d164252db": {
     "model_module": "@jupyter-widgets/base",
     "model_module_version": "1.2.0",
     "model_name": "LayoutModel",
     "state": {
      "_model_module": "@jupyter-widgets/base",
      "_model_module_version": "1.2.0",
      "_model_name": "LayoutModel",
      "_view_count": null,
      "_view_module": "@jupyter-widgets/base",
      "_view_module_version": "1.2.0",
      "_view_name": "LayoutView",
      "align_content": null,
      "align_items": null,
      "align_self": null,
      "border": null,
      "bottom": null,
      "display": null,
      "flex": null,
      "flex_flow": null,
      "grid_area": null,
      "grid_auto_columns": null,
      "grid_auto_flow": null,
      "grid_auto_rows": null,
      "grid_column": null,
      "grid_gap": null,
      "grid_row": null,
      "grid_template_areas": null,
      "grid_template_columns": null,
      "grid_template_rows": null,
      "height": null,
      "justify_content": null,
      "justify_items": null,
      "left": null,
      "margin": null,
      "max_height": null,
      "max_width": null,
      "min_height": null,
      "min_width": null,
      "object_fit": null,
      "object_position": null,
      "order": null,
      "overflow": null,
      "overflow_x": null,
      "overflow_y": null,
      "padding": null,
      "right": null,
      "top": null,
      "visibility": null,
      "width": null
     }
    },
    "bffffd41990e4f2584cce9ed38eb3e15": {
     "model_module": "@jupyter-widgets/controls",
     "model_module_version": "1.5.0",
     "model_name": "SliderStyleModel",
     "state": {
      "_model_module": "@jupyter-widgets/controls",
      "_model_module_version": "1.5.0",
      "_model_name": "SliderStyleModel",
      "_view_count": null,
      "_view_module": "@jupyter-widgets/base",
      "_view_module_version": "1.2.0",
      "_view_name": "StyleView",
      "description_width": "",
      "handle_color": null
     }
    },
    "c02eaa9c94a34ef5b7d1aa543a7d335d": {
     "model_module": "@jupyter-widgets/base",
     "model_module_version": "1.2.0",
     "model_name": "LayoutModel",
     "state": {
      "_model_module": "@jupyter-widgets/base",
      "_model_module_version": "1.2.0",
      "_model_name": "LayoutModel",
      "_view_count": null,
      "_view_module": "@jupyter-widgets/base",
      "_view_module_version": "1.2.0",
      "_view_name": "LayoutView",
      "align_content": null,
      "align_items": null,
      "align_self": null,
      "border": null,
      "bottom": null,
      "display": null,
      "flex": null,
      "flex_flow": null,
      "grid_area": null,
      "grid_auto_columns": null,
      "grid_auto_flow": null,
      "grid_auto_rows": null,
      "grid_column": null,
      "grid_gap": null,
      "grid_row": null,
      "grid_template_areas": null,
      "grid_template_columns": null,
      "grid_template_rows": null,
      "height": null,
      "justify_content": null,
      "justify_items": null,
      "left": null,
      "margin": null,
      "max_height": null,
      "max_width": null,
      "min_height": null,
      "min_width": null,
      "object_fit": null,
      "object_position": null,
      "order": null,
      "overflow": null,
      "overflow_x": null,
      "overflow_y": null,
      "padding": null,
      "right": null,
      "top": null,
      "visibility": null,
      "width": null
     }
    },
    "c0c54853a88c44568d36fd22aa9ce562": {
     "model_module": "@jupyter-widgets/base",
     "model_module_version": "1.2.0",
     "model_name": "LayoutModel",
     "state": {
      "_model_module": "@jupyter-widgets/base",
      "_model_module_version": "1.2.0",
      "_model_name": "LayoutModel",
      "_view_count": null,
      "_view_module": "@jupyter-widgets/base",
      "_view_module_version": "1.2.0",
      "_view_name": "LayoutView",
      "align_content": null,
      "align_items": null,
      "align_self": null,
      "border": null,
      "bottom": null,
      "display": null,
      "flex": null,
      "flex_flow": null,
      "grid_area": null,
      "grid_auto_columns": null,
      "grid_auto_flow": null,
      "grid_auto_rows": null,
      "grid_column": null,
      "grid_gap": null,
      "grid_row": null,
      "grid_template_areas": null,
      "grid_template_columns": null,
      "grid_template_rows": null,
      "height": null,
      "justify_content": null,
      "justify_items": null,
      "left": null,
      "margin": null,
      "max_height": null,
      "max_width": null,
      "min_height": null,
      "min_width": null,
      "object_fit": null,
      "object_position": null,
      "order": null,
      "overflow": null,
      "overflow_x": null,
      "overflow_y": null,
      "padding": null,
      "right": null,
      "top": null,
      "visibility": null,
      "width": null
     }
    },
    "c2fe8edd884844f0b482c94e7b055876": {
     "model_module": "@jupyter-widgets/base",
     "model_module_version": "1.2.0",
     "model_name": "LayoutModel",
     "state": {
      "_model_module": "@jupyter-widgets/base",
      "_model_module_version": "1.2.0",
      "_model_name": "LayoutModel",
      "_view_count": null,
      "_view_module": "@jupyter-widgets/base",
      "_view_module_version": "1.2.0",
      "_view_name": "LayoutView",
      "align_content": null,
      "align_items": null,
      "align_self": null,
      "border": null,
      "bottom": null,
      "display": null,
      "flex": null,
      "flex_flow": null,
      "grid_area": null,
      "grid_auto_columns": null,
      "grid_auto_flow": null,
      "grid_auto_rows": null,
      "grid_column": null,
      "grid_gap": null,
      "grid_row": null,
      "grid_template_areas": null,
      "grid_template_columns": null,
      "grid_template_rows": null,
      "height": null,
      "justify_content": null,
      "justify_items": null,
      "left": null,
      "margin": null,
      "max_height": null,
      "max_width": null,
      "min_height": null,
      "min_width": null,
      "object_fit": null,
      "object_position": null,
      "order": null,
      "overflow": null,
      "overflow_x": null,
      "overflow_y": null,
      "padding": null,
      "right": null,
      "top": null,
      "visibility": null,
      "width": null
     }
    },
    "c4eed584770e4635a3527461524ec8c9": {
     "model_module": "@jupyter-widgets/controls",
     "model_module_version": "1.5.0",
     "model_name": "SliderStyleModel",
     "state": {
      "_model_module": "@jupyter-widgets/controls",
      "_model_module_version": "1.5.0",
      "_model_name": "SliderStyleModel",
      "_view_count": null,
      "_view_module": "@jupyter-widgets/base",
      "_view_module_version": "1.2.0",
      "_view_name": "StyleView",
      "description_width": "",
      "handle_color": null
     }
    },
    "c77cf5ce30ef4fc18f3d5bb80afad35b": {
     "model_module": "@jupyter-widgets/controls",
     "model_module_version": "1.5.0",
     "model_name": "IntSliderModel",
     "state": {
      "_dom_classes": [],
      "_model_module": "@jupyter-widgets/controls",
      "_model_module_version": "1.5.0",
      "_model_name": "IntSliderModel",
      "_view_count": null,
      "_view_module": "@jupyter-widgets/controls",
      "_view_module_version": "1.5.0",
      "_view_name": "IntSliderView",
      "continuous_update": true,
      "description": "p2",
      "description_tooltip": null,
      "disabled": false,
      "layout": "IPY_MODEL_748e0af8e2f5402c84d6b1e1b9561744",
      "max": 10,
      "min": 1,
      "orientation": "horizontal",
      "readout": true,
      "readout_format": "d",
      "step": 1,
      "style": "IPY_MODEL_b0133ead28ff4486a8d5c523935ae552",
      "value": 5
     }
    },
    "cc9d432f3eaa44d6842f948e319a702d": {
     "model_module": "@jupyter-widgets/controls",
     "model_module_version": "1.5.0",
     "model_name": "IntSliderModel",
     "state": {
      "_dom_classes": [],
      "_model_module": "@jupyter-widgets/controls",
      "_model_module_version": "1.5.0",
      "_model_name": "IntSliderModel",
      "_view_count": null,
      "_view_module": "@jupyter-widgets/controls",
      "_view_module_version": "1.5.0",
      "_view_name": "IntSliderView",
      "continuous_update": true,
      "description": "x11",
      "description_tooltip": null,
      "disabled": false,
      "layout": "IPY_MODEL_bd7175f21ef44752bce9498121fe290b",
      "max": 10,
      "min": 1,
      "orientation": "horizontal",
      "readout": true,
      "readout_format": "d",
      "step": 1,
      "style": "IPY_MODEL_09aab143ef524b39bcd1db8c17bf5962",
      "value": 5
     }
    },
    "cfb58eb626a44e128e001774dbcda29a": {
     "model_module": "@jupyter-widgets/controls",
     "model_module_version": "1.5.0",
     "model_name": "IntSliderModel",
     "state": {
      "_dom_classes": [],
      "_model_module": "@jupyter-widgets/controls",
      "_model_module_version": "1.5.0",
      "_model_name": "IntSliderModel",
      "_view_count": null,
      "_view_module": "@jupyter-widgets/controls",
      "_view_module_version": "1.5.0",
      "_view_name": "IntSliderView",
      "continuous_update": true,
      "description": "p1",
      "description_tooltip": null,
      "disabled": false,
      "layout": "IPY_MODEL_8878a33c34b04a93a91bae3e44b295b4",
      "max": 10,
      "min": 1,
      "orientation": "horizontal",
      "readout": true,
      "readout_format": "d",
      "step": 1,
      "style": "IPY_MODEL_70621d88869d4689b04fb5408acd3efc",
      "value": 5
     }
    },
    "d16fc7849d4b44b6b7e964f698b8b08b": {
     "model_module": "@jupyter-widgets/controls",
     "model_module_version": "1.5.0",
     "model_name": "SliderStyleModel",
     "state": {
      "_model_module": "@jupyter-widgets/controls",
      "_model_module_version": "1.5.0",
      "_model_name": "SliderStyleModel",
      "_view_count": null,
      "_view_module": "@jupyter-widgets/base",
      "_view_module_version": "1.2.0",
      "_view_name": "StyleView",
      "description_width": "",
      "handle_color": null
     }
    },
    "d364d4a8bf1f403ca899c457a2d082e9": {
     "model_module": "@jupyter-widgets/controls",
     "model_module_version": "1.5.0",
     "model_name": "SliderStyleModel",
     "state": {
      "_model_module": "@jupyter-widgets/controls",
      "_model_module_version": "1.5.0",
      "_model_name": "SliderStyleModel",
      "_view_count": null,
      "_view_module": "@jupyter-widgets/base",
      "_view_module_version": "1.2.0",
      "_view_name": "StyleView",
      "description_width": "",
      "handle_color": null
     }
    },
    "e14e8379980d40aca59e473a50a200f3": {
     "model_module": "@jupyter-widgets/base",
     "model_module_version": "1.2.0",
     "model_name": "LayoutModel",
     "state": {
      "_model_module": "@jupyter-widgets/base",
      "_model_module_version": "1.2.0",
      "_model_name": "LayoutModel",
      "_view_count": null,
      "_view_module": "@jupyter-widgets/base",
      "_view_module_version": "1.2.0",
      "_view_name": "LayoutView",
      "align_content": null,
      "align_items": null,
      "align_self": null,
      "border": null,
      "bottom": null,
      "display": null,
      "flex": null,
      "flex_flow": null,
      "grid_area": null,
      "grid_auto_columns": null,
      "grid_auto_flow": null,
      "grid_auto_rows": null,
      "grid_column": null,
      "grid_gap": null,
      "grid_row": null,
      "grid_template_areas": null,
      "grid_template_columns": null,
      "grid_template_rows": null,
      "height": null,
      "justify_content": null,
      "justify_items": null,
      "left": null,
      "margin": null,
      "max_height": null,
      "max_width": null,
      "min_height": null,
      "min_width": null,
      "object_fit": null,
      "object_position": null,
      "order": null,
      "overflow": null,
      "overflow_x": null,
      "overflow_y": null,
      "padding": null,
      "right": null,
      "top": null,
      "visibility": null,
      "width": null
     }
    },
    "e1b01905791e4f17bd94a46a00d99ae6": {
     "model_module": "@jupyter-widgets/base",
     "model_module_version": "1.2.0",
     "model_name": "LayoutModel",
     "state": {
      "_model_module": "@jupyter-widgets/base",
      "_model_module_version": "1.2.0",
      "_model_name": "LayoutModel",
      "_view_count": null,
      "_view_module": "@jupyter-widgets/base",
      "_view_module_version": "1.2.0",
      "_view_name": "LayoutView",
      "align_content": null,
      "align_items": null,
      "align_self": null,
      "border": null,
      "bottom": null,
      "display": null,
      "flex": null,
      "flex_flow": null,
      "grid_area": null,
      "grid_auto_columns": null,
      "grid_auto_flow": null,
      "grid_auto_rows": null,
      "grid_column": null,
      "grid_gap": null,
      "grid_row": null,
      "grid_template_areas": null,
      "grid_template_columns": null,
      "grid_template_rows": null,
      "height": null,
      "justify_content": null,
      "justify_items": null,
      "left": null,
      "margin": null,
      "max_height": null,
      "max_width": null,
      "min_height": null,
      "min_width": null,
      "object_fit": null,
      "object_position": null,
      "order": null,
      "overflow": null,
      "overflow_x": null,
      "overflow_y": null,
      "padding": null,
      "right": null,
      "top": null,
      "visibility": null,
      "width": null
     }
    },
    "e568ceefe63843aeb71c3a4d63ecfa7f": {
     "model_module": "@jupyter-widgets/controls",
     "model_module_version": "1.5.0",
     "model_name": "IntSliderModel",
     "state": {
      "_dom_classes": [],
      "_model_module": "@jupyter-widgets/controls",
      "_model_module_version": "1.5.0",
      "_model_name": "IntSliderModel",
      "_view_count": null,
      "_view_module": "@jupyter-widgets/controls",
      "_view_module_version": "1.5.0",
      "_view_name": "IntSliderView",
      "continuous_update": true,
      "description": "a",
      "description_tooltip": null,
      "disabled": false,
      "layout": "IPY_MODEL_be761665ab844a0eba370d1d164252db",
      "max": 10,
      "min": 1,
      "orientation": "horizontal",
      "readout": true,
      "readout_format": "d",
      "step": 1,
      "style": "IPY_MODEL_5d1a4a41a64f40d8965688d9ad21347e",
      "value": 5
     }
    },
    "ece8afc5821f41708a5d38ee293640dc": {
     "model_module": "@jupyter-widgets/base",
     "model_module_version": "1.2.0",
     "model_name": "LayoutModel",
     "state": {
      "_model_module": "@jupyter-widgets/base",
      "_model_module_version": "1.2.0",
      "_model_name": "LayoutModel",
      "_view_count": null,
      "_view_module": "@jupyter-widgets/base",
      "_view_module_version": "1.2.0",
      "_view_name": "LayoutView",
      "align_content": null,
      "align_items": null,
      "align_self": null,
      "border": null,
      "bottom": null,
      "display": null,
      "flex": null,
      "flex_flow": null,
      "grid_area": null,
      "grid_auto_columns": null,
      "grid_auto_flow": null,
      "grid_auto_rows": null,
      "grid_column": null,
      "grid_gap": null,
      "grid_row": null,
      "grid_template_areas": null,
      "grid_template_columns": null,
      "grid_template_rows": null,
      "height": null,
      "justify_content": null,
      "justify_items": null,
      "left": null,
      "margin": null,
      "max_height": null,
      "max_width": null,
      "min_height": null,
      "min_width": null,
      "object_fit": null,
      "object_position": null,
      "order": null,
      "overflow": null,
      "overflow_x": null,
      "overflow_y": null,
      "padding": null,
      "right": null,
      "top": null,
      "visibility": null,
      "width": null
     }
    },
    "eeb8a8f20d564ae0983dd83b40537184": {
     "model_module": "@jupyter-widgets/controls",
     "model_module_version": "1.5.0",
     "model_name": "IntSliderModel",
     "state": {
      "_dom_classes": [],
      "_model_module": "@jupyter-widgets/controls",
      "_model_module_version": "1.5.0",
      "_model_name": "IntSliderModel",
      "_view_count": null,
      "_view_module": "@jupyter-widgets/controls",
      "_view_module_version": "1.5.0",
      "_view_name": "IntSliderView",
      "continuous_update": true,
      "description": "b",
      "description_tooltip": null,
      "disabled": false,
      "layout": "IPY_MODEL_61159856cfff4d9095288802efc9574a",
      "max": 10,
      "min": 1,
      "orientation": "horizontal",
      "readout": true,
      "readout_format": "d",
      "step": 1,
      "style": "IPY_MODEL_352c8910515f4f93b4915e10a263dd15",
      "value": 5
     }
    },
    "ef2be04ad94d4e72889de63b7a33ddbf": {
     "model_module": "@jupyter-widgets/controls",
     "model_module_version": "1.5.0",
     "model_name": "IntSliderModel",
     "state": {
      "_dom_classes": [],
      "_model_module": "@jupyter-widgets/controls",
      "_model_module_version": "1.5.0",
      "_model_name": "IntSliderModel",
      "_view_count": null,
      "_view_module": "@jupyter-widgets/controls",
      "_view_module_version": "1.5.0",
      "_view_name": "IntSliderView",
      "continuous_update": true,
      "description": "x22",
      "description_tooltip": null,
      "disabled": false,
      "layout": "IPY_MODEL_82b2a94d584a4954bdabf2d5ce7a028e",
      "max": 10,
      "min": 1,
      "orientation": "horizontal",
      "readout": true,
      "readout_format": "d",
      "step": 1,
      "style": "IPY_MODEL_816c796ba91943bb9dc3c9465dfcd7f4",
      "value": 8
     }
    },
    "eff6851219164d06a014f3c5efdebae9": {
     "model_module": "@jupyter-widgets/output",
     "model_module_version": "1.0.0",
     "model_name": "OutputModel",
     "state": {
      "_dom_classes": [],
      "_model_module": "@jupyter-widgets/output",
      "_model_module_version": "1.0.0",
      "_model_name": "OutputModel",
      "_view_count": null,
      "_view_module": "@jupyter-widgets/output",
      "_view_module_version": "1.0.0",
      "_view_name": "OutputView",
      "layout": "IPY_MODEL_c0c54853a88c44568d36fd22aa9ce562",
      "msg_id": "",
      "outputs": [
       {
        "data": {
         "image/png": "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\n",
         "text/plain": "<Figure size 640x480 with 1 Axes>"
        },
        "metadata": {},
        "output_type": "display_data"
       }
      ]
     }
    },
    "f12d6b9037d54ac799501e523a7c6f4a": {
     "model_module": "@jupyter-widgets/controls",
     "model_module_version": "1.5.0",
     "model_name": "IntSliderModel",
     "state": {
      "_dom_classes": [],
      "_model_module": "@jupyter-widgets/controls",
      "_model_module_version": "1.5.0",
      "_model_name": "IntSliderModel",
      "_view_count": null,
      "_view_module": "@jupyter-widgets/controls",
      "_view_module_version": "1.5.0",
      "_view_name": "IntSliderView",
      "continuous_update": true,
      "description": "x",
      "description_tooltip": null,
      "disabled": false,
      "layout": "IPY_MODEL_5541ef2ae8bf4b44a6c108b7c3b93b48",
      "max": 10,
      "min": 0,
      "orientation": "horizontal",
      "readout": true,
      "readout_format": "d",
      "step": 1,
      "style": "IPY_MODEL_bffffd41990e4f2584cce9ed38eb3e15",
      "value": 5
     }
    },
    "f2c06c22aa1f428b9ca317deb7ae7c22": {
     "model_module": "@jupyter-widgets/controls",
     "model_module_version": "1.5.0",
     "model_name": "IntSliderModel",
     "state": {
      "_dom_classes": [],
      "_model_module": "@jupyter-widgets/controls",
      "_model_module_version": "1.5.0",
      "_model_name": "IntSliderModel",
      "_view_count": null,
      "_view_module": "@jupyter-widgets/controls",
      "_view_module_version": "1.5.0",
      "_view_name": "IntSliderView",
      "continuous_update": true,
      "description": "p1",
      "description_tooltip": null,
      "disabled": false,
      "layout": "IPY_MODEL_04ddda1f7cc54f30a047430001352640",
      "max": 10,
      "min": 1,
      "orientation": "horizontal",
      "readout": true,
      "readout_format": "d",
      "step": 1,
      "style": "IPY_MODEL_fc1bd4f55f9a46a19031861017172884",
      "value": 5
     }
    },
    "f435c01eafbc49fab79f712d0dfb79a9": {
     "model_module": "@jupyter-widgets/base",
     "model_module_version": "1.2.0",
     "model_name": "LayoutModel",
     "state": {
      "_model_module": "@jupyter-widgets/base",
      "_model_module_version": "1.2.0",
      "_model_name": "LayoutModel",
      "_view_count": null,
      "_view_module": "@jupyter-widgets/base",
      "_view_module_version": "1.2.0",
      "_view_name": "LayoutView",
      "align_content": null,
      "align_items": null,
      "align_self": null,
      "border": null,
      "bottom": null,
      "display": null,
      "flex": null,
      "flex_flow": null,
      "grid_area": null,
      "grid_auto_columns": null,
      "grid_auto_flow": null,
      "grid_auto_rows": null,
      "grid_column": null,
      "grid_gap": null,
      "grid_row": null,
      "grid_template_areas": null,
      "grid_template_columns": null,
      "grid_template_rows": null,
      "height": null,
      "justify_content": null,
      "justify_items": null,
      "left": null,
      "margin": null,
      "max_height": null,
      "max_width": null,
      "min_height": null,
      "min_width": null,
      "object_fit": null,
      "object_position": null,
      "order": null,
      "overflow": null,
      "overflow_x": null,
      "overflow_y": null,
      "padding": null,
      "right": null,
      "top": null,
      "visibility": null,
      "width": null
     }
    },
    "f9b7b6bd74a7413d927eb709711449de": {
     "model_module": "@jupyter-widgets/controls",
     "model_module_version": "1.5.0",
     "model_name": "SliderStyleModel",
     "state": {
      "_model_module": "@jupyter-widgets/controls",
      "_model_module_version": "1.5.0",
      "_model_name": "SliderStyleModel",
      "_view_count": null,
      "_view_module": "@jupyter-widgets/base",
      "_view_module_version": "1.2.0",
      "_view_name": "StyleView",
      "description_width": "",
      "handle_color": null
     }
    },
    "fc1bd4f55f9a46a19031861017172884": {
     "model_module": "@jupyter-widgets/controls",
     "model_module_version": "1.5.0",
     "model_name": "SliderStyleModel",
     "state": {
      "_model_module": "@jupyter-widgets/controls",
      "_model_module_version": "1.5.0",
      "_model_name": "SliderStyleModel",
      "_view_count": null,
      "_view_module": "@jupyter-widgets/base",
      "_view_module_version": "1.2.0",
      "_view_name": "StyleView",
      "description_width": "",
      "handle_color": null
     }
    },
    "feaa2bd4d51c47ee98331377a4d9c1d7": {
     "model_module": "@jupyter-widgets/controls",
     "model_module_version": "1.5.0",
     "model_name": "IntSliderModel",
     "state": {
      "_dom_classes": [],
      "_model_module": "@jupyter-widgets/controls",
      "_model_module_version": "1.5.0",
      "_model_name": "IntSliderModel",
      "_view_count": null,
      "_view_module": "@jupyter-widgets/controls",
      "_view_module_version": "1.5.0",
      "_view_name": "IntSliderView",
      "continuous_update": true,
      "description": "x2",
      "description_tooltip": null,
      "disabled": false,
      "layout": "IPY_MODEL_ece8afc5821f41708a5d38ee293640dc",
      "max": 10,
      "min": 1,
      "orientation": "horizontal",
      "readout": true,
      "readout_format": "d",
      "step": 1,
      "style": "IPY_MODEL_935c3b3ddb1c44888ff0b144555729d9",
      "value": 3
     }
    }
   }
  }
 },
 "nbformat": 4,
 "nbformat_minor": 1
}
